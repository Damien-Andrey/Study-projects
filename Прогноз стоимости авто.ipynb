{
 "cells": [
  {
   "cell_type": "markdown",
   "metadata": {},
   "source": [
    "## Описание проекта\n",
    "\n",
    "Сервис по продаже автомобилей с пробегом разрабатывает приложение для привлечения новых клиентов. В нём можно быстро узнать рыночную стоимость своего автомобиля. В вашем распоряжении исторические данные: технические характеристики, комплектации и цены автомобилей. Вам нужно построить модель для определения стоимости. \n",
    "\n",
    "Заказчику важны:\n",
    "\n",
    "- качество предсказания;\n",
    "- скорость предсказания;\n",
    "- время обучения."
   ]
  },
  {
   "cell_type": "markdown",
   "metadata": {},
   "source": [
    "# 1. Подготовка данных"
   ]
  },
  {
   "cell_type": "markdown",
   "metadata": {},
   "source": [
    "### Предварительное изучение данных"
   ]
  },
  {
   "cell_type": "code",
   "execution_count": 127,
   "metadata": {
    "scrolled": true
   },
   "outputs": [
    {
     "data": {
      "text/html": [
       "<div>\n",
       "<style scoped>\n",
       "    .dataframe tbody tr th:only-of-type {\n",
       "        vertical-align: middle;\n",
       "    }\n",
       "\n",
       "    .dataframe tbody tr th {\n",
       "        vertical-align: top;\n",
       "    }\n",
       "\n",
       "    .dataframe thead th {\n",
       "        text-align: right;\n",
       "    }\n",
       "</style>\n",
       "<table border=\"1\" class=\"dataframe\">\n",
       "  <thead>\n",
       "    <tr style=\"text-align: right;\">\n",
       "      <th></th>\n",
       "      <th>DateCrawled</th>\n",
       "      <th>Price</th>\n",
       "      <th>VehicleType</th>\n",
       "      <th>RegistrationYear</th>\n",
       "      <th>Gearbox</th>\n",
       "      <th>Power</th>\n",
       "      <th>Model</th>\n",
       "      <th>Kilometer</th>\n",
       "      <th>RegistrationMonth</th>\n",
       "      <th>FuelType</th>\n",
       "      <th>Brand</th>\n",
       "      <th>NotRepaired</th>\n",
       "      <th>DateCreated</th>\n",
       "      <th>NumberOfPictures</th>\n",
       "      <th>PostalCode</th>\n",
       "      <th>LastSeen</th>\n",
       "    </tr>\n",
       "  </thead>\n",
       "  <tbody>\n",
       "    <tr>\n",
       "      <td>0</td>\n",
       "      <td>2016-03-24 11:52:17</td>\n",
       "      <td>480</td>\n",
       "      <td>NaN</td>\n",
       "      <td>1993</td>\n",
       "      <td>manual</td>\n",
       "      <td>0</td>\n",
       "      <td>golf</td>\n",
       "      <td>150000</td>\n",
       "      <td>0</td>\n",
       "      <td>petrol</td>\n",
       "      <td>volkswagen</td>\n",
       "      <td>NaN</td>\n",
       "      <td>2016-03-24 00:00:00</td>\n",
       "      <td>0</td>\n",
       "      <td>70435</td>\n",
       "      <td>2016-04-07 03:16:57</td>\n",
       "    </tr>\n",
       "    <tr>\n",
       "      <td>1</td>\n",
       "      <td>2016-03-24 10:58:45</td>\n",
       "      <td>18300</td>\n",
       "      <td>coupe</td>\n",
       "      <td>2011</td>\n",
       "      <td>manual</td>\n",
       "      <td>190</td>\n",
       "      <td>NaN</td>\n",
       "      <td>125000</td>\n",
       "      <td>5</td>\n",
       "      <td>gasoline</td>\n",
       "      <td>audi</td>\n",
       "      <td>yes</td>\n",
       "      <td>2016-03-24 00:00:00</td>\n",
       "      <td>0</td>\n",
       "      <td>66954</td>\n",
       "      <td>2016-04-07 01:46:50</td>\n",
       "    </tr>\n",
       "    <tr>\n",
       "      <td>2</td>\n",
       "      <td>2016-03-14 12:52:21</td>\n",
       "      <td>9800</td>\n",
       "      <td>suv</td>\n",
       "      <td>2004</td>\n",
       "      <td>auto</td>\n",
       "      <td>163</td>\n",
       "      <td>grand</td>\n",
       "      <td>125000</td>\n",
       "      <td>8</td>\n",
       "      <td>gasoline</td>\n",
       "      <td>jeep</td>\n",
       "      <td>NaN</td>\n",
       "      <td>2016-03-14 00:00:00</td>\n",
       "      <td>0</td>\n",
       "      <td>90480</td>\n",
       "      <td>2016-04-05 12:47:46</td>\n",
       "    </tr>\n",
       "    <tr>\n",
       "      <td>3</td>\n",
       "      <td>2016-03-17 16:54:04</td>\n",
       "      <td>1500</td>\n",
       "      <td>small</td>\n",
       "      <td>2001</td>\n",
       "      <td>manual</td>\n",
       "      <td>75</td>\n",
       "      <td>golf</td>\n",
       "      <td>150000</td>\n",
       "      <td>6</td>\n",
       "      <td>petrol</td>\n",
       "      <td>volkswagen</td>\n",
       "      <td>no</td>\n",
       "      <td>2016-03-17 00:00:00</td>\n",
       "      <td>0</td>\n",
       "      <td>91074</td>\n",
       "      <td>2016-03-17 17:40:17</td>\n",
       "    </tr>\n",
       "    <tr>\n",
       "      <td>4</td>\n",
       "      <td>2016-03-31 17:25:20</td>\n",
       "      <td>3600</td>\n",
       "      <td>small</td>\n",
       "      <td>2008</td>\n",
       "      <td>manual</td>\n",
       "      <td>69</td>\n",
       "      <td>fabia</td>\n",
       "      <td>90000</td>\n",
       "      <td>7</td>\n",
       "      <td>gasoline</td>\n",
       "      <td>skoda</td>\n",
       "      <td>no</td>\n",
       "      <td>2016-03-31 00:00:00</td>\n",
       "      <td>0</td>\n",
       "      <td>60437</td>\n",
       "      <td>2016-04-06 10:17:21</td>\n",
       "    </tr>\n",
       "    <tr>\n",
       "      <td>5</td>\n",
       "      <td>2016-04-04 17:36:23</td>\n",
       "      <td>650</td>\n",
       "      <td>sedan</td>\n",
       "      <td>1995</td>\n",
       "      <td>manual</td>\n",
       "      <td>102</td>\n",
       "      <td>3er</td>\n",
       "      <td>150000</td>\n",
       "      <td>10</td>\n",
       "      <td>petrol</td>\n",
       "      <td>bmw</td>\n",
       "      <td>yes</td>\n",
       "      <td>2016-04-04 00:00:00</td>\n",
       "      <td>0</td>\n",
       "      <td>33775</td>\n",
       "      <td>2016-04-06 19:17:07</td>\n",
       "    </tr>\n",
       "    <tr>\n",
       "      <td>6</td>\n",
       "      <td>2016-04-01 20:48:51</td>\n",
       "      <td>2200</td>\n",
       "      <td>convertible</td>\n",
       "      <td>2004</td>\n",
       "      <td>manual</td>\n",
       "      <td>109</td>\n",
       "      <td>2_reihe</td>\n",
       "      <td>150000</td>\n",
       "      <td>8</td>\n",
       "      <td>petrol</td>\n",
       "      <td>peugeot</td>\n",
       "      <td>no</td>\n",
       "      <td>2016-04-01 00:00:00</td>\n",
       "      <td>0</td>\n",
       "      <td>67112</td>\n",
       "      <td>2016-04-05 18:18:39</td>\n",
       "    </tr>\n",
       "    <tr>\n",
       "      <td>7</td>\n",
       "      <td>2016-03-21 18:54:38</td>\n",
       "      <td>0</td>\n",
       "      <td>sedan</td>\n",
       "      <td>1980</td>\n",
       "      <td>manual</td>\n",
       "      <td>50</td>\n",
       "      <td>other</td>\n",
       "      <td>40000</td>\n",
       "      <td>7</td>\n",
       "      <td>petrol</td>\n",
       "      <td>volkswagen</td>\n",
       "      <td>no</td>\n",
       "      <td>2016-03-21 00:00:00</td>\n",
       "      <td>0</td>\n",
       "      <td>19348</td>\n",
       "      <td>2016-03-25 16:47:58</td>\n",
       "    </tr>\n",
       "    <tr>\n",
       "      <td>8</td>\n",
       "      <td>2016-04-04 23:42:13</td>\n",
       "      <td>14500</td>\n",
       "      <td>bus</td>\n",
       "      <td>2014</td>\n",
       "      <td>manual</td>\n",
       "      <td>125</td>\n",
       "      <td>c_max</td>\n",
       "      <td>30000</td>\n",
       "      <td>8</td>\n",
       "      <td>petrol</td>\n",
       "      <td>ford</td>\n",
       "      <td>NaN</td>\n",
       "      <td>2016-04-04 00:00:00</td>\n",
       "      <td>0</td>\n",
       "      <td>94505</td>\n",
       "      <td>2016-04-04 23:42:13</td>\n",
       "    </tr>\n",
       "    <tr>\n",
       "      <td>9</td>\n",
       "      <td>2016-03-17 10:53:50</td>\n",
       "      <td>999</td>\n",
       "      <td>small</td>\n",
       "      <td>1998</td>\n",
       "      <td>manual</td>\n",
       "      <td>101</td>\n",
       "      <td>golf</td>\n",
       "      <td>150000</td>\n",
       "      <td>0</td>\n",
       "      <td>NaN</td>\n",
       "      <td>volkswagen</td>\n",
       "      <td>NaN</td>\n",
       "      <td>2016-03-17 00:00:00</td>\n",
       "      <td>0</td>\n",
       "      <td>27472</td>\n",
       "      <td>2016-03-31 17:17:06</td>\n",
       "    </tr>\n",
       "  </tbody>\n",
       "</table>\n",
       "</div>"
      ],
      "text/plain": [
       "           DateCrawled  Price  VehicleType  RegistrationYear Gearbox  Power  \\\n",
       "0  2016-03-24 11:52:17    480          NaN              1993  manual      0   \n",
       "1  2016-03-24 10:58:45  18300        coupe              2011  manual    190   \n",
       "2  2016-03-14 12:52:21   9800          suv              2004    auto    163   \n",
       "3  2016-03-17 16:54:04   1500        small              2001  manual     75   \n",
       "4  2016-03-31 17:25:20   3600        small              2008  manual     69   \n",
       "5  2016-04-04 17:36:23    650        sedan              1995  manual    102   \n",
       "6  2016-04-01 20:48:51   2200  convertible              2004  manual    109   \n",
       "7  2016-03-21 18:54:38      0        sedan              1980  manual     50   \n",
       "8  2016-04-04 23:42:13  14500          bus              2014  manual    125   \n",
       "9  2016-03-17 10:53:50    999        small              1998  manual    101   \n",
       "\n",
       "     Model  Kilometer  RegistrationMonth  FuelType       Brand NotRepaired  \\\n",
       "0     golf     150000                  0    petrol  volkswagen         NaN   \n",
       "1      NaN     125000                  5  gasoline        audi         yes   \n",
       "2    grand     125000                  8  gasoline        jeep         NaN   \n",
       "3     golf     150000                  6    petrol  volkswagen          no   \n",
       "4    fabia      90000                  7  gasoline       skoda          no   \n",
       "5      3er     150000                 10    petrol         bmw         yes   \n",
       "6  2_reihe     150000                  8    petrol     peugeot          no   \n",
       "7    other      40000                  7    petrol  volkswagen          no   \n",
       "8    c_max      30000                  8    petrol        ford         NaN   \n",
       "9     golf     150000                  0       NaN  volkswagen         NaN   \n",
       "\n",
       "           DateCreated  NumberOfPictures  PostalCode             LastSeen  \n",
       "0  2016-03-24 00:00:00                 0       70435  2016-04-07 03:16:57  \n",
       "1  2016-03-24 00:00:00                 0       66954  2016-04-07 01:46:50  \n",
       "2  2016-03-14 00:00:00                 0       90480  2016-04-05 12:47:46  \n",
       "3  2016-03-17 00:00:00                 0       91074  2016-03-17 17:40:17  \n",
       "4  2016-03-31 00:00:00                 0       60437  2016-04-06 10:17:21  \n",
       "5  2016-04-04 00:00:00                 0       33775  2016-04-06 19:17:07  \n",
       "6  2016-04-01 00:00:00                 0       67112  2016-04-05 18:18:39  \n",
       "7  2016-03-21 00:00:00                 0       19348  2016-03-25 16:47:58  \n",
       "8  2016-04-04 00:00:00                 0       94505  2016-04-04 23:42:13  \n",
       "9  2016-03-17 00:00:00                 0       27472  2016-03-31 17:17:06  "
      ]
     },
     "execution_count": 127,
     "metadata": {},
     "output_type": "execute_result"
    }
   ],
   "source": [
    "import matplotlib.pyplot as plt\n",
    "import numpy as np\n",
    "import math\n",
    "import matplotlib\n",
    "import seaborn as sns\n",
    "%matplotlib inline\n",
    "import pandas as pd\n",
    "from matplotlib.pyplot import figure\n",
    "from sklearn.tree import DecisionTreeRegressor\n",
    "from sklearn import datasets, linear_model, preprocessing\n",
    "from sklearn.ensemble import RandomForestRegressor\n",
    "from sklearn.model_selection import GridSearchCV\n",
    "from sklearn.linear_model import LogisticRegression\n",
    "from sklearn.metrics import accuracy_score\n",
    "from sklearn.model_selection import train_test_split\n",
    "from sklearn.metrics import mean_squared_error\n",
    "from sklearn.preprocessing import StandardScaler, Normalizer, OrdinalEncoder\n",
    "from sklearn.linear_model import LinearRegression\n",
    "from sklearn.metrics import confusion_matrix\n",
    "from sklearn.metrics import recall_score\n",
    "from sklearn.metrics import precision_score\n",
    "from sklearn.metrics import f1_score\n",
    "from sklearn.utils import shuffle\n",
    "from sklearn.metrics import roc_curve\n",
    "from sklearn.metrics import roc_auc_score\n",
    "\n",
    "from time import time\n",
    "import numpy as np\n",
    "import pandas as pd\n",
    "from sklearn.model_selection import train_test_split\n",
    "from sklearn.svm import LinearSVC\n",
    "\n",
    "from sklearn.experimental import enable_hist_gradient_boosting\n",
    "from sklearn.ensemble import (RandomForestRegressor,\n",
    "                              AdaBoostRegressor,\n",
    "                              GradientBoostingRegressor,\n",
    "                              HistGradientBoostingRegressor)\n",
    "from xgboost import XGBRegressor\n",
    "from lightgbm import LGBMRegressor\n",
    "from catboost import CatBoostRegressor\n",
    "import matplotlib.pyplot as plt\n",
    "data = pd.read_csv('/datasets/autos.csv')\n",
    "data.head(10)"
   ]
  },
  {
   "cell_type": "code",
   "execution_count": 128,
   "metadata": {},
   "outputs": [
    {
     "name": "stdout",
     "output_type": "stream",
     "text": [
      "<class 'pandas.core.frame.DataFrame'>\n",
      "RangeIndex: 354369 entries, 0 to 354368\n",
      "Data columns (total 16 columns):\n",
      "DateCrawled          354369 non-null object\n",
      "Price                354369 non-null int64\n",
      "VehicleType          316879 non-null object\n",
      "RegistrationYear     354369 non-null int64\n",
      "Gearbox              334536 non-null object\n",
      "Power                354369 non-null int64\n",
      "Model                334664 non-null object\n",
      "Kilometer            354369 non-null int64\n",
      "RegistrationMonth    354369 non-null int64\n",
      "FuelType             321474 non-null object\n",
      "Brand                354369 non-null object\n",
      "NotRepaired          283215 non-null object\n",
      "DateCreated          354369 non-null object\n",
      "NumberOfPictures     354369 non-null int64\n",
      "PostalCode           354369 non-null int64\n",
      "LastSeen             354369 non-null object\n",
      "dtypes: int64(7), object(9)\n",
      "memory usage: 43.3+ MB\n"
     ]
    }
   ],
   "source": [
    "data.info()"
   ]
  },
  {
   "cell_type": "markdown",
   "metadata": {},
   "source": [
    "Наш набор данных содержит 16 столбцов, 9 из которых хранятся в виде строк, а 7 в виде целых чисел. Есть несколько столбцов с нулевыми значениями, но ни один столбец не имеет более чем 20% нулевых значений. Есть несколько столбцов, которые содержат даты, хранящиеся в виде строк.\n",
    "\n",
    "Начнем с  имен столбцов, чтобы облегчить работу с данными."
   ]
  },
  {
   "cell_type": "code",
   "execution_count": 129,
   "metadata": {},
   "outputs": [
    {
     "data": {
      "text/plain": [
       "Index(['DateCrawled', 'Price', 'VehicleType', 'RegistrationYear', 'Gearbox',\n",
       "       'Power', 'Model', 'Kilometer', 'RegistrationMonth', 'FuelType', 'Brand',\n",
       "       'NotRepaired', 'DateCreated', 'NumberOfPictures', 'PostalCode',\n",
       "       'LastSeen'],\n",
       "      dtype='object')"
      ]
     },
     "execution_count": 129,
     "metadata": {},
     "output_type": "execute_result"
    }
   ],
   "source": [
    "data.columns"
   ]
  },
  {
   "cell_type": "markdown",
   "metadata": {},
   "source": [
    "Сделаем названия столбцов более удобными и соответствующими питоновским стандартам качества."
   ]
  },
  {
   "cell_type": "code",
   "execution_count": 130,
   "metadata": {},
   "outputs": [
    {
     "data": {
      "text/html": [
       "<div>\n",
       "<style scoped>\n",
       "    .dataframe tbody tr th:only-of-type {\n",
       "        vertical-align: middle;\n",
       "    }\n",
       "\n",
       "    .dataframe tbody tr th {\n",
       "        vertical-align: top;\n",
       "    }\n",
       "\n",
       "    .dataframe thead th {\n",
       "        text-align: right;\n",
       "    }\n",
       "</style>\n",
       "<table border=\"1\" class=\"dataframe\">\n",
       "  <thead>\n",
       "    <tr style=\"text-align: right;\">\n",
       "      <th></th>\n",
       "      <th>date_crawled</th>\n",
       "      <th>price</th>\n",
       "      <th>vehicle_type</th>\n",
       "      <th>registration_year</th>\n",
       "      <th>gearbox</th>\n",
       "      <th>power</th>\n",
       "      <th>model</th>\n",
       "      <th>mileage</th>\n",
       "      <th>registration_month</th>\n",
       "      <th>fuel_type</th>\n",
       "      <th>brand</th>\n",
       "      <th>not_repaired</th>\n",
       "      <th>date_created</th>\n",
       "      <th>number_of_pictures</th>\n",
       "      <th>postal_code</th>\n",
       "      <th>last_seen</th>\n",
       "    </tr>\n",
       "  </thead>\n",
       "  <tbody>\n",
       "    <tr>\n",
       "      <td>0</td>\n",
       "      <td>2016-03-24 11:52:17</td>\n",
       "      <td>480</td>\n",
       "      <td>NaN</td>\n",
       "      <td>1993</td>\n",
       "      <td>manual</td>\n",
       "      <td>0</td>\n",
       "      <td>golf</td>\n",
       "      <td>150000</td>\n",
       "      <td>0</td>\n",
       "      <td>petrol</td>\n",
       "      <td>volkswagen</td>\n",
       "      <td>NaN</td>\n",
       "      <td>2016-03-24 00:00:00</td>\n",
       "      <td>0</td>\n",
       "      <td>70435</td>\n",
       "      <td>2016-04-07 03:16:57</td>\n",
       "    </tr>\n",
       "    <tr>\n",
       "      <td>1</td>\n",
       "      <td>2016-03-24 10:58:45</td>\n",
       "      <td>18300</td>\n",
       "      <td>coupe</td>\n",
       "      <td>2011</td>\n",
       "      <td>manual</td>\n",
       "      <td>190</td>\n",
       "      <td>NaN</td>\n",
       "      <td>125000</td>\n",
       "      <td>5</td>\n",
       "      <td>gasoline</td>\n",
       "      <td>audi</td>\n",
       "      <td>yes</td>\n",
       "      <td>2016-03-24 00:00:00</td>\n",
       "      <td>0</td>\n",
       "      <td>66954</td>\n",
       "      <td>2016-04-07 01:46:50</td>\n",
       "    </tr>\n",
       "    <tr>\n",
       "      <td>2</td>\n",
       "      <td>2016-03-14 12:52:21</td>\n",
       "      <td>9800</td>\n",
       "      <td>suv</td>\n",
       "      <td>2004</td>\n",
       "      <td>auto</td>\n",
       "      <td>163</td>\n",
       "      <td>grand</td>\n",
       "      <td>125000</td>\n",
       "      <td>8</td>\n",
       "      <td>gasoline</td>\n",
       "      <td>jeep</td>\n",
       "      <td>NaN</td>\n",
       "      <td>2016-03-14 00:00:00</td>\n",
       "      <td>0</td>\n",
       "      <td>90480</td>\n",
       "      <td>2016-04-05 12:47:46</td>\n",
       "    </tr>\n",
       "    <tr>\n",
       "      <td>3</td>\n",
       "      <td>2016-03-17 16:54:04</td>\n",
       "      <td>1500</td>\n",
       "      <td>small</td>\n",
       "      <td>2001</td>\n",
       "      <td>manual</td>\n",
       "      <td>75</td>\n",
       "      <td>golf</td>\n",
       "      <td>150000</td>\n",
       "      <td>6</td>\n",
       "      <td>petrol</td>\n",
       "      <td>volkswagen</td>\n",
       "      <td>no</td>\n",
       "      <td>2016-03-17 00:00:00</td>\n",
       "      <td>0</td>\n",
       "      <td>91074</td>\n",
       "      <td>2016-03-17 17:40:17</td>\n",
       "    </tr>\n",
       "    <tr>\n",
       "      <td>4</td>\n",
       "      <td>2016-03-31 17:25:20</td>\n",
       "      <td>3600</td>\n",
       "      <td>small</td>\n",
       "      <td>2008</td>\n",
       "      <td>manual</td>\n",
       "      <td>69</td>\n",
       "      <td>fabia</td>\n",
       "      <td>90000</td>\n",
       "      <td>7</td>\n",
       "      <td>gasoline</td>\n",
       "      <td>skoda</td>\n",
       "      <td>no</td>\n",
       "      <td>2016-03-31 00:00:00</td>\n",
       "      <td>0</td>\n",
       "      <td>60437</td>\n",
       "      <td>2016-04-06 10:17:21</td>\n",
       "    </tr>\n",
       "  </tbody>\n",
       "</table>\n",
       "</div>"
      ],
      "text/plain": [
       "          date_crawled  price vehicle_type  registration_year gearbox  power  \\\n",
       "0  2016-03-24 11:52:17    480          NaN               1993  manual      0   \n",
       "1  2016-03-24 10:58:45  18300        coupe               2011  manual    190   \n",
       "2  2016-03-14 12:52:21   9800          suv               2004    auto    163   \n",
       "3  2016-03-17 16:54:04   1500        small               2001  manual     75   \n",
       "4  2016-03-31 17:25:20   3600        small               2008  manual     69   \n",
       "\n",
       "   model  mileage  registration_month fuel_type       brand not_repaired  \\\n",
       "0   golf   150000                   0    petrol  volkswagen          NaN   \n",
       "1    NaN   125000                   5  gasoline        audi          yes   \n",
       "2  grand   125000                   8  gasoline        jeep          NaN   \n",
       "3   golf   150000                   6    petrol  volkswagen           no   \n",
       "4  fabia    90000                   7  gasoline       skoda           no   \n",
       "\n",
       "          date_created  number_of_pictures  postal_code            last_seen  \n",
       "0  2016-03-24 00:00:00                   0        70435  2016-04-07 03:16:57  \n",
       "1  2016-03-24 00:00:00                   0        66954  2016-04-07 01:46:50  \n",
       "2  2016-03-14 00:00:00                   0        90480  2016-04-05 12:47:46  \n",
       "3  2016-03-17 00:00:00                   0        91074  2016-03-17 17:40:17  \n",
       "4  2016-03-31 00:00:00                   0        60437  2016-04-06 10:17:21  "
      ]
     },
     "execution_count": 130,
     "metadata": {},
     "output_type": "execute_result"
    }
   ],
   "source": [
    "data.columns = ['date_crawled', 'price', 'vehicle_type', 'registration_year', 'gearbox',\n",
    "       'power', 'model', 'mileage', 'registration_month', 'fuel_type', 'brand',\n",
    "       'not_repaired', 'date_created', 'number_of_pictures', 'postal_code',\n",
    "       'last_seen']\n",
    "data.head()"
   ]
  },
  {
   "cell_type": "markdown",
   "metadata": {},
   "source": [
    "Красота! Пол дела сделано) Теперь посмотрим описание наших данных\n"
   ]
  },
  {
   "cell_type": "code",
   "execution_count": 131,
   "metadata": {},
   "outputs": [
    {
     "data": {
      "text/html": [
       "<div>\n",
       "<style scoped>\n",
       "    .dataframe tbody tr th:only-of-type {\n",
       "        vertical-align: middle;\n",
       "    }\n",
       "\n",
       "    .dataframe tbody tr th {\n",
       "        vertical-align: top;\n",
       "    }\n",
       "\n",
       "    .dataframe thead th {\n",
       "        text-align: right;\n",
       "    }\n",
       "</style>\n",
       "<table border=\"1\" class=\"dataframe\">\n",
       "  <thead>\n",
       "    <tr style=\"text-align: right;\">\n",
       "      <th></th>\n",
       "      <th>date_crawled</th>\n",
       "      <th>price</th>\n",
       "      <th>vehicle_type</th>\n",
       "      <th>registration_year</th>\n",
       "      <th>gearbox</th>\n",
       "      <th>power</th>\n",
       "      <th>model</th>\n",
       "      <th>mileage</th>\n",
       "      <th>registration_month</th>\n",
       "      <th>fuel_type</th>\n",
       "      <th>brand</th>\n",
       "      <th>not_repaired</th>\n",
       "      <th>date_created</th>\n",
       "      <th>number_of_pictures</th>\n",
       "      <th>postal_code</th>\n",
       "      <th>last_seen</th>\n",
       "    </tr>\n",
       "  </thead>\n",
       "  <tbody>\n",
       "    <tr>\n",
       "      <td>count</td>\n",
       "      <td>354369</td>\n",
       "      <td>354369.000000</td>\n",
       "      <td>316879</td>\n",
       "      <td>354369.000000</td>\n",
       "      <td>334536</td>\n",
       "      <td>354369.000000</td>\n",
       "      <td>334664</td>\n",
       "      <td>354369.000000</td>\n",
       "      <td>354369.000000</td>\n",
       "      <td>321474</td>\n",
       "      <td>354369</td>\n",
       "      <td>283215</td>\n",
       "      <td>354369</td>\n",
       "      <td>354369.0</td>\n",
       "      <td>354369.000000</td>\n",
       "      <td>354369</td>\n",
       "    </tr>\n",
       "    <tr>\n",
       "      <td>unique</td>\n",
       "      <td>271174</td>\n",
       "      <td>NaN</td>\n",
       "      <td>8</td>\n",
       "      <td>NaN</td>\n",
       "      <td>2</td>\n",
       "      <td>NaN</td>\n",
       "      <td>250</td>\n",
       "      <td>NaN</td>\n",
       "      <td>NaN</td>\n",
       "      <td>7</td>\n",
       "      <td>40</td>\n",
       "      <td>2</td>\n",
       "      <td>109</td>\n",
       "      <td>NaN</td>\n",
       "      <td>NaN</td>\n",
       "      <td>179150</td>\n",
       "    </tr>\n",
       "    <tr>\n",
       "      <td>top</td>\n",
       "      <td>2016-03-24 14:49:47</td>\n",
       "      <td>NaN</td>\n",
       "      <td>sedan</td>\n",
       "      <td>NaN</td>\n",
       "      <td>manual</td>\n",
       "      <td>NaN</td>\n",
       "      <td>golf</td>\n",
       "      <td>NaN</td>\n",
       "      <td>NaN</td>\n",
       "      <td>petrol</td>\n",
       "      <td>volkswagen</td>\n",
       "      <td>no</td>\n",
       "      <td>2016-04-03 00:00:00</td>\n",
       "      <td>NaN</td>\n",
       "      <td>NaN</td>\n",
       "      <td>2016-04-06 13:45:54</td>\n",
       "    </tr>\n",
       "    <tr>\n",
       "      <td>freq</td>\n",
       "      <td>7</td>\n",
       "      <td>NaN</td>\n",
       "      <td>91457</td>\n",
       "      <td>NaN</td>\n",
       "      <td>268251</td>\n",
       "      <td>NaN</td>\n",
       "      <td>29232</td>\n",
       "      <td>NaN</td>\n",
       "      <td>NaN</td>\n",
       "      <td>216352</td>\n",
       "      <td>77013</td>\n",
       "      <td>247161</td>\n",
       "      <td>13719</td>\n",
       "      <td>NaN</td>\n",
       "      <td>NaN</td>\n",
       "      <td>17</td>\n",
       "    </tr>\n",
       "    <tr>\n",
       "      <td>mean</td>\n",
       "      <td>NaN</td>\n",
       "      <td>4416.656776</td>\n",
       "      <td>NaN</td>\n",
       "      <td>2004.234448</td>\n",
       "      <td>NaN</td>\n",
       "      <td>110.094337</td>\n",
       "      <td>NaN</td>\n",
       "      <td>128211.172535</td>\n",
       "      <td>5.714645</td>\n",
       "      <td>NaN</td>\n",
       "      <td>NaN</td>\n",
       "      <td>NaN</td>\n",
       "      <td>NaN</td>\n",
       "      <td>0.0</td>\n",
       "      <td>50508.689087</td>\n",
       "      <td>NaN</td>\n",
       "    </tr>\n",
       "    <tr>\n",
       "      <td>std</td>\n",
       "      <td>NaN</td>\n",
       "      <td>4514.158514</td>\n",
       "      <td>NaN</td>\n",
       "      <td>90.227958</td>\n",
       "      <td>NaN</td>\n",
       "      <td>189.850405</td>\n",
       "      <td>NaN</td>\n",
       "      <td>37905.341530</td>\n",
       "      <td>3.726421</td>\n",
       "      <td>NaN</td>\n",
       "      <td>NaN</td>\n",
       "      <td>NaN</td>\n",
       "      <td>NaN</td>\n",
       "      <td>0.0</td>\n",
       "      <td>25783.096248</td>\n",
       "      <td>NaN</td>\n",
       "    </tr>\n",
       "    <tr>\n",
       "      <td>min</td>\n",
       "      <td>NaN</td>\n",
       "      <td>0.000000</td>\n",
       "      <td>NaN</td>\n",
       "      <td>1000.000000</td>\n",
       "      <td>NaN</td>\n",
       "      <td>0.000000</td>\n",
       "      <td>NaN</td>\n",
       "      <td>5000.000000</td>\n",
       "      <td>0.000000</td>\n",
       "      <td>NaN</td>\n",
       "      <td>NaN</td>\n",
       "      <td>NaN</td>\n",
       "      <td>NaN</td>\n",
       "      <td>0.0</td>\n",
       "      <td>1067.000000</td>\n",
       "      <td>NaN</td>\n",
       "    </tr>\n",
       "    <tr>\n",
       "      <td>25%</td>\n",
       "      <td>NaN</td>\n",
       "      <td>1050.000000</td>\n",
       "      <td>NaN</td>\n",
       "      <td>1999.000000</td>\n",
       "      <td>NaN</td>\n",
       "      <td>69.000000</td>\n",
       "      <td>NaN</td>\n",
       "      <td>125000.000000</td>\n",
       "      <td>3.000000</td>\n",
       "      <td>NaN</td>\n",
       "      <td>NaN</td>\n",
       "      <td>NaN</td>\n",
       "      <td>NaN</td>\n",
       "      <td>0.0</td>\n",
       "      <td>30165.000000</td>\n",
       "      <td>NaN</td>\n",
       "    </tr>\n",
       "    <tr>\n",
       "      <td>50%</td>\n",
       "      <td>NaN</td>\n",
       "      <td>2700.000000</td>\n",
       "      <td>NaN</td>\n",
       "      <td>2003.000000</td>\n",
       "      <td>NaN</td>\n",
       "      <td>105.000000</td>\n",
       "      <td>NaN</td>\n",
       "      <td>150000.000000</td>\n",
       "      <td>6.000000</td>\n",
       "      <td>NaN</td>\n",
       "      <td>NaN</td>\n",
       "      <td>NaN</td>\n",
       "      <td>NaN</td>\n",
       "      <td>0.0</td>\n",
       "      <td>49413.000000</td>\n",
       "      <td>NaN</td>\n",
       "    </tr>\n",
       "    <tr>\n",
       "      <td>75%</td>\n",
       "      <td>NaN</td>\n",
       "      <td>6400.000000</td>\n",
       "      <td>NaN</td>\n",
       "      <td>2008.000000</td>\n",
       "      <td>NaN</td>\n",
       "      <td>143.000000</td>\n",
       "      <td>NaN</td>\n",
       "      <td>150000.000000</td>\n",
       "      <td>9.000000</td>\n",
       "      <td>NaN</td>\n",
       "      <td>NaN</td>\n",
       "      <td>NaN</td>\n",
       "      <td>NaN</td>\n",
       "      <td>0.0</td>\n",
       "      <td>71083.000000</td>\n",
       "      <td>NaN</td>\n",
       "    </tr>\n",
       "    <tr>\n",
       "      <td>max</td>\n",
       "      <td>NaN</td>\n",
       "      <td>20000.000000</td>\n",
       "      <td>NaN</td>\n",
       "      <td>9999.000000</td>\n",
       "      <td>NaN</td>\n",
       "      <td>20000.000000</td>\n",
       "      <td>NaN</td>\n",
       "      <td>150000.000000</td>\n",
       "      <td>12.000000</td>\n",
       "      <td>NaN</td>\n",
       "      <td>NaN</td>\n",
       "      <td>NaN</td>\n",
       "      <td>NaN</td>\n",
       "      <td>0.0</td>\n",
       "      <td>99998.000000</td>\n",
       "      <td>NaN</td>\n",
       "    </tr>\n",
       "  </tbody>\n",
       "</table>\n",
       "</div>"
      ],
      "text/plain": [
       "               date_crawled          price vehicle_type  registration_year  \\\n",
       "count                354369  354369.000000       316879      354369.000000   \n",
       "unique               271174            NaN            8                NaN   \n",
       "top     2016-03-24 14:49:47            NaN        sedan                NaN   \n",
       "freq                      7            NaN        91457                NaN   \n",
       "mean                    NaN    4416.656776          NaN        2004.234448   \n",
       "std                     NaN    4514.158514          NaN          90.227958   \n",
       "min                     NaN       0.000000          NaN        1000.000000   \n",
       "25%                     NaN    1050.000000          NaN        1999.000000   \n",
       "50%                     NaN    2700.000000          NaN        2003.000000   \n",
       "75%                     NaN    6400.000000          NaN        2008.000000   \n",
       "max                     NaN   20000.000000          NaN        9999.000000   \n",
       "\n",
       "       gearbox          power   model        mileage  registration_month  \\\n",
       "count   334536  354369.000000  334664  354369.000000       354369.000000   \n",
       "unique       2            NaN     250            NaN                 NaN   \n",
       "top     manual            NaN    golf            NaN                 NaN   \n",
       "freq    268251            NaN   29232            NaN                 NaN   \n",
       "mean       NaN     110.094337     NaN  128211.172535            5.714645   \n",
       "std        NaN     189.850405     NaN   37905.341530            3.726421   \n",
       "min        NaN       0.000000     NaN    5000.000000            0.000000   \n",
       "25%        NaN      69.000000     NaN  125000.000000            3.000000   \n",
       "50%        NaN     105.000000     NaN  150000.000000            6.000000   \n",
       "75%        NaN     143.000000     NaN  150000.000000            9.000000   \n",
       "max        NaN   20000.000000     NaN  150000.000000           12.000000   \n",
       "\n",
       "       fuel_type       brand not_repaired         date_created  \\\n",
       "count     321474      354369       283215               354369   \n",
       "unique         7          40            2                  109   \n",
       "top       petrol  volkswagen           no  2016-04-03 00:00:00   \n",
       "freq      216352       77013       247161                13719   \n",
       "mean         NaN         NaN          NaN                  NaN   \n",
       "std          NaN         NaN          NaN                  NaN   \n",
       "min          NaN         NaN          NaN                  NaN   \n",
       "25%          NaN         NaN          NaN                  NaN   \n",
       "50%          NaN         NaN          NaN                  NaN   \n",
       "75%          NaN         NaN          NaN                  NaN   \n",
       "max          NaN         NaN          NaN                  NaN   \n",
       "\n",
       "        number_of_pictures    postal_code            last_seen  \n",
       "count             354369.0  354369.000000               354369  \n",
       "unique                 NaN            NaN               179150  \n",
       "top                    NaN            NaN  2016-04-06 13:45:54  \n",
       "freq                   NaN            NaN                   17  \n",
       "mean                   0.0   50508.689087                  NaN  \n",
       "std                    0.0   25783.096248                  NaN  \n",
       "min                    0.0    1067.000000                  NaN  \n",
       "25%                    0.0   30165.000000                  NaN  \n",
       "50%                    0.0   49413.000000                  NaN  \n",
       "75%                    0.0   71083.000000                  NaN  \n",
       "max                    0.0   99998.000000                  NaN  "
      ]
     },
     "execution_count": 131,
     "metadata": {},
     "output_type": "execute_result"
    }
   ],
   "source": [
    "data.describe(include='all')#добавили include='all', чтобы посмотреть все столбцы"
   ]
  },
  {
   "cell_type": "markdown",
   "metadata": {},
   "source": [
    "Какие аномалии бросаются в глаза:\n",
    "\n",
    "1) Существуют объекты с нулевой ценой. \n",
    "\n",
    "2) Авто с 1000 и 9999 годом выпуска.\n",
    "\n",
    "3) Авто с нулевой мощностью и 20000 л.с. Подозрительно совпадает с максимальной ценой авто. \n",
    "\n",
    "4) Т.к квантили 50%, 75%, и max равны 150 000 в столбце с пробегом, можно сделать вывод о том, что скорее всего в программе было значение на выбор \"Пробег > 150000 км\" и специалист соот-но его всегда выбирал при превышении значения пробега 150 000 км.\n",
    "\n",
    "5) Авто с нулевым месяцем регистрации. \n",
    "\n",
    "6) В столбце с кол-вом фото одни 0. Пожалуй, начнем с него."
   ]
  },
  {
   "cell_type": "code",
   "execution_count": 132,
   "metadata": {},
   "outputs": [
    {
     "data": {
      "text/plain": [
       "0    354369\n",
       "Name: number_of_pictures, dtype: int64"
      ]
     },
     "execution_count": 132,
     "metadata": {},
     "output_type": "execute_result"
    }
   ],
   "source": [
    "data['number_of_pictures'].value_counts()"
   ]
  },
  {
   "cell_type": "markdown",
   "metadata": {},
   "source": [
    "Действительно, одни нули. Удалим его, а также почтовый индекс, т.к. во-первых, почтовый индекс владельца еще не говорит о месте продажи(место постоянного проживания владельца может не совпадать с фактическим нахождением авто и самого владельца), а во-вторых, внутри ЕС нет таможенных пошлин, поэтому рынок быстро бы уровнял цены, если бы они сильно расходились в соседних регионах."
   ]
  },
  {
   "cell_type": "code",
   "execution_count": 133,
   "metadata": {},
   "outputs": [],
   "source": [
    "data.drop(columns = ['number_of_pictures', 'postal_code'], inplace = True)"
   ]
  },
  {
   "cell_type": "markdown",
   "metadata": {},
   "source": [
    "### Подготовка данных по цене и пробегу"
   ]
  },
  {
   "cell_type": "code",
   "execution_count": 134,
   "metadata": {},
   "outputs": [
    {
     "data": {
      "text/plain": [
       "150000    238209\n",
       "125000     36454\n",
       "100000     14882\n",
       "90000      11567\n",
       "80000      10047\n",
       "70000       8593\n",
       "60000       7444\n",
       "5000        6397\n",
       "50000       6232\n",
       "40000       4911\n",
       "30000       4436\n",
       "20000       3975\n",
       "10000       1222\n",
       "Name: mileage, dtype: int64"
      ]
     },
     "execution_count": 134,
     "metadata": {},
     "output_type": "execute_result"
    }
   ],
   "source": [
    "data['mileage'].value_counts()"
   ]
  },
  {
   "cell_type": "markdown",
   "metadata": {},
   "source": [
    "Как мы и описывали ранее, видим огромное кол-во объектов со значением пробега 150000. Наша теория с выбором значения скорее верна, т.к. значения, которые идут до этого, набрали гораздо меньше объектов. Таким образом, в данном столбце дискретные значения от 5000 до 150000."
   ]
  },
  {
   "cell_type": "code",
   "execution_count": 135,
   "metadata": {},
   "outputs": [
    {
     "name": "stdout",
     "output_type": "stream",
     "text": [
      "(3731,)\n",
      "count    354369.000000\n",
      "mean       4416.656776\n",
      "std        4514.158514\n",
      "min           0.000000\n",
      "25%        1050.000000\n",
      "50%        2700.000000\n",
      "75%        6400.000000\n",
      "max       20000.000000\n",
      "Name: price, dtype: float64\n"
     ]
    },
    {
     "data": {
      "text/plain": [
       "0       10772\n",
       "500      5670\n",
       "1500     5394\n",
       "1000     4649\n",
       "1200     4594\n",
       "2500     4438\n",
       "600      3819\n",
       "3500     3792\n",
       "800      3784\n",
       "2000     3431\n",
       "999      3364\n",
       "750      3203\n",
       "650      3150\n",
       "4500     3053\n",
       "850      2946\n",
       "700      2936\n",
       "2200     2936\n",
       "1800     2886\n",
       "900      2874\n",
       "950      2793\n",
       "Name: price, dtype: int64"
      ]
     },
     "execution_count": 135,
     "metadata": {},
     "output_type": "execute_result"
    }
   ],
   "source": [
    "print(data[\"price\"].unique().shape)\n",
    "print(data[\"price\"].describe())\n",
    "data[\"price\"].value_counts().head(20)"
   ]
  },
  {
   "cell_type": "markdown",
   "metadata": {},
   "source": [
    "В стоблце с ценой уже гораздо больше уникальных значений - 3731. При этом 10772 авто с ценой 0 (их надо будет удалить). Посмотрим, что там вообще творится на ценовом дне."
   ]
  },
  {
   "cell_type": "code",
   "execution_count": 136,
   "metadata": {},
   "outputs": [
    {
     "data": {
      "text/plain": [
       "0     10772\n",
       "1      1189\n",
       "2        12\n",
       "3         8\n",
       "4         1\n",
       "5        26\n",
       "7         3\n",
       "8         9\n",
       "9         8\n",
       "10       84\n",
       "11        5\n",
       "12        8\n",
       "13        7\n",
       "14        5\n",
       "15       27\n",
       "16        2\n",
       "17        5\n",
       "18        3\n",
       "19        3\n",
       "20       51\n",
       "Name: price, dtype: int64"
      ]
     },
     "execution_count": 136,
     "metadata": {},
     "output_type": "execute_result"
    }
   ],
   "source": [
    "data[\"price\"].value_counts().sort_index(ascending=True).head(20)"
   ]
  },
  {
   "cell_type": "markdown",
   "metadata": {},
   "source": [
    "Удалим значения с 0(у нас все-таки сервис по продаже авто, а не по дарению), но оставим с 1. Возможно, состояние машин было настолько ужасным, что их действительно готовы были продать за 1$."
   ]
  },
  {
   "cell_type": "code",
   "execution_count": 137,
   "metadata": {},
   "outputs": [
    {
     "data": {
      "text/plain": [
       "count    343597.000000\n",
       "mean       4555.121974\n",
       "std        4515.058553\n",
       "min           1.000000\n",
       "25%        1200.000000\n",
       "50%        2890.000000\n",
       "75%        6500.000000\n",
       "max       20000.000000\n",
       "Name: price, dtype: float64"
      ]
     },
     "execution_count": 137,
     "metadata": {},
     "output_type": "execute_result"
    }
   ],
   "source": [
    "data = data[data['price'] != 0]\n",
    "data[\"price\"].describe()"
   ]
  },
  {
   "cell_type": "markdown",
   "metadata": {},
   "source": [
    "### Подготовка данных с датами"
   ]
  },
  {
   "cell_type": "markdown",
   "metadata": {},
   "source": [
    "Сначала посмотрим на столбцы date_crawled, date_created, last_seen"
   ]
  },
  {
   "cell_type": "code",
   "execution_count": 138,
   "metadata": {},
   "outputs": [
    {
     "data": {
      "text/html": [
       "<div>\n",
       "<style scoped>\n",
       "    .dataframe tbody tr th:only-of-type {\n",
       "        vertical-align: middle;\n",
       "    }\n",
       "\n",
       "    .dataframe tbody tr th {\n",
       "        vertical-align: top;\n",
       "    }\n",
       "\n",
       "    .dataframe thead th {\n",
       "        text-align: right;\n",
       "    }\n",
       "</style>\n",
       "<table border=\"1\" class=\"dataframe\">\n",
       "  <thead>\n",
       "    <tr style=\"text-align: right;\">\n",
       "      <th></th>\n",
       "      <th>date_crawled</th>\n",
       "      <th>date_created</th>\n",
       "      <th>last_seen</th>\n",
       "    </tr>\n",
       "  </thead>\n",
       "  <tbody>\n",
       "    <tr>\n",
       "      <td>0</td>\n",
       "      <td>2016-03-24 11:52:17</td>\n",
       "      <td>2016-03-24 00:00:00</td>\n",
       "      <td>2016-04-07 03:16:57</td>\n",
       "    </tr>\n",
       "    <tr>\n",
       "      <td>1</td>\n",
       "      <td>2016-03-24 10:58:45</td>\n",
       "      <td>2016-03-24 00:00:00</td>\n",
       "      <td>2016-04-07 01:46:50</td>\n",
       "    </tr>\n",
       "    <tr>\n",
       "      <td>2</td>\n",
       "      <td>2016-03-14 12:52:21</td>\n",
       "      <td>2016-03-14 00:00:00</td>\n",
       "      <td>2016-04-05 12:47:46</td>\n",
       "    </tr>\n",
       "    <tr>\n",
       "      <td>3</td>\n",
       "      <td>2016-03-17 16:54:04</td>\n",
       "      <td>2016-03-17 00:00:00</td>\n",
       "      <td>2016-03-17 17:40:17</td>\n",
       "    </tr>\n",
       "    <tr>\n",
       "      <td>4</td>\n",
       "      <td>2016-03-31 17:25:20</td>\n",
       "      <td>2016-03-31 00:00:00</td>\n",
       "      <td>2016-04-06 10:17:21</td>\n",
       "    </tr>\n",
       "    <tr>\n",
       "      <td>5</td>\n",
       "      <td>2016-04-04 17:36:23</td>\n",
       "      <td>2016-04-04 00:00:00</td>\n",
       "      <td>2016-04-06 19:17:07</td>\n",
       "    </tr>\n",
       "    <tr>\n",
       "      <td>6</td>\n",
       "      <td>2016-04-01 20:48:51</td>\n",
       "      <td>2016-04-01 00:00:00</td>\n",
       "      <td>2016-04-05 18:18:39</td>\n",
       "    </tr>\n",
       "    <tr>\n",
       "      <td>8</td>\n",
       "      <td>2016-04-04 23:42:13</td>\n",
       "      <td>2016-04-04 00:00:00</td>\n",
       "      <td>2016-04-04 23:42:13</td>\n",
       "    </tr>\n",
       "    <tr>\n",
       "      <td>9</td>\n",
       "      <td>2016-03-17 10:53:50</td>\n",
       "      <td>2016-03-17 00:00:00</td>\n",
       "      <td>2016-03-31 17:17:06</td>\n",
       "    </tr>\n",
       "    <tr>\n",
       "      <td>10</td>\n",
       "      <td>2016-03-26 19:54:18</td>\n",
       "      <td>2016-03-26 00:00:00</td>\n",
       "      <td>2016-04-06 10:45:34</td>\n",
       "    </tr>\n",
       "  </tbody>\n",
       "</table>\n",
       "</div>"
      ],
      "text/plain": [
       "           date_crawled         date_created            last_seen\n",
       "0   2016-03-24 11:52:17  2016-03-24 00:00:00  2016-04-07 03:16:57\n",
       "1   2016-03-24 10:58:45  2016-03-24 00:00:00  2016-04-07 01:46:50\n",
       "2   2016-03-14 12:52:21  2016-03-14 00:00:00  2016-04-05 12:47:46\n",
       "3   2016-03-17 16:54:04  2016-03-17 00:00:00  2016-03-17 17:40:17\n",
       "4   2016-03-31 17:25:20  2016-03-31 00:00:00  2016-04-06 10:17:21\n",
       "5   2016-04-04 17:36:23  2016-04-04 00:00:00  2016-04-06 19:17:07\n",
       "6   2016-04-01 20:48:51  2016-04-01 00:00:00  2016-04-05 18:18:39\n",
       "8   2016-04-04 23:42:13  2016-04-04 00:00:00  2016-04-04 23:42:13\n",
       "9   2016-03-17 10:53:50  2016-03-17 00:00:00  2016-03-31 17:17:06\n",
       "10  2016-03-26 19:54:18  2016-03-26 00:00:00  2016-04-06 10:45:34"
      ]
     },
     "execution_count": 138,
     "metadata": {},
     "output_type": "execute_result"
    }
   ],
   "source": [
    "data[['date_crawled', 'date_created', 'last_seen']][0:10] "
   ]
  },
  {
   "cell_type": "markdown",
   "metadata": {},
   "source": [
    "Первые 10 символов в каждом столбце представляют день, поэтому уберем время(крайне маловероятно, что оно оказывает какое-либо влияние на цену авто) и  для всех приведенных выше столбцов посмотрим распределение значений в долях."
   ]
  },
  {
   "cell_type": "code",
   "execution_count": 139,
   "metadata": {},
   "outputs": [],
   "source": [
    "data[\"date_crawled\"] = data[\"date_crawled\"].str[:10]\n",
    "data[\"date_created\"] = data[\"date_created\"].str[:10]\n",
    "data[\"last_seen\"] = data[\"last_seen\"].str[:10]"
   ]
  },
  {
   "cell_type": "markdown",
   "metadata": {},
   "source": [
    "Приведем данные к типу datetime"
   ]
  },
  {
   "cell_type": "code",
   "execution_count": 140,
   "metadata": {},
   "outputs": [
    {
     "name": "stdout",
     "output_type": "stream",
     "text": [
      "<class 'pandas.core.frame.DataFrame'>\n",
      "Int64Index: 343597 entries, 0 to 354368\n",
      "Data columns (total 3 columns):\n",
      "date_crawled    343597 non-null datetime64[ns]\n",
      "date_created    343597 non-null datetime64[ns]\n",
      "last_seen       343597 non-null datetime64[ns]\n",
      "dtypes: datetime64[ns](3)\n",
      "memory usage: 10.5 MB\n"
     ]
    }
   ],
   "source": [
    "data[[\"date_crawled\", \"date_created\", \"last_seen\"]] = data[[\"date_crawled\", \"date_created\", \"last_seen\"]].apply(pd.to_datetime)\n",
    "data[[\"date_crawled\", \"date_created\", \"last_seen\"]].info()"
   ]
  },
  {
   "cell_type": "code",
   "execution_count": 141,
   "metadata": {},
   "outputs": [
    {
     "data": {
      "text/plain": [
       "<matplotlib.axes._subplots.AxesSubplot at 0x7f48c53f90d0>"
      ]
     },
     "execution_count": 141,
     "metadata": {},
     "output_type": "execute_result"
    },
    {
     "data": {
      "image/png": "[encoded data removed]",
      "text/plain": [
       "<Figure size 1080x576 with 1 Axes>"
      ]
     },
     "metadata": {
      "needs_background": "light"
     },
     "output_type": "display_data"
    }
   ],
   "source": [
    "(data[\"date_crawled\"].value_counts(normalize = True, dropna = False)\n",
    "        .sort_index()\n",
    ").plot(figsize=(15,8))"
   ]
  },
  {
   "cell_type": "markdown",
   "metadata": {},
   "source": [
    "Анкеты скачивались из базы примерно равномерно с 05.03.16 до 04.04.2016"
   ]
  },
  {
   "cell_type": "code",
   "execution_count": 142,
   "metadata": {},
   "outputs": [
    {
     "name": "stdout",
     "output_type": "stream",
     "text": [
      "(109,)\n"
     ]
    },
    {
     "data": {
      "text/plain": [
       "2014-03-10    0.000003\n",
       "2015-03-20    0.000003\n",
       "2015-06-18    0.000003\n",
       "2015-08-07    0.000003\n",
       "2015-08-10    0.000003\n",
       "                ...   \n",
       "2016-04-03    0.038830\n",
       "2016-04-04    0.037564\n",
       "2016-04-05    0.011540\n",
       "2016-04-06    0.003079\n",
       "2016-04-07    0.001545\n",
       "Name: date_created, Length: 109, dtype: float64"
      ]
     },
     "execution_count": 142,
     "metadata": {},
     "output_type": "execute_result"
    }
   ],
   "source": [
    "print(data[\"date_created\"].unique().shape)\n",
    "(data[\"date_created\"].value_counts(normalize =True, dropna = False)\n",
    "                    .sort_index())"
   ]
  },
  {
   "cell_type": "code",
   "execution_count": 143,
   "metadata": {},
   "outputs": [
    {
     "data": {
      "text/plain": [
       "<matplotlib.axes._subplots.AxesSubplot at 0x7f48be9723d0>"
      ]
     },
     "execution_count": 143,
     "metadata": {},
     "output_type": "execute_result"
    },
    {
     "data": {
      "image/png": "[encoded data removed]",
      "text/plain": [
       "<Figure size 1080x576 with 1 Axes>"
      ]
     },
     "metadata": {
      "needs_background": "light"
     },
     "output_type": "display_data"
    }
   ],
   "source": [
    "(data[\"date_created\"]\n",
    "        .value_counts(normalize = True, dropna = False)\n",
    "        .sort_index()\n",
    ").plot(figsize=(15,8))"
   ]
  },
  {
   "cell_type": "code",
   "execution_count": 144,
   "metadata": {},
   "outputs": [
    {
     "data": {
      "text/plain": [
       "2016    0.999924\n",
       "2015    0.000073\n",
       "2014    0.000003\n",
       "Name: date_created, dtype: float64"
      ]
     },
     "execution_count": 144,
     "metadata": {},
     "output_type": "execute_result"
    }
   ],
   "source": [
    "data[\"date_created\"].dt.year.value_counts(normalize = True)"
   ]
  },
  {
   "cell_type": "code",
   "execution_count": 145,
   "metadata": {},
   "outputs": [
    {
     "data": {
      "text/plain": [
       "1    0.000201\n",
       "2    0.001141\n",
       "3    0.837419\n",
       "4    0.161239\n",
       "Name: date_created, dtype: float64"
      ]
     },
     "execution_count": 145,
     "metadata": {},
     "output_type": "execute_result"
    }
   ],
   "source": [
    "data.loc[data[\"date_created\"].dt.year == 2016, \"date_created\"].dt.month.value_counts(normalize = True).sort_index()"
   ]
  },
  {
   "cell_type": "markdown",
   "metadata": {},
   "source": [
    "Видим, что с была 1 анкета была создана в 2014 году. Затем прошло больше года и создалась еще одна анкета. Более менее активно анкеты начали создаваться в марте 2016."
   ]
  },
  {
   "cell_type": "code",
   "execution_count": 146,
   "metadata": {},
   "outputs": [
    {
     "data": {
      "text/plain": [
       "2016-03-05    0.001301\n",
       "2016-03-06    0.004249\n",
       "2016-03-07    0.005338\n",
       "2016-03-08    0.008172\n",
       "2016-03-09    0.010096\n",
       "2016-03-10    0.011743\n",
       "2016-03-11    0.013257\n",
       "2016-03-12    0.023947\n",
       "2016-03-13    0.008641\n",
       "2016-03-14    0.012387\n",
       "2016-03-15    0.016650\n",
       "2016-03-16    0.016706\n",
       "2016-03-17    0.029305\n",
       "2016-03-18    0.007023\n",
       "2016-03-19    0.016741\n",
       "2016-03-20    0.020277\n",
       "2016-03-21    0.020489\n",
       "2016-03-22    0.020806\n",
       "2016-03-23    0.018330\n",
       "2016-03-24    0.019601\n",
       "2016-03-25    0.019438\n",
       "2016-03-26    0.016243\n",
       "2016-03-27    0.017099\n",
       "2016-03-28    0.022710\n",
       "2016-03-29    0.023691\n",
       "2016-03-30    0.024057\n",
       "2016-03-31    0.024578\n",
       "2016-04-01    0.024214\n",
       "2016-04-02    0.025277\n",
       "2016-04-03    0.025655\n",
       "2016-04-04    0.025757\n",
       "2016-04-05    0.124611\n",
       "2016-04-06    0.214399\n",
       "2016-04-07    0.127213\n",
       "Name: last_seen, dtype: float64"
      ]
     },
     "execution_count": 146,
     "metadata": {},
     "output_type": "execute_result"
    }
   ],
   "source": [
    "(data[\"last_seen\"]\n",
    "        .value_counts(normalize=True, dropna=False)\n",
    "        .sort_index()\n",
    "        )"
   ]
  },
  {
   "cell_type": "code",
   "execution_count": 147,
   "metadata": {
    "scrolled": true
   },
   "outputs": [
    {
     "data": {
      "text/plain": [
       "<matplotlib.axes._subplots.AxesSubplot at 0x7f48c88ce210>"
      ]
     },
     "execution_count": 147,
     "metadata": {},
     "output_type": "execute_result"
    },
    {
     "data": {
      "image/png": "[encoded data removed]",
      "text/plain": [
       "<Figure size 1080x576 with 1 Axes>"
      ]
     },
     "metadata": {
      "needs_background": "light"
     },
     "output_type": "display_data"
    }
   ],
   "source": [
    "(data[\"last_seen\"]\n",
    "        .value_counts(normalize = True, dropna = False)\n",
    "        .sort_index()\n",
    ").plot(figsize=(15,8))"
   ]
  },
  {
   "cell_type": "code",
   "execution_count": 148,
   "metadata": {},
   "outputs": [
    {
     "data": {
      "text/plain": [
       "0.5176354857580246"
      ]
     },
     "execution_count": 148,
     "metadata": {},
     "output_type": "execute_result"
    }
   ],
   "source": [
    "data[\"last_seen\"].dt.floor(\"D\").value_counts(normalize = True).sort_index().tail().sum()"
   ]
  },
  {
   "cell_type": "markdown",
   "metadata": {},
   "source": [
    "Как и столбец date_crawled, столбец last_seen охватывает период с 5 марта 2016 года по 7 апреля 2016 года. \n",
    "\n",
    "Cтолбец last_seen позволяет нам определить, в какой день запись была удалена, предположительно потому, что автомобиль был продан.\n",
    "\n",
    "Последние три дня содержат непропорциональное количество активностей пользователей. Учитывая, что они в 6-10 раз превышают значения предыдущих дней, маловероятно, что произошел значительный всплеск продаж, и более вероятно, что эти значения связаны с окончанием периода тестирования системы и не связаны с продажами автомобилей."
   ]
  },
  {
   "cell_type": "markdown",
   "metadata": {},
   "source": [
    "Итого, мы выяснили, что подавляющая часть объявлений было создано, скачано и закрыто примерно в течение 1 месяца(с 5 марта по 7 апреля). В течение 1 месяца не может никак проявиться сезонность, поэтому я вообще не вижу никакого смысла использовать данные признаки,т.к. они не могли никак повлиять на стоимость авто. В связи с этим предлагаю их удалить "
   ]
  },
  {
   "cell_type": "code",
   "execution_count": 149,
   "metadata": {},
   "outputs": [
    {
     "name": "stdout",
     "output_type": "stream",
     "text": [
      "<class 'pandas.core.frame.DataFrame'>\n",
      "Int64Index: 343597 entries, 0 to 354368\n",
      "Data columns (total 11 columns):\n",
      "price                 343597 non-null int64\n",
      "vehicle_type          309847 non-null object\n",
      "registration_year     343597 non-null int64\n",
      "gearbox               326242 non-null object\n",
      "power                 343597 non-null int64\n",
      "model                 326076 non-null object\n",
      "mileage               343597 non-null int64\n",
      "registration_month    343597 non-null int64\n",
      "fuel_type             314138 non-null object\n",
      "brand                 343597 non-null object\n",
      "not_repaired          277731 non-null object\n",
      "dtypes: int64(5), object(6)\n",
      "memory usage: 31.5+ MB\n"
     ]
    }
   ],
   "source": [
    "data.drop(columns = [\"date_crawled\", \"date_created\", \"last_seen\"], inplace = True)\n",
    "data.info()"
   ]
  },
  {
   "cell_type": "markdown",
   "metadata": {},
   "source": [
    "Теперь рассмотрим год регистрации."
   ]
  },
  {
   "cell_type": "code",
   "execution_count": 150,
   "metadata": {},
   "outputs": [
    {
     "data": {
      "text/plain": [
       "count    343597.000000\n",
       "mean       2004.089797\n",
       "std          78.413225\n",
       "min        1000.000000\n",
       "25%        1999.000000\n",
       "50%        2003.000000\n",
       "75%        2008.000000\n",
       "max        9999.000000\n",
       "Name: registration_year, dtype: float64"
      ]
     },
     "execution_count": 150,
     "metadata": {},
     "output_type": "execute_result"
    }
   ],
   "source": [
    "data[\"registration_year\"].describe()"
   ]
  },
  {
   "cell_type": "markdown",
   "metadata": {},
   "source": [
    "Видим аномальные значения 1000 и 9999."
   ]
  },
  {
   "cell_type": "code",
   "execution_count": 151,
   "metadata": {},
   "outputs": [
    {
     "data": {
      "text/plain": [
       "2000    23072\n",
       "1999    21995\n",
       "2005    21524\n",
       "2006    19679\n",
       "2001    19654\n",
       "        ...  \n",
       "1931        1\n",
       "1927        1\n",
       "1925        1\n",
       "3200        1\n",
       "4100        1\n",
       "Name: registration_year, Length: 140, dtype: int64"
      ]
     },
     "execution_count": 151,
     "metadata": {},
     "output_type": "execute_result"
    }
   ],
   "source": [
    "data[\"registration_year\"].value_counts()"
   ]
  },
  {
   "cell_type": "markdown",
   "metadata": {},
   "source": [
    "Поскольку автомобиль не может быть впервые зарегистрирован после того, как объявление было просмотрено, любое транспортное средство с годом регистрации выше 2016 года определенно является ошибкой. Определить самый ранний ранний год сложнее. Реально, это может быть где-то в первые несколько десятилетий 1900-х годов, поэтому возьмем за начальную точку отсчета реального года регистрации 1900 год.\n",
    "\n",
    "Одним из вариантов является удаление списков с этими значениями. Давайте определим, какой процент наших данных имеет недопустимые значения в этом столбце:"
   ]
  },
  {
   "cell_type": "code",
   "execution_count": 152,
   "metadata": {},
   "outputs": [
    {
     "data": {
      "text/plain": [
       "0.04025646324036589"
      ]
     },
     "execution_count": 152,
     "metadata": {},
     "output_type": "execute_result"
    }
   ],
   "source": [
    "(~data[\"registration_year\"].between(1900, 2016)).sum() / data.shape[0]"
   ]
  },
  {
   "cell_type": "markdown",
   "metadata": {},
   "source": [
    "Учитывая, что это примерно 4% наших данных, мы удалим эти строки."
   ]
  },
  {
   "cell_type": "code",
   "execution_count": 153,
   "metadata": {},
   "outputs": [
    {
     "data": {
      "text/plain": [
       "<matplotlib.axes._subplots.AxesSubplot at 0x7f48ff270450>"
      ]
     },
     "execution_count": 153,
     "metadata": {},
     "output_type": "execute_result"
    },
    {
     "data": {
      "image/png": "[encoded data removed]",
      "text/plain": [
       "<Figure size 1080x576 with 1 Axes>"
      ]
     },
     "metadata": {
      "needs_background": "light"
     },
     "output_type": "display_data"
    }
   ],
   "source": [
    "data = data[data[\"registration_year\"].between(1900, 2016)]\n",
    "data[\"registration_year\"].value_counts(normalize=True).sort_index().plot(figsize=(15,8))"
   ]
  },
  {
   "cell_type": "markdown",
   "metadata": {},
   "source": [
    "Большинство транспортных средств были зарегистрированы за последние 20 лет до 2016 года."
   ]
  },
  {
   "cell_type": "code",
   "execution_count": 154,
   "metadata": {
    "scrolled": true
   },
   "outputs": [
    {
     "data": {
      "text/plain": [
       "0.9965975770624537"
      ]
     },
     "execution_count": 154,
     "metadata": {},
     "output_type": "execute_result"
    }
   ],
   "source": [
    "data.loc[data[\"registration_year\"].between(1906, 2016), \"registration_year\"].value_counts(normalize = True).sort_index().loc[1970:].sum()"
   ]
  },
  {
   "cell_type": "markdown",
   "metadata": {},
   "source": [
    "99,7% авто имеют год регистрации авто от 1970. В связи с этим данные до 1970 лучше удалить, т.к. наши модели не смогут адекватно давать ответы по стоимости до 1970 ввиду слишком малого наличия данных за этот период по сравнению с основной группой."
   ]
  },
  {
   "cell_type": "code",
   "execution_count": 155,
   "metadata": {},
   "outputs": [],
   "source": [
    "data = data[data[\"registration_year\"].between(1970, 2016)]"
   ]
  },
  {
   "cell_type": "markdown",
   "metadata": {},
   "source": [
    "Теперь посмотрим на данные с registration_month"
   ]
  },
  {
   "cell_type": "code",
   "execution_count": 156,
   "metadata": {},
   "outputs": [
    {
     "data": {
      "text/plain": [
       "3     32598\n",
       "6     29666\n",
       "0     29220\n",
       "4     27599\n",
       "5     27488\n",
       "7     25610\n",
       "10    24769\n",
       "11    22966\n",
       "12    22897\n",
       "9     22631\n",
       "1     21800\n",
       "8     21315\n",
       "2     20084\n",
       "Name: registration_month, dtype: int64"
      ]
     },
     "execution_count": 156,
     "metadata": {},
     "output_type": "execute_result"
    }
   ],
   "source": [
    "data[\"registration_month\"].value_counts()"
   ]
  },
  {
   "cell_type": "markdown",
   "metadata": {},
   "source": [
    "В столбце registration_month мы видим подозрительное минимальное значение равное 0. Это могло получиться либо из-за опечаток вместо сентября (9) или октября (10), либо из-за случайного использования нулевого индексирования при подсчете месяцев.Также, возможно, поле с этим значением просто не было заполнено. Последняя версия еще подкрепляется тем, что все значения примерно равномерно распределены в течение года. Если месяц не был заполнен, то такие значения нужно поменять на январь, тем самым учитывая максимально возможный срок жизни авто. "
   ]
  },
  {
   "cell_type": "code",
   "execution_count": 157,
   "metadata": {
    "scrolled": true
   },
   "outputs": [
    {
     "data": {
      "text/plain": [
       "1     51020\n",
       "3     32598\n",
       "6     29666\n",
       "4     27599\n",
       "5     27488\n",
       "7     25610\n",
       "10    24769\n",
       "11    22966\n",
       "12    22897\n",
       "9     22631\n",
       "8     21315\n",
       "2     20084\n",
       "Name: registration_month, dtype: int64"
      ]
     },
     "execution_count": 157,
     "metadata": {},
     "output_type": "execute_result"
    }
   ],
   "source": [
    "data[\"registration_month\"] = data[\"registration_month\"].replace(0, 1)\n",
    "data[\"registration_month\"].value_counts()"
   ]
  },
  {
   "cell_type": "markdown",
   "metadata": {},
   "source": [
    "### Подготовка данных с мощностью"
   ]
  },
  {
   "cell_type": "markdown",
   "metadata": {},
   "source": [
    "Мощность авто может быть от 10 л.с. до 500 л.с., учитывая макс. цену авто 20 000 евро. Посмотрим на данные, которые выпадают из этого диапазона."
   ]
  },
  {
   "cell_type": "code",
   "execution_count": 158,
   "metadata": {},
   "outputs": [
    {
     "data": {
      "text/html": [
       "<div>\n",
       "<style scoped>\n",
       "    .dataframe tbody tr th:only-of-type {\n",
       "        vertical-align: middle;\n",
       "    }\n",
       "\n",
       "    .dataframe tbody tr th {\n",
       "        vertical-align: top;\n",
       "    }\n",
       "\n",
       "    .dataframe thead th {\n",
       "        text-align: right;\n",
       "    }\n",
       "</style>\n",
       "<table border=\"1\" class=\"dataframe\">\n",
       "  <thead>\n",
       "    <tr style=\"text-align: right;\">\n",
       "      <th></th>\n",
       "      <th>price</th>\n",
       "      <th>vehicle_type</th>\n",
       "      <th>registration_year</th>\n",
       "      <th>gearbox</th>\n",
       "      <th>power</th>\n",
       "      <th>model</th>\n",
       "      <th>mileage</th>\n",
       "      <th>registration_month</th>\n",
       "      <th>fuel_type</th>\n",
       "      <th>brand</th>\n",
       "      <th>not_repaired</th>\n",
       "    </tr>\n",
       "  </thead>\n",
       "  <tbody>\n",
       "    <tr>\n",
       "      <td>1816</td>\n",
       "      <td>3200</td>\n",
       "      <td>small</td>\n",
       "      <td>2004</td>\n",
       "      <td>manual</td>\n",
       "      <td>1398</td>\n",
       "      <td>corolla</td>\n",
       "      <td>5000</td>\n",
       "      <td>6</td>\n",
       "      <td>petrol</td>\n",
       "      <td>toyota</td>\n",
       "      <td>no</td>\n",
       "    </tr>\n",
       "    <tr>\n",
       "      <td>4060</td>\n",
       "      <td>3100</td>\n",
       "      <td>sedan</td>\n",
       "      <td>2005</td>\n",
       "      <td>manual</td>\n",
       "      <td>953</td>\n",
       "      <td>colt</td>\n",
       "      <td>150000</td>\n",
       "      <td>4</td>\n",
       "      <td>gasoline</td>\n",
       "      <td>mitsubishi</td>\n",
       "      <td>no</td>\n",
       "    </tr>\n",
       "    <tr>\n",
       "      <td>5328</td>\n",
       "      <td>500</td>\n",
       "      <td>wagon</td>\n",
       "      <td>1999</td>\n",
       "      <td>manual</td>\n",
       "      <td>1001</td>\n",
       "      <td>astra</td>\n",
       "      <td>150000</td>\n",
       "      <td>7</td>\n",
       "      <td>petrol</td>\n",
       "      <td>opel</td>\n",
       "      <td>NaN</td>\n",
       "    </tr>\n",
       "    <tr>\n",
       "      <td>6296</td>\n",
       "      <td>599</td>\n",
       "      <td>small</td>\n",
       "      <td>2002</td>\n",
       "      <td>manual</td>\n",
       "      <td>603</td>\n",
       "      <td>matiz</td>\n",
       "      <td>5000</td>\n",
       "      <td>11</td>\n",
       "      <td>petrol</td>\n",
       "      <td>chevrolet</td>\n",
       "      <td>yes</td>\n",
       "    </tr>\n",
       "    <tr>\n",
       "      <td>6504</td>\n",
       "      <td>3000</td>\n",
       "      <td>small</td>\n",
       "      <td>2009</td>\n",
       "      <td>manual</td>\n",
       "      <td>771</td>\n",
       "      <td>punto</td>\n",
       "      <td>125000</td>\n",
       "      <td>1</td>\n",
       "      <td>petrol</td>\n",
       "      <td>fiat</td>\n",
       "      <td>NaN</td>\n",
       "    </tr>\n",
       "    <tr>\n",
       "      <td>...</td>\n",
       "      <td>...</td>\n",
       "      <td>...</td>\n",
       "      <td>...</td>\n",
       "      <td>...</td>\n",
       "      <td>...</td>\n",
       "      <td>...</td>\n",
       "      <td>...</td>\n",
       "      <td>...</td>\n",
       "      <td>...</td>\n",
       "      <td>...</td>\n",
       "      <td>...</td>\n",
       "    </tr>\n",
       "    <tr>\n",
       "      <td>348883</td>\n",
       "      <td>7500</td>\n",
       "      <td>sedan</td>\n",
       "      <td>2011</td>\n",
       "      <td>manual</td>\n",
       "      <td>1548</td>\n",
       "      <td>scenic</td>\n",
       "      <td>90000</td>\n",
       "      <td>4</td>\n",
       "      <td>petrol</td>\n",
       "      <td>renault</td>\n",
       "      <td>NaN</td>\n",
       "    </tr>\n",
       "    <tr>\n",
       "      <td>348968</td>\n",
       "      <td>250</td>\n",
       "      <td>small</td>\n",
       "      <td>1999</td>\n",
       "      <td>manual</td>\n",
       "      <td>1241</td>\n",
       "      <td>ypsilon</td>\n",
       "      <td>150000</td>\n",
       "      <td>5</td>\n",
       "      <td>petrol</td>\n",
       "      <td>lancia</td>\n",
       "      <td>yes</td>\n",
       "    </tr>\n",
       "    <tr>\n",
       "      <td>351947</td>\n",
       "      <td>1500</td>\n",
       "      <td>bus</td>\n",
       "      <td>2001</td>\n",
       "      <td>manual</td>\n",
       "      <td>1001</td>\n",
       "      <td>zafira</td>\n",
       "      <td>5000</td>\n",
       "      <td>7</td>\n",
       "      <td>gasoline</td>\n",
       "      <td>opel</td>\n",
       "      <td>no</td>\n",
       "    </tr>\n",
       "    <tr>\n",
       "      <td>353633</td>\n",
       "      <td>2400</td>\n",
       "      <td>sedan</td>\n",
       "      <td>2007</td>\n",
       "      <td>manual</td>\n",
       "      <td>650</td>\n",
       "      <td>c2</td>\n",
       "      <td>150000</td>\n",
       "      <td>8</td>\n",
       "      <td>petrol</td>\n",
       "      <td>citroen</td>\n",
       "      <td>NaN</td>\n",
       "    </tr>\n",
       "    <tr>\n",
       "      <td>354260</td>\n",
       "      <td>399</td>\n",
       "      <td>other</td>\n",
       "      <td>1994</td>\n",
       "      <td>NaN</td>\n",
       "      <td>1103</td>\n",
       "      <td>3er</td>\n",
       "      <td>150000</td>\n",
       "      <td>1</td>\n",
       "      <td>NaN</td>\n",
       "      <td>bmw</td>\n",
       "      <td>NaN</td>\n",
       "    </tr>\n",
       "  </tbody>\n",
       "</table>\n",
       "<p>422 rows × 11 columns</p>\n",
       "</div>"
      ],
      "text/plain": [
       "        price vehicle_type  registration_year gearbox  power    model  \\\n",
       "1816     3200        small               2004  manual   1398  corolla   \n",
       "4060     3100        sedan               2005  manual    953     colt   \n",
       "5328      500        wagon               1999  manual   1001    astra   \n",
       "6296      599        small               2002  manual    603    matiz   \n",
       "6504     3000        small               2009  manual    771    punto   \n",
       "...       ...          ...                ...     ...    ...      ...   \n",
       "348883   7500        sedan               2011  manual   1548   scenic   \n",
       "348968    250        small               1999  manual   1241  ypsilon   \n",
       "351947   1500          bus               2001  manual   1001   zafira   \n",
       "353633   2400        sedan               2007  manual    650       c2   \n",
       "354260    399        other               1994     NaN   1103      3er   \n",
       "\n",
       "        mileage  registration_month fuel_type       brand not_repaired  \n",
       "1816       5000                   6    petrol      toyota           no  \n",
       "4060     150000                   4  gasoline  mitsubishi           no  \n",
       "5328     150000                   7    petrol        opel          NaN  \n",
       "6296       5000                  11    petrol   chevrolet          yes  \n",
       "6504     125000                   1    petrol        fiat          NaN  \n",
       "...         ...                 ...       ...         ...          ...  \n",
       "348883    90000                   4    petrol     renault          NaN  \n",
       "348968   150000                   5    petrol      lancia          yes  \n",
       "351947     5000                   7  gasoline        opel           no  \n",
       "353633   150000                   8    petrol     citroen          NaN  \n",
       "354260   150000                   1       NaN         bmw          NaN  \n",
       "\n",
       "[422 rows x 11 columns]"
      ]
     },
     "execution_count": 158,
     "metadata": {},
     "output_type": "execute_result"
    }
   ],
   "source": [
    "data[data['power'] >= 500]"
   ]
  },
  {
   "cell_type": "markdown",
   "metadata": {},
   "source": [
    "Видим обычные машины, а не спорткары, т.е. данные по мощности внесены скорее всего ошибочно."
   ]
  },
  {
   "cell_type": "code",
   "execution_count": 159,
   "metadata": {},
   "outputs": [
    {
     "data": {
      "text/plain": [
       "33057"
      ]
     },
     "execution_count": 159,
     "metadata": {},
     "output_type": "execute_result"
    }
   ],
   "source": [
    "(~data[\"power\"].between(10, 500)).sum()"
   ]
  },
  {
   "cell_type": "code",
   "execution_count": 160,
   "metadata": {},
   "outputs": [
    {
     "data": {
      "text/plain": [
       "0        32465\n",
       "5          100\n",
       "4           30\n",
       "1           25\n",
       "6           11\n",
       "         ...  \n",
       "1199         1\n",
       "6045         1\n",
       "751          1\n",
       "10218        1\n",
       "16312        1\n",
       "Name: power, Length: 282, dtype: int64"
      ]
     },
     "execution_count": 160,
     "metadata": {},
     "output_type": "execute_result"
    }
   ],
   "source": [
    "data.loc[~data[\"power\"].between(10, 500), \"power\"].value_counts()"
   ]
  },
  {
   "cell_type": "markdown",
   "metadata": {},
   "source": [
    "Около 10% записей имеют мощность вне диапазона от 1 до 500 л.с., при этом подавляющее большинство (32866 записей) имеют мощность, указанную как 0. Скорее всего такие значения связаны с тем, что при заполнении анкеты зн-е мощности не было указано, поэтому автоматически программой было присвоено зн-е 0. Удалим все значения, выходящие за рамки реальности, т.к. мощность двигателя достаточно важный фактор при оценке стоимости, а заменить выходящие за рамки реального диапазона будет сложно, т.к. подавляющее бол-во моделей выпускается с несколькими объемами двигателей."
   ]
  },
  {
   "cell_type": "code",
   "execution_count": 161,
   "metadata": {},
   "outputs": [],
   "source": [
    "data = data[(data['power'] >= 10) & (data['power'] <= 500)]"
   ]
  },
  {
   "cell_type": "markdown",
   "metadata": {},
   "source": [
    "### Подготовка остальных признаков"
   ]
  },
  {
   "cell_type": "code",
   "execution_count": 162,
   "metadata": {
    "scrolled": false
   },
   "outputs": [
    {
     "data": {
      "text/html": [
       "<div>\n",
       "<style scoped>\n",
       "    .dataframe tbody tr th:only-of-type {\n",
       "        vertical-align: middle;\n",
       "    }\n",
       "\n",
       "    .dataframe tbody tr th {\n",
       "        vertical-align: top;\n",
       "    }\n",
       "\n",
       "    .dataframe thead th {\n",
       "        text-align: right;\n",
       "    }\n",
       "</style>\n",
       "<table border=\"1\" class=\"dataframe\">\n",
       "  <thead>\n",
       "    <tr style=\"text-align: right;\">\n",
       "      <th></th>\n",
       "      <th>count</th>\n",
       "      <th>mean</th>\n",
       "      <th>std</th>\n",
       "      <th>min</th>\n",
       "      <th>25%</th>\n",
       "      <th>50%</th>\n",
       "      <th>75%</th>\n",
       "      <th>max</th>\n",
       "    </tr>\n",
       "    <tr>\n",
       "      <th>not_repaired</th>\n",
       "      <th></th>\n",
       "      <th></th>\n",
       "      <th></th>\n",
       "      <th></th>\n",
       "      <th></th>\n",
       "      <th></th>\n",
       "      <th></th>\n",
       "      <th></th>\n",
       "    </tr>\n",
       "  </thead>\n",
       "  <tbody>\n",
       "    <tr>\n",
       "      <td>no</td>\n",
       "      <td>224008.0</td>\n",
       "      <td>5521.10</td>\n",
       "      <td>4750.16</td>\n",
       "      <td>1.0</td>\n",
       "      <td>1790.0</td>\n",
       "      <td>3950.0</td>\n",
       "      <td>7999.0</td>\n",
       "      <td>20000.0</td>\n",
       "    </tr>\n",
       "    <tr>\n",
       "      <td>unknown</td>\n",
       "      <td>42740.0</td>\n",
       "      <td>3119.40</td>\n",
       "      <td>3576.47</td>\n",
       "      <td>1.0</td>\n",
       "      <td>750.0</td>\n",
       "      <td>1750.0</td>\n",
       "      <td>3999.0</td>\n",
       "      <td>20000.0</td>\n",
       "    </tr>\n",
       "    <tr>\n",
       "      <td>yes</td>\n",
       "      <td>28838.0</td>\n",
       "      <td>2131.97</td>\n",
       "      <td>2759.90</td>\n",
       "      <td>1.0</td>\n",
       "      <td>500.0</td>\n",
       "      <td>1000.0</td>\n",
       "      <td>2500.0</td>\n",
       "      <td>20000.0</td>\n",
       "    </tr>\n",
       "  </tbody>\n",
       "</table>\n",
       "</div>"
      ],
      "text/plain": [
       "                 count     mean      std  min     25%     50%     75%      max\n",
       "not_repaired                                                                  \n",
       "no            224008.0  5521.10  4750.16  1.0  1790.0  3950.0  7999.0  20000.0\n",
       "unknown        42740.0  3119.40  3576.47  1.0   750.0  1750.0  3999.0  20000.0\n",
       "yes            28838.0  2131.97  2759.90  1.0   500.0  1000.0  2500.0  20000.0"
      ]
     },
     "execution_count": 162,
     "metadata": {},
     "output_type": "execute_result"
    }
   ],
   "source": [
    "data = data.fillna({\"not_repaired\": \"unknown\"})\n",
    "data.groupby(\"not_repaired\")[\"price\"].describe().round(2)"
   ]
  },
  {
   "cell_type": "markdown",
   "metadata": {},
   "source": [
    "Я заменил все пустые записи в столбце not_repaired значением «unknown», чтобы мы могли также учитывать цены на автомобили этой группы. Существует очень четкая разница в средней цене между тремя группами. Автомобили, которые были в ремонте, имеют среднюю цену, которая составляет около трети средней цены за авто, которые никогда не были в ремонте. Кроме того, автомобили с неизвестным статусом ремонта имеют среднюю цену примерно на 40% выше, чем автомобили с ремонтом, и в 2 раза меньше цены авто без ремонта."
   ]
  },
  {
   "cell_type": "code",
   "execution_count": 163,
   "metadata": {},
   "outputs": [
    {
     "data": {
      "text/plain": [
       "price                     0\n",
       "vehicle_type          11007\n",
       "registration_year         0\n",
       "gearbox                5334\n",
       "power                     0\n",
       "model                 10836\n",
       "mileage                   0\n",
       "registration_month        0\n",
       "fuel_type             15494\n",
       "brand                     0\n",
       "not_repaired              0\n",
       "dtype: int64"
      ]
     },
     "execution_count": 163,
     "metadata": {},
     "output_type": "execute_result"
    }
   ],
   "source": [
    "data.isnull().sum()"
   ]
  },
  {
   "cell_type": "markdown",
   "metadata": {},
   "source": [
    "Ни в одном из этих признаков нельзя заменить нулевые значения на какие-либо другие. Н-р, каждая модель обычное имеет несколько типов кузова, типов коробки передачи и типов топлива, поэтому найти модели по таким характеристикам будет тяжело, и наоборот, определить значение других признаков по модели также проблематично. Поэтому предлагаю все нулевые значения заполнить 'unknown'"
   ]
  },
  {
   "cell_type": "code",
   "execution_count": 164,
   "metadata": {},
   "outputs": [],
   "source": [
    "data['fuel_type'].fillna(value='unknown', inplace=True)\n",
    "data['gearbox'].fillna(value='unknown', inplace=True)\n",
    "data['vehicle_type'].fillna(value='unknown', inplace=True)\n",
    "data['model'].fillna(value='unknown', inplace=True)"
   ]
  },
  {
   "cell_type": "code",
   "execution_count": 165,
   "metadata": {},
   "outputs": [
    {
     "data": {
      "text/plain": [
       "price                 0\n",
       "vehicle_type          0\n",
       "registration_year     0\n",
       "gearbox               0\n",
       "power                 0\n",
       "model                 0\n",
       "mileage               0\n",
       "registration_month    0\n",
       "fuel_type             0\n",
       "brand                 0\n",
       "not_repaired          0\n",
       "dtype: int64"
      ]
     },
     "execution_count": 165,
     "metadata": {},
     "output_type": "execute_result"
    }
   ],
   "source": [
    "data.isnull().sum()"
   ]
  },
  {
   "cell_type": "code",
   "execution_count": 166,
   "metadata": {},
   "outputs": [
    {
     "name": "stdout",
     "output_type": "stream",
     "text": [
      "<class 'pandas.core.frame.DataFrame'>\n",
      "Int64Index: 295586 entries, 1 to 354368\n",
      "Data columns (total 11 columns):\n",
      "price                 295586 non-null int64\n",
      "vehicle_type          295586 non-null object\n",
      "registration_year     295586 non-null int64\n",
      "gearbox               295586 non-null object\n",
      "power                 295586 non-null int64\n",
      "model                 295586 non-null object\n",
      "mileage               295586 non-null int64\n",
      "registration_month    295586 non-null int64\n",
      "fuel_type             295586 non-null object\n",
      "brand                 295586 non-null object\n",
      "not_repaired          295586 non-null object\n",
      "dtypes: int64(5), object(6)\n",
      "memory usage: 27.1+ MB\n"
     ]
    }
   ],
   "source": [
    "data.info()"
   ]
  },
  {
   "cell_type": "markdown",
   "metadata": {},
   "source": [
    "Итого мы порубили 60 тыс. объектов, что составляет примерно 17% от общей выборки. Зато теперь у нас практически идеальные данные."
   ]
  },
  {
   "cell_type": "markdown",
   "metadata": {},
   "source": [
    "### Визуализация данных"
   ]
  },
  {
   "cell_type": "markdown",
   "metadata": {},
   "source": [
    "#### Распределение по категориям"
   ]
  },
  {
   "cell_type": "code",
   "execution_count": 167,
   "metadata": {},
   "outputs": [],
   "source": [
    "def category_values(dataframe, categories):\n",
    "    for c in categories:\n",
    "        print('\\n', dataframe.groupby(by=c)[c].count().sort_values(ascending=False))\n",
    "        print('Nulls: ', dataframe[c].isnull().sum())\n",
    "\n",
    "def plot_correlation_map( df ):\n",
    "    corr = df.corr()\n",
    "    _ , ax = plt.subplots( figsize =( 12 , 10 ) )\n",
    "    cmap = sns.diverging_palette( 220 , 10 , as_cmap = True )\n",
    "    _ = sns.heatmap(\n",
    "        corr, \n",
    "        cmap = cmap,\n",
    "        square=True, \n",
    "        cbar_kws={ 'shrink' : .9 }, \n",
    "        ax=ax, \n",
    "        annot = True, \n",
    "        annot_kws = { 'fontsize' : 12 }\n",
    "    )"
   ]
  },
  {
   "cell_type": "code",
   "execution_count": 168,
   "metadata": {},
   "outputs": [
    {
     "name": "stdout",
     "output_type": "stream",
     "text": [
      "gearbox\n",
      "manual     231623\n",
      "auto        58629\n",
      "unknown      5334\n",
      "Name: gearbox, dtype: int64\n"
     ]
    },
    {
     "data": {
      "image/png": "[encoded data removed]",
      "text/plain": [
       "<Figure size 360x216 with 1 Axes>"
      ]
     },
     "metadata": {
      "needs_background": "light"
     },
     "output_type": "display_data"
    },
    {
     "name": "stdout",
     "output_type": "stream",
     "text": [
      "model\n",
      "golf       24718\n",
      "other      20094\n",
      "3er        17385\n",
      "unknown    10836\n",
      "polo       10687\n",
      "Name: model, dtype: int64\n"
     ]
    },
    {
     "data": {
      "image/png": "[encoded data removed]",
      "text/plain": [
       "<Figure size 360x216 with 1 Axes>"
      ]
     },
     "metadata": {
      "needs_background": "light"
     },
     "output_type": "display_data"
    },
    {
     "name": "stdout",
     "output_type": "stream",
     "text": [
      "brand\n",
      "volkswagen       64028\n",
      "opel             32470\n",
      "bmw              32251\n",
      "mercedes_benz    27265\n",
      "audi             25611\n",
      "Name: brand, dtype: int64\n"
     ]
    },
    {
     "data": {
      "image/png": "[encoded data removed]",
      "text/plain": [
       "<Figure size 360x216 with 1 Axes>"
      ]
     },
     "metadata": {
      "needs_background": "light"
     },
     "output_type": "display_data"
    },
    {
     "name": "stdout",
     "output_type": "stream",
     "text": [
      "vehicle_type\n",
      "sedan          82751\n",
      "small          69929\n",
      "wagon          59235\n",
      "bus            26192\n",
      "convertible    18686\n",
      "Name: vehicle_type, dtype: int64\n"
     ]
    },
    {
     "data": {
      "image/png": "[encoded data removed]",
      "text/plain": [
       "<Figure size 360x216 with 1 Axes>"
      ]
     },
     "metadata": {
      "needs_background": "light"
     },
     "output_type": "display_data"
    },
    {
     "name": "stdout",
     "output_type": "stream",
     "text": [
      "fuel_type\n",
      "petrol      186853\n",
      "gasoline     87726\n",
      "unknown      15494\n",
      "lpg           4683\n",
      "cng            483\n",
      "Name: fuel_type, dtype: int64\n"
     ]
    },
    {
     "data": {
      "image/png": "[encoded data removed]",
      "text/plain": [
       "<Figure size 360x216 with 1 Axes>"
      ]
     },
     "metadata": {
      "needs_background": "light"
     },
     "output_type": "display_data"
    },
    {
     "name": "stdout",
     "output_type": "stream",
     "text": [
      "not_repaired\n",
      "no         224008\n",
      "unknown     42740\n",
      "yes         28838\n",
      "Name: not_repaired, dtype: int64\n"
     ]
    },
    {
     "data": {
      "image/png": "[encoded data removed]",
      "text/plain": [
       "<Figure size 360x216 with 1 Axes>"
      ]
     },
     "metadata": {
      "needs_background": "light"
     },
     "output_type": "display_data"
    }
   ],
   "source": [
    "categories = ['gearbox', 'model', 'brand', 'vehicle_type', 'fuel_type', 'not_repaired']\n",
    "\n",
    "for i, c in enumerate(categories):\n",
    "    v = data[c].unique()\n",
    "    \n",
    "    g = data.groupby(by=c)[c].count().sort_values(ascending=False)\n",
    "    r = range(min(len(v), 5))\n",
    "\n",
    "    print( g.head())\n",
    "    plt.figure(figsize=(5,3))\n",
    "    plt.bar(r, g.head()) \n",
    "    #plt.xticks(r, v)\n",
    "    plt.xticks(r, g.index)\n",
    "    plt.show()"
   ]
  },
  {
   "cell_type": "markdown",
   "metadata": {},
   "source": [
    "### Порядковое кодирование"
   ]
  },
  {
   "cell_type": "markdown",
   "metadata": {},
   "source": [
    "Преобразуем категориальные признаки в численные с помощью техники порядкового кодирования (англ. Ordinal Encoding). \n",
    "\n",
    "Она работает так:\n",
    "\n",
    "1. Фиксируется, какой цифрой кодируется класс;\n",
    "\n",
    "2. Цифры размещаются в столбце.\n",
    "\n",
    "One-Hot Encoding не использовал, потому что в столбце \"model\" 250 классов."
   ]
  },
  {
   "cell_type": "code",
   "execution_count": 169,
   "metadata": {},
   "outputs": [
    {
     "name": "stdout",
     "output_type": "stream",
     "text": [
      "<class 'pandas.core.frame.DataFrame'>\n",
      "Int64Index: 295586 entries, 1 to 354368\n",
      "Data columns (total 11 columns):\n",
      "price                 295586 non-null int64\n",
      "vehicle_type          295586 non-null object\n",
      "registration_year     295586 non-null int64\n",
      "gearbox               295586 non-null object\n",
      "power                 295586 non-null int64\n",
      "model                 295586 non-null object\n",
      "mileage               295586 non-null int64\n",
      "registration_month    295586 non-null int64\n",
      "fuel_type             295586 non-null object\n",
      "brand                 295586 non-null object\n",
      "not_repaired          295586 non-null object\n",
      "dtypes: int64(5), object(6)\n",
      "memory usage: 27.1+ MB\n"
     ]
    }
   ],
   "source": [
    "data.info()"
   ]
  },
  {
   "cell_type": "code",
   "execution_count": 170,
   "metadata": {},
   "outputs": [],
   "source": [
    "encoder = OrdinalEncoder()\n",
    "data_ordinal = data\n",
    "data_ordinal[[\"vehicle_type\",\"gearbox\", \"model\", \"fuel_type\", \"brand\", \"not_repaired\"]] = encoder.fit_transform(\n",
    "    data_ordinal[[\"vehicle_type\",\"gearbox\", \"model\", \"fuel_type\", \"brand\", \"not_repaired\"]])"
   ]
  },
  {
   "cell_type": "markdown",
   "metadata": {},
   "source": [
    "### Стандартизация признаков"
   ]
  },
  {
   "cell_type": "markdown",
   "metadata": {},
   "source": [
    "В данных есть столбцы: power и mileage. Мощность варьируется от 10 до 500 л.с., а пробег — от 5000  до 150000. Алгоритм автоматически решит, что этот пробег важнее мощности. А это не так: все признаки значимы.\n",
    "Чтобы избежать этой ловушки, признаки масштабируются — приводятся к одному масштабу.\n",
    "Один из методов масштабирования — стандартизации данных.\n",
    "\n",
    "Необходимо разбить данные на 3 выборки: обучающую, валидационную и тестовую. Размеры тестового и валидационного наборов обычно равны. Исходные данные разбивают в соотношении 3:1:1. Используем метод train_test_split дважды. Сначала разобьем весь датасет на 60%(обучающая выборка) и остальное. Затем остальное на валидационную и тестовую по 50%."
   ]
  },
  {
   "cell_type": "code",
   "execution_count": 171,
   "metadata": {
    "scrolled": false
   },
   "outputs": [
    {
     "name": "stderr",
     "output_type": "stream",
     "text": [
      "/opt/conda/lib/python3.7/site-packages/ipykernel_launcher.py:12: SettingWithCopyWarning: \n",
      "A value is trying to be set on a copy of a slice from a DataFrame.\n",
      "Try using .loc[row_indexer,col_indexer] = value instead\n",
      "\n",
      "See the caveats in the documentation: http://pandas.pydata.org/pandas-docs/stable/user_guide/indexing.html#returning-a-view-versus-a-copy\n",
      "  if sys.path[0] == '':\n",
      "/opt/conda/lib/python3.7/site-packages/pandas/core/indexing.py:494: SettingWithCopyWarning: \n",
      "A value is trying to be set on a copy of a slice from a DataFrame.\n",
      "Try using .loc[row_indexer,col_indexer] = value instead\n",
      "\n",
      "See the caveats in the documentation: http://pandas.pydata.org/pandas-docs/stable/user_guide/indexing.html#returning-a-view-versus-a-copy\n",
      "  self.obj[item] = s\n",
      "/opt/conda/lib/python3.7/site-packages/ipykernel_launcher.py:13: SettingWithCopyWarning: \n",
      "A value is trying to be set on a copy of a slice from a DataFrame.\n",
      "Try using .loc[row_indexer,col_indexer] = value instead\n",
      "\n",
      "See the caveats in the documentation: http://pandas.pydata.org/pandas-docs/stable/user_guide/indexing.html#returning-a-view-versus-a-copy\n",
      "  del sys.path[0]\n",
      "/opt/conda/lib/python3.7/site-packages/pandas/core/indexing.py:494: SettingWithCopyWarning: \n",
      "A value is trying to be set on a copy of a slice from a DataFrame.\n",
      "Try using .loc[row_indexer,col_indexer] = value instead\n",
      "\n",
      "See the caveats in the documentation: http://pandas.pydata.org/pandas-docs/stable/user_guide/indexing.html#returning-a-view-versus-a-copy\n",
      "  self.obj[item] = s\n",
      "/opt/conda/lib/python3.7/site-packages/ipykernel_launcher.py:14: SettingWithCopyWarning: \n",
      "A value is trying to be set on a copy of a slice from a DataFrame.\n",
      "Try using .loc[row_indexer,col_indexer] = value instead\n",
      "\n",
      "See the caveats in the documentation: http://pandas.pydata.org/pandas-docs/stable/user_guide/indexing.html#returning-a-view-versus-a-copy\n",
      "  \n",
      "/opt/conda/lib/python3.7/site-packages/pandas/core/indexing.py:494: SettingWithCopyWarning: \n",
      "A value is trying to be set on a copy of a slice from a DataFrame.\n",
      "Try using .loc[row_indexer,col_indexer] = value instead\n",
      "\n",
      "See the caveats in the documentation: http://pandas.pydata.org/pandas-docs/stable/user_guide/indexing.html#returning-a-view-versus-a-copy\n",
      "  self.obj[item] = s\n"
     ]
    },
    {
     "name": "stdout",
     "output_type": "stream",
     "text": [
      "Train shape: (177351, 10)\n",
      "Validation shape: (59117, 10)\n",
      "Test shape: (59118, 10)\n"
     ]
    }
   ],
   "source": [
    "y = data_ordinal['price']\n",
    "X = data_ordinal.drop('price', axis=1)\n",
    "X_trainval, X_test, y_trainval, y_test = train_test_split(\n",
    "    X, y, test_size=0.2, random_state=12345)\n",
    "X_train, X_val, y_train, y_val = train_test_split(\n",
    "    X_trainval, y_trainval, test_size=0.25, random_state=12345)\n",
    "\n",
    "numeric = ['registration_year', 'power', 'mileage', 'registration_month'] # список всех численных признаков\n",
    "\n",
    "scaler = StandardScaler()\n",
    "scaler.fit(X_train[numeric])\n",
    "X_train[numeric] = scaler.transform(X_train[numeric])\n",
    "X_val[numeric] = scaler.transform(X_val[numeric])\n",
    "X_test[numeric] = scaler.transform(X_test[numeric])\n",
    "print(f\"Train shape: {X_train.shape}\")\n",
    "print(f\"Validation shape: {X_val.shape}\")\n",
    "print(f\"Test shape: {X_test.shape}\")"
   ]
  },
  {
   "cell_type": "markdown",
   "metadata": {},
   "source": [
    "# 2. Обучение моделей"
   ]
  },
  {
   "cell_type": "code",
   "execution_count": 172,
   "metadata": {},
   "outputs": [],
   "source": [
    "# Настройка таблицы с результатами\n",
    "df_results = pd.DataFrame(columns=['rmse', 'run_time'])"
   ]
  },
  {
   "cell_type": "markdown",
   "metadata": {},
   "source": [
    "### Дерево решений"
   ]
  },
  {
   "cell_type": "code",
   "execution_count": 173,
   "metadata": {},
   "outputs": [
    {
     "name": "stdout",
     "output_type": "stream",
     "text": [
      "max_depth = 1 ; rmse = 3645.2136000674386 ; run_time = 0.0855870246887207\n",
      "-------------------------------\n",
      "max_depth = 2 ; rmse = 3171.817949890604 ; run_time = 0.11259007453918457\n",
      "-------------------------------\n",
      "max_depth = 3 ; rmse = 2904.6928137944783 ; run_time = 0.1817626953125\n",
      "-------------------------------\n",
      "max_depth = 4 ; rmse = 2580.203309301637 ; run_time = 0.21015429496765137\n",
      "-------------------------------\n",
      "max_depth = 5 ; rmse = 2412.000808782748 ; run_time = 0.25589513778686523\n",
      "-------------------------------\n",
      "max_depth = 6 ; rmse = 2270.305042639132 ; run_time = 0.3251492977142334\n",
      "-------------------------------\n",
      "max_depth = 7 ; rmse = 2168.436708012966 ; run_time = 0.3668065071105957\n",
      "-------------------------------\n",
      "max_depth = 8 ; rmse = 2088.730024107152 ; run_time = 0.40324926376342773\n",
      "-------------------------------\n",
      "max_depth = 9 ; rmse = 2015.1616903970305 ; run_time = 0.4489467144012451\n",
      "-------------------------------\n",
      "max_depth = 10 ; rmse = 1961.6005258695425 ; run_time = 0.48777294158935547\n",
      "-------------------------------\n",
      "max_depth = 11 ; rmse = 1919.0158332754627 ; run_time = 0.5114865303039551\n",
      "-------------------------------\n",
      "max_depth = 12 ; rmse = 1903.5067902915905 ; run_time = 0.5705435276031494\n",
      "-------------------------------\n"
     ]
    }
   ],
   "source": [
    "# Подберем наилучшее дерево решений из 12 вариантов. Какое же будет лучше всех...очень интересно\n",
    "#(все-таки из-за слабой скорости моего агрегата не хочу рисковать на других моделях):\n",
    "for depth in range(1, 13):\n",
    "    m = DecisionTreeRegressor(random_state=12345, max_depth=depth)\n",
    "    start_time = time()\n",
    "    m.fit(X_train, y_train)\n",
    "    run_time = time() - start_time\n",
    "    rmse = (((y_val-m.predict(X_val))**2).mean())**0.5\n",
    "    print(\"max_depth =\", depth, \"; \", end='')\n",
    "    print(\"rmse =\", rmse, \"; \", end='')\n",
    "    print(\"run_time =\", run_time)\n",
    "    print(\"-------------------------------\")"
   ]
  },
  {
   "cell_type": "markdown",
   "metadata": {},
   "source": [
    "Лучшее дерево решений оказалось с максимальной глубиной равной 12. Его и возьмем для сравнения с другими моделями."
   ]
  },
  {
   "cell_type": "code",
   "execution_count": 174,
   "metadata": {},
   "outputs": [],
   "source": [
    "dt = DecisionTreeRegressor(max_depth=12, random_state=1234)"
   ]
  },
  {
   "cell_type": "markdown",
   "metadata": {},
   "source": [
    "### Случайный лес"
   ]
  },
  {
   "cell_type": "code",
   "execution_count": 175,
   "metadata": {},
   "outputs": [],
   "source": [
    "rf = RandomForestRegressor (n_estimators = 100, \n",
    "                            max_features = 0.06, \n",
    "                            n_jobs = 6, \n",
    "                            random_state = 1234)"
   ]
  },
  {
   "cell_type": "markdown",
   "metadata": {},
   "source": [
    "### Adaboost"
   ]
  },
  {
   "cell_type": "code",
   "execution_count": 176,
   "metadata": {},
   "outputs": [],
   "source": [
    "base_estim = DecisionTreeRegressor(max_depth=1, max_features=0.06)                            \n",
    "ab = AdaBoostRegressor(base_estimator=base_estim,\n",
    "                        n_estimators=100,\n",
    "                        learning_rate=0.5,\n",
    "                        random_state=1234)"
   ]
  },
  {
   "cell_type": "markdown",
   "metadata": {},
   "source": [
    "### Gradient Boosted Decision Trees (Scikit-Learn)"
   ]
  },
  {
   "cell_type": "code",
   "execution_count": 177,
   "metadata": {},
   "outputs": [],
   "source": [
    "gbm = GradientBoostingRegressor(n_estimators=100,\n",
    "                                 subsample=0.67,\n",
    "                                 max_features=0.06,\n",
    "                                 validation_fraction=0.1,\n",
    "                                 n_iter_no_change=15,\n",
    "                                 verbose=0,\n",
    "                                 random_state=1234)"
   ]
  },
  {
   "cell_type": "markdown",
   "metadata": {},
   "source": [
    "### XGBoost"
   ]
  },
  {
   "cell_type": "code",
   "execution_count": 178,
   "metadata": {},
   "outputs": [],
   "source": [
    "xgb = XGBRegressor(n_estimators=100,\n",
    "                    tree_method='hist',\n",
    "                    subsample=0.67,\n",
    "                    colsample_level=0.06,\n",
    "                    verbose=0,\n",
    "                    n_jobs=6,\n",
    "                    random_state=1234)"
   ]
  },
  {
   "cell_type": "markdown",
   "metadata": {},
   "source": [
    "### LightGBM"
   ]
  },
  {
   "cell_type": "code",
   "execution_count": 179,
   "metadata": {},
   "outputs": [],
   "source": [
    "lgbm = LGBMRegressor(n_estimators=100,\n",
    "                      feature_fraction=0.06,\n",
    "                      bagging_fraction=0.67,\n",
    "                      bagging_freq=1,\n",
    "                      verbose=0,\n",
    "                      n_jobs=6,\n",
    "                      random_state=1234)"
   ]
  },
  {
   "cell_type": "markdown",
   "metadata": {},
   "source": [
    "### CatBoost"
   ]
  },
  {
   "cell_type": "code",
   "execution_count": 180,
   "metadata": {},
   "outputs": [],
   "source": [
    "cb = CatBoostRegressor(n_estimators=100,\n",
    "                        colsample_bylevel=0.06,\n",
    "                        max_leaves=31,\n",
    "                        subsample=0.67,\n",
    "                        verbose=0,\n",
    "                        thread_count=6,\n",
    "                        random_state=1234)"
   ]
  },
  {
   "cell_type": "markdown",
   "metadata": {},
   "source": [
    "### Histogram-based Gradient Boosting Machine (Scikit-Learn)"
   ]
  },
  {
   "cell_type": "code",
   "execution_count": 181,
   "metadata": {},
   "outputs": [],
   "source": [
    "hgbm = HistGradientBoostingRegressor(max_iter=50,\n",
    "                                      validation_fraction=0.1,\n",
    "                                      n_iter_no_change=15,\n",
    "                                      verbose=0,\n",
    "                                      random_state=1234)"
   ]
  },
  {
   "cell_type": "markdown",
   "metadata": {},
   "source": [
    "### Создание списка моделей"
   ]
  },
  {
   "cell_type": "code",
   "execution_count": 182,
   "metadata": {},
   "outputs": [],
   "source": [
    "models = [dt, rf, ab, gbm, hgbm, xgb, lgbm, cb]\n",
    "model_names = [i.__class__.__name__ for i in models]"
   ]
  },
  {
   "cell_type": "code",
   "execution_count": 183,
   "metadata": {},
   "outputs": [],
   "source": [
    "es_models = ['XGBRegressor',\n",
    "             'LGBMRegressor',\n",
    "             'CatBoostRegressor']"
   ]
  },
  {
   "cell_type": "code",
   "execution_count": 184,
   "metadata": {},
   "outputs": [
    {
     "name": "stderr",
     "output_type": "stream",
     "text": [
      "/opt/conda/lib/python3.7/site-packages/xgboost/core.py:587: FutureWarning: Series.base is deprecated and will be removed in a future version\n",
      "  if getattr(data, 'base', None) is not None and \\\n"
     ]
    },
    {
     "name": "stdout",
     "output_type": "stream",
     "text": [
      "[12:03:40] WARNING: /workspace/src/objective/regression_obj.cu:152: reg:linear is now deprecated in favor of reg:squarederror.\n"
     ]
    }
   ],
   "source": [
    "for m, n in zip(models, model_names):\n",
    "    \n",
    "    start_time = time()\n",
    "    if n in es_models:\n",
    "        m.fit(X_train,\n",
    "              y_train,\n",
    "              eval_set = [(X_val, y_val)],\n",
    "              early_stopping_rounds=15,\n",
    "              verbose=0)\n",
    "    else:\n",
    "        m.fit(X_trainval, y_trainval)\n",
    "    \n",
    "    run_time = time() - start_time\n",
    "    rmse = (((y_test-m.predict(X_test))**2).mean())**0.5\n",
    "    \n",
    "        \n",
    "    df_results.loc[n] = [rmse, run_time]\n",
    "    \n",
    "    del m"
   ]
  },
  {
   "cell_type": "markdown",
   "metadata": {},
   "source": [
    "### Константная модель"
   ]
  },
  {
   "cell_type": "code",
   "execution_count": 185,
   "metadata": {},
   "outputs": [],
   "source": [
    "# Любому объекту модель прогнозирует среднее значение:\n",
    "start_time = time()\n",
    "predicted = pd.Series([y_trainval.mean()]*len(y_test))\n",
    "run_time = time() - start_time\n",
    "score = (((y_test-predicted)**2).mean())**0.5\n",
    "df_results.loc['Constant Model'] = [score, run_time]"
   ]
  },
  {
   "cell_type": "markdown",
   "metadata": {},
   "source": [
    "# 3. Анализ моделей"
   ]
  },
  {
   "cell_type": "code",
   "execution_count": 186,
   "metadata": {},
   "outputs": [
    {
     "data": {
      "text/html": [
       "<div>\n",
       "<style scoped>\n",
       "    .dataframe tbody tr th:only-of-type {\n",
       "        vertical-align: middle;\n",
       "    }\n",
       "\n",
       "    .dataframe tbody tr th {\n",
       "        vertical-align: top;\n",
       "    }\n",
       "\n",
       "    .dataframe thead th {\n",
       "        text-align: right;\n",
       "    }\n",
       "</style>\n",
       "<table border=\"1\" class=\"dataframe\">\n",
       "  <thead>\n",
       "    <tr style=\"text-align: right;\">\n",
       "      <th></th>\n",
       "      <th>rmse</th>\n",
       "      <th>run_time</th>\n",
       "    </tr>\n",
       "  </thead>\n",
       "  <tbody>\n",
       "    <tr>\n",
       "      <td>DecisionTreeRegressor</td>\n",
       "      <td>6456.756597</td>\n",
       "      <td>0.779911</td>\n",
       "    </tr>\n",
       "    <tr>\n",
       "      <td>RandomForestRegressor</td>\n",
       "      <td>4392.604972</td>\n",
       "      <td>39.910916</td>\n",
       "    </tr>\n",
       "    <tr>\n",
       "      <td>AdaBoostRegressor</td>\n",
       "      <td>4442.760151</td>\n",
       "      <td>2.121885</td>\n",
       "    </tr>\n",
       "    <tr>\n",
       "      <td>GradientBoostingRegressor</td>\n",
       "      <td>4760.155292</td>\n",
       "      <td>5.792146</td>\n",
       "    </tr>\n",
       "    <tr>\n",
       "      <td>HistGradientBoostingRegressor</td>\n",
       "      <td>4440.200223</td>\n",
       "      <td>11.833830</td>\n",
       "    </tr>\n",
       "    <tr>\n",
       "      <td>XGBRegressor</td>\n",
       "      <td>1887.357358</td>\n",
       "      <td>17.403550</td>\n",
       "    </tr>\n",
       "    <tr>\n",
       "      <td>LGBMRegressor</td>\n",
       "      <td>1933.911616</td>\n",
       "      <td>6.377688</td>\n",
       "    </tr>\n",
       "    <tr>\n",
       "      <td>CatBoostRegressor</td>\n",
       "      <td>3780.033106</td>\n",
       "      <td>8.093255</td>\n",
       "    </tr>\n",
       "    <tr>\n",
       "      <td>Constant Model</td>\n",
       "      <td>4661.458417</td>\n",
       "      <td>0.009247</td>\n",
       "    </tr>\n",
       "  </tbody>\n",
       "</table>\n",
       "</div>"
      ],
      "text/plain": [
       "                                      rmse   run_time\n",
       "DecisionTreeRegressor          6456.756597   0.779911\n",
       "RandomForestRegressor          4392.604972  39.910916\n",
       "AdaBoostRegressor              4442.760151   2.121885\n",
       "GradientBoostingRegressor      4760.155292   5.792146\n",
       "HistGradientBoostingRegressor  4440.200223  11.833830\n",
       "XGBRegressor                   1887.357358  17.403550\n",
       "LGBMRegressor                  1933.911616   6.377688\n",
       "CatBoostRegressor              3780.033106   8.093255\n",
       "Constant Model                 4661.458417   0.009247"
      ]
     },
     "execution_count": 186,
     "metadata": {},
     "output_type": "execute_result"
    }
   ],
   "source": [
    "df_results"
   ]
  },
  {
   "cell_type": "code",
   "execution_count": 187,
   "metadata": {},
   "outputs": [
    {
     "data": {
      "text/plain": [
       "<matplotlib.axes._subplots.AxesSubplot at 0x7f48c4c3a290>"
      ]
     },
     "execution_count": 187,
     "metadata": {},
     "output_type": "execute_result"
    },
    {
     "data": {
      "image/png": "[encoded data removed]",
      "text/plain": [
       "<Figure size 1152x432 with 1 Axes>"
      ]
     },
     "metadata": {
      "needs_background": "light"
     },
     "output_type": "display_data"
    }
   ],
   "source": [
    "df_results.sort_values('rmse', ascending=False, inplace=True)\n",
    "df_results['rmse'].plot(kind='bar', grid=True, figsize=(16, 6))\n"
   ]
  },
  {
   "cell_type": "code",
   "execution_count": 188,
   "metadata": {},
   "outputs": [
    {
     "data": {
      "text/plain": [
       "<matplotlib.axes._subplots.AxesSubplot at 0x7f48c52df510>"
      ]
     },
     "execution_count": 188,
     "metadata": {},
     "output_type": "execute_result"
    },
    {
     "data": {
      "image/png": "[encoded data removed]",
      "text/plain": [
       "<Figure size 1152x432 with 1 Axes>"
      ]
     },
     "metadata": {
      "needs_background": "light"
     },
     "output_type": "display_data"
    }
   ],
   "source": [
    "df_results.sort_values('run_time', ascending=False, inplace=True)\n",
    "df_results['run_time'].plot(kind='bar', grid=True, figsize=(16, 6))"
   ]
  },
  {
   "cell_type": "markdown",
   "metadata": {},
   "source": [
    "## Вывод:"
   ]
  },
  {
   "cell_type": "markdown",
   "metadata": {},
   "source": [
    "Наилучшее качество показала модель XGBoost. Совсем чуть-чуть отстала модель LGBM. Но по времени обучения LGBM существенно быстрее. Константная модель показала гораздо более худший результат, значит, все хорошо."
   ]
  }
 ],
 "metadata": {
  "kernelspec": {
   "display_name": "Python 3 (ipykernel)",
   "language": "python",
   "name": "python3"
  },
  "language_info": {
   "codemirror_mode": {
    "name": "ipython",
    "version": 3
   },
   "file_extension": ".py",
   "mimetype": "text/x-python",
   "name": "python",
   "nbconvert_exporter": "python",
   "pygments_lexer": "ipython3",
   "version": "3.9.5"
  },
  "toc": {
   "base_numbering": 1,
   "nav_menu": {},
   "number_sections": true,
   "sideBar": true,
   "skip_h1_title": true,
   "title_cell": "Table of Contents",
   "title_sidebar": "Contents",
   "toc_cell": false,
   "toc_position": {},
   "toc_section_display": true,
   "toc_window_display": false
  }
 },
 "nbformat": 4,
 "nbformat_minor": 2
}
