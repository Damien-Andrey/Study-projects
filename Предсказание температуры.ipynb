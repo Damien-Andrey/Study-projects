{
 "cells": [
  {
   "cell_type": "markdown",
   "metadata": {},
   "source": [
    "## Условие задачи\n",
    "\n",
    "Чтобы оптимизировать производственные расходы, металлургический комбинат решил уменьшить потребление электроэнергии на этапе обработки стали. Вам предстоит построить модель, которая предскажет температуру стали."
   ]
  },
  {
   "cell_type": "markdown",
   "metadata": {},
   "source": [
    "### Описание этапа обработки\n",
    "Сталь обрабатывают в металлическом ковше вместимостью около 100 тонн. Чтобы ковш выдерживал высокие температуры, изнутри его облицовывают огнеупорным кирпичом. Расплавленную сталь заливают в ковш и подогревают до нужной температуры графитовыми электродами. Они установлены в крышке ковша. \n",
    "\n",
    "Из сплава выводится сера (десульфурация), добавлением примесей корректируется химический состав и отбираются пробы. Сталь легируют — изменяют её состав — подавая куски сплава из бункера для сыпучих материалов или проволоку через специальный трайб-аппарат (англ. tribe, «масса»).\n",
    "\n",
    "Перед тем как первый раз ввести легирующие добавки, измеряют температуру стали и производят её химический анализ. Потом температуру на несколько минут повышают, добавляют легирующие материалы и продувают сплав инертным газом. Затем его перемешивают и снова проводят измерения. Такой цикл повторяется до достижения целевого химического состава и оптимальной температуры плавки.\n",
    "\n",
    "Тогда расплавленная сталь отправляется на доводку металла или поступает в машину непрерывной разливки. Оттуда готовый продукт выходит в виде заготовок-слябов (англ. *slab*, «плита»)."
   ]
  },
  {
   "cell_type": "markdown",
   "metadata": {},
   "source": [
    " ### Описание данных\n",
    "\n",
    "Данные состоят из файлов, полученных из разных источников:\n",
    "\n",
    "- `data_arc.csv` — данные об электродах;\n",
    "- `data_bulk.csv` — данные о подаче сыпучих материалов (объём);\n",
    "- `data_bulk_time.csv` *—* данные о подаче сыпучих материалов (время);\n",
    "- `data_gas.csv` — данные о продувке сплава газом;\n",
    "- `data_temp.csv` — результаты измерения температуры;\n",
    "- `data_wire.csv` — данные о проволочных материалах (объём);\n",
    "- `data_wire_time.csv` — данные о проволочных материалах (время).\n",
    "\n",
    "Во всех файлах столбец `key` содержит номер партии. В файлах может быть несколько строк с одинаковым значением `key`: они соответствуют разным итерациям обработки."
   ]
  },
  {
   "cell_type": "markdown",
   "metadata": {},
   "source": [
    "# 1. Исследовательский анализ данных"
   ]
  },
  {
   "cell_type": "code",
   "execution_count": 1,
   "metadata": {},
   "outputs": [],
   "source": [
    "import pandas as pd\n",
    "import numpy as np\n",
    "import matplotlib\n",
    "import matplotlib.pyplot as plt\n",
    "import seaborn as sns\n",
    "%matplotlib inline\n",
    "from matplotlib.pyplot import figure\n",
    "from sklearn.tree import DecisionTreeRegressor\n",
    "from sklearn import datasets, linear_model, preprocessing\n",
    "\n",
    "\n",
    "from sklearn.linear_model import LogisticRegression\n",
    "from sklearn.model_selection import train_test_split\n",
    "from sklearn.metrics import mean_absolute_error\n",
    "from sklearn.linear_model import LinearRegression\n",
    "from sklearn.metrics import confusion_matrix\n",
    "\n",
    "\n",
    "from time import time\n",
    "\n",
    "\n",
    "from sklearn.svm import LinearSVC\n",
    "\n",
    "from sklearn.experimental import enable_hist_gradient_boosting\n",
    "from sklearn.ensemble import (RandomForestRegressor,\n",
    "                              AdaBoostRegressor,\n",
    "                              GradientBoostingRegressor,\n",
    "                              HistGradientBoostingRegressor)\n",
    "from xgboost import XGBRegressor\n",
    "from lightgbm import LGBMRegressor\n",
    "from catboost import CatBoostRegressor"
   ]
  },
  {
   "cell_type": "code",
   "execution_count": 2,
   "metadata": {},
   "outputs": [],
   "source": [
    "# Создадим датафреймы из каждого файла\n",
    "arc = pd.read_csv('/datasets/final_steel/data_arc.csv', parse_dates=['Начало нагрева дугой', 'Конец нагрева дугой'])\n",
    "wire = pd.read_csv('/datasets/final_steel/data_wire.csv')\n",
    "temp = pd.read_csv('/datasets/final_steel/data_temp.csv', parse_dates=['Время замера'])\n",
    "gas = pd.read_csv('/datasets/final_steel/data_gas.csv')\n",
    "bulk = pd.read_csv('/datasets/final_steel/data_bulk.csv')\n",
    "wire_time = pd.read_csv('/datasets/final_steel/data_wire_time.csv', parse_dates=True)\n",
    "bulk_time = pd.read_csv('/datasets/final_steel/data_bulk_time.csv', parse_dates=True)"
   ]
  },
  {
   "cell_type": "code",
   "execution_count": 3,
   "metadata": {},
   "outputs": [
    {
     "data": {
      "text/html": [
       "<div>\n",
       "<style scoped>\n",
       "    .dataframe tbody tr th:only-of-type {\n",
       "        vertical-align: middle;\n",
       "    }\n",
       "\n",
       "    .dataframe tbody tr th {\n",
       "        vertical-align: top;\n",
       "    }\n",
       "\n",
       "    .dataframe thead th {\n",
       "        text-align: right;\n",
       "    }\n",
       "</style>\n",
       "<table border=\"1\" class=\"dataframe\">\n",
       "  <thead>\n",
       "    <tr style=\"text-align: right;\">\n",
       "      <th></th>\n",
       "      <th>key</th>\n",
       "      <th>Начало нагрева дугой</th>\n",
       "      <th>Конец нагрева дугой</th>\n",
       "      <th>Активная мощность</th>\n",
       "      <th>Реактивная мощность</th>\n",
       "    </tr>\n",
       "  </thead>\n",
       "  <tbody>\n",
       "    <tr>\n",
       "      <th>0</th>\n",
       "      <td>1</td>\n",
       "      <td>2019-05-03 11:02:14</td>\n",
       "      <td>2019-05-03 11:06:02</td>\n",
       "      <td>0.976059</td>\n",
       "      <td>0.687084</td>\n",
       "    </tr>\n",
       "    <tr>\n",
       "      <th>1</th>\n",
       "      <td>1</td>\n",
       "      <td>2019-05-03 11:07:28</td>\n",
       "      <td>2019-05-03 11:10:33</td>\n",
       "      <td>0.805607</td>\n",
       "      <td>0.520285</td>\n",
       "    </tr>\n",
       "    <tr>\n",
       "      <th>2</th>\n",
       "      <td>1</td>\n",
       "      <td>2019-05-03 11:11:44</td>\n",
       "      <td>2019-05-03 11:14:36</td>\n",
       "      <td>0.744363</td>\n",
       "      <td>0.498805</td>\n",
       "    </tr>\n",
       "    <tr>\n",
       "      <th>3</th>\n",
       "      <td>1</td>\n",
       "      <td>2019-05-03 11:18:14</td>\n",
       "      <td>2019-05-03 11:24:19</td>\n",
       "      <td>1.659363</td>\n",
       "      <td>1.062669</td>\n",
       "    </tr>\n",
       "    <tr>\n",
       "      <th>4</th>\n",
       "      <td>1</td>\n",
       "      <td>2019-05-03 11:26:09</td>\n",
       "      <td>2019-05-03 11:28:37</td>\n",
       "      <td>0.692755</td>\n",
       "      <td>0.414397</td>\n",
       "    </tr>\n",
       "    <tr>\n",
       "      <th>...</th>\n",
       "      <td>...</td>\n",
       "      <td>...</td>\n",
       "      <td>...</td>\n",
       "      <td>...</td>\n",
       "      <td>...</td>\n",
       "    </tr>\n",
       "    <tr>\n",
       "      <th>14871</th>\n",
       "      <td>3241</td>\n",
       "      <td>2019-09-01 03:58:58</td>\n",
       "      <td>2019-09-01 04:01:35</td>\n",
       "      <td>0.533670</td>\n",
       "      <td>0.354439</td>\n",
       "    </tr>\n",
       "    <tr>\n",
       "      <th>14872</th>\n",
       "      <td>3241</td>\n",
       "      <td>2019-09-01 04:05:04</td>\n",
       "      <td>2019-09-01 04:08:04</td>\n",
       "      <td>0.676604</td>\n",
       "      <td>0.523631</td>\n",
       "    </tr>\n",
       "    <tr>\n",
       "      <th>14873</th>\n",
       "      <td>3241</td>\n",
       "      <td>2019-09-01 04:16:41</td>\n",
       "      <td>2019-09-01 04:19:45</td>\n",
       "      <td>0.733899</td>\n",
       "      <td>0.475654</td>\n",
       "    </tr>\n",
       "    <tr>\n",
       "      <th>14874</th>\n",
       "      <td>3241</td>\n",
       "      <td>2019-09-01 04:31:51</td>\n",
       "      <td>2019-09-01 04:32:48</td>\n",
       "      <td>0.220694</td>\n",
       "      <td>0.145768</td>\n",
       "    </tr>\n",
       "    <tr>\n",
       "      <th>14875</th>\n",
       "      <td>3241</td>\n",
       "      <td>2019-09-01 04:34:47</td>\n",
       "      <td>2019-09-01 04:36:08</td>\n",
       "      <td>0.306580</td>\n",
       "      <td>0.196708</td>\n",
       "    </tr>\n",
       "  </tbody>\n",
       "</table>\n",
       "<p>14876 rows × 5 columns</p>\n",
       "</div>"
      ],
      "text/plain": [
       "        key Начало нагрева дугой Конец нагрева дугой  Активная мощность  \\\n",
       "0         1  2019-05-03 11:02:14 2019-05-03 11:06:02           0.976059   \n",
       "1         1  2019-05-03 11:07:28 2019-05-03 11:10:33           0.805607   \n",
       "2         1  2019-05-03 11:11:44 2019-05-03 11:14:36           0.744363   \n",
       "3         1  2019-05-03 11:18:14 2019-05-03 11:24:19           1.659363   \n",
       "4         1  2019-05-03 11:26:09 2019-05-03 11:28:37           0.692755   \n",
       "...     ...                  ...                 ...                ...   \n",
       "14871  3241  2019-09-01 03:58:58 2019-09-01 04:01:35           0.533670   \n",
       "14872  3241  2019-09-01 04:05:04 2019-09-01 04:08:04           0.676604   \n",
       "14873  3241  2019-09-01 04:16:41 2019-09-01 04:19:45           0.733899   \n",
       "14874  3241  2019-09-01 04:31:51 2019-09-01 04:32:48           0.220694   \n",
       "14875  3241  2019-09-01 04:34:47 2019-09-01 04:36:08           0.306580   \n",
       "\n",
       "       Реактивная мощность  \n",
       "0                 0.687084  \n",
       "1                 0.520285  \n",
       "2                 0.498805  \n",
       "3                 1.062669  \n",
       "4                 0.414397  \n",
       "...                    ...  \n",
       "14871             0.354439  \n",
       "14872             0.523631  \n",
       "14873             0.475654  \n",
       "14874             0.145768  \n",
       "14875             0.196708  \n",
       "\n",
       "[14876 rows x 5 columns]"
      ]
     },
     "execution_count": 3,
     "metadata": {},
     "output_type": "execute_result"
    }
   ],
   "source": [
    "arc"
   ]
  },
  {
   "cell_type": "code",
   "execution_count": 4,
   "metadata": {},
   "outputs": [
    {
     "data": {
      "text/html": [
       "<div>\n",
       "<style scoped>\n",
       "    .dataframe tbody tr th:only-of-type {\n",
       "        vertical-align: middle;\n",
       "    }\n",
       "\n",
       "    .dataframe tbody tr th {\n",
       "        vertical-align: top;\n",
       "    }\n",
       "\n",
       "    .dataframe thead th {\n",
       "        text-align: right;\n",
       "    }\n",
       "</style>\n",
       "<table border=\"1\" class=\"dataframe\">\n",
       "  <thead>\n",
       "    <tr style=\"text-align: right;\">\n",
       "      <th></th>\n",
       "      <th>key</th>\n",
       "      <th>Bulk 1</th>\n",
       "      <th>Bulk 2</th>\n",
       "      <th>Bulk 3</th>\n",
       "      <th>Bulk 4</th>\n",
       "      <th>Bulk 5</th>\n",
       "      <th>Bulk 6</th>\n",
       "      <th>Bulk 7</th>\n",
       "      <th>Bulk 8</th>\n",
       "      <th>Bulk 9</th>\n",
       "      <th>Bulk 10</th>\n",
       "      <th>Bulk 11</th>\n",
       "      <th>Bulk 12</th>\n",
       "      <th>Bulk 13</th>\n",
       "      <th>Bulk 14</th>\n",
       "      <th>Bulk 15</th>\n",
       "    </tr>\n",
       "  </thead>\n",
       "  <tbody>\n",
       "    <tr>\n",
       "      <th>0</th>\n",
       "      <td>1</td>\n",
       "      <td>NaN</td>\n",
       "      <td>NaN</td>\n",
       "      <td>NaN</td>\n",
       "      <td>2019-05-03 11:21:30</td>\n",
       "      <td>NaN</td>\n",
       "      <td>NaN</td>\n",
       "      <td>NaN</td>\n",
       "      <td>NaN</td>\n",
       "      <td>NaN</td>\n",
       "      <td>NaN</td>\n",
       "      <td>NaN</td>\n",
       "      <td>2019-05-03 11:03:52</td>\n",
       "      <td>NaN</td>\n",
       "      <td>2019-05-03 11:03:52</td>\n",
       "      <td>2019-05-03 11:03:52</td>\n",
       "    </tr>\n",
       "    <tr>\n",
       "      <th>1</th>\n",
       "      <td>2</td>\n",
       "      <td>NaN</td>\n",
       "      <td>NaN</td>\n",
       "      <td>NaN</td>\n",
       "      <td>2019-05-03 11:46:38</td>\n",
       "      <td>NaN</td>\n",
       "      <td>NaN</td>\n",
       "      <td>NaN</td>\n",
       "      <td>NaN</td>\n",
       "      <td>NaN</td>\n",
       "      <td>NaN</td>\n",
       "      <td>NaN</td>\n",
       "      <td>2019-05-03 11:40:20</td>\n",
       "      <td>NaN</td>\n",
       "      <td>2019-05-03 11:40:20</td>\n",
       "      <td>2019-05-03 11:40:20</td>\n",
       "    </tr>\n",
       "    <tr>\n",
       "      <th>2</th>\n",
       "      <td>3</td>\n",
       "      <td>NaN</td>\n",
       "      <td>NaN</td>\n",
       "      <td>NaN</td>\n",
       "      <td>2019-05-03 12:31:06</td>\n",
       "      <td>NaN</td>\n",
       "      <td>NaN</td>\n",
       "      <td>NaN</td>\n",
       "      <td>NaN</td>\n",
       "      <td>NaN</td>\n",
       "      <td>NaN</td>\n",
       "      <td>NaN</td>\n",
       "      <td>2019-05-03 12:09:40</td>\n",
       "      <td>NaN</td>\n",
       "      <td>2019-05-03 12:09:40</td>\n",
       "      <td>2019-05-03 12:09:40</td>\n",
       "    </tr>\n",
       "    <tr>\n",
       "      <th>3</th>\n",
       "      <td>4</td>\n",
       "      <td>NaN</td>\n",
       "      <td>NaN</td>\n",
       "      <td>NaN</td>\n",
       "      <td>2019-05-03 12:48:43</td>\n",
       "      <td>NaN</td>\n",
       "      <td>NaN</td>\n",
       "      <td>NaN</td>\n",
       "      <td>NaN</td>\n",
       "      <td>NaN</td>\n",
       "      <td>NaN</td>\n",
       "      <td>NaN</td>\n",
       "      <td>2019-05-03 12:41:24</td>\n",
       "      <td>NaN</td>\n",
       "      <td>2019-05-03 12:41:24</td>\n",
       "      <td>2019-05-03 12:41:24</td>\n",
       "    </tr>\n",
       "    <tr>\n",
       "      <th>4</th>\n",
       "      <td>5</td>\n",
       "      <td>NaN</td>\n",
       "      <td>NaN</td>\n",
       "      <td>NaN</td>\n",
       "      <td>2019-05-03 13:18:50</td>\n",
       "      <td>NaN</td>\n",
       "      <td>NaN</td>\n",
       "      <td>NaN</td>\n",
       "      <td>NaN</td>\n",
       "      <td>NaN</td>\n",
       "      <td>NaN</td>\n",
       "      <td>NaN</td>\n",
       "      <td>2019-05-03 13:12:56</td>\n",
       "      <td>NaN</td>\n",
       "      <td>2019-05-03 13:12:56</td>\n",
       "      <td>2019-05-03 13:12:56</td>\n",
       "    </tr>\n",
       "  </tbody>\n",
       "</table>\n",
       "</div>"
      ],
      "text/plain": [
       "   key Bulk 1 Bulk 2 Bulk 3               Bulk 4 Bulk 5 Bulk 6 Bulk 7 Bulk 8  \\\n",
       "0    1    NaN    NaN    NaN  2019-05-03 11:21:30    NaN    NaN    NaN    NaN   \n",
       "1    2    NaN    NaN    NaN  2019-05-03 11:46:38    NaN    NaN    NaN    NaN   \n",
       "2    3    NaN    NaN    NaN  2019-05-03 12:31:06    NaN    NaN    NaN    NaN   \n",
       "3    4    NaN    NaN    NaN  2019-05-03 12:48:43    NaN    NaN    NaN    NaN   \n",
       "4    5    NaN    NaN    NaN  2019-05-03 13:18:50    NaN    NaN    NaN    NaN   \n",
       "\n",
       "  Bulk 9 Bulk 10 Bulk 11              Bulk 12 Bulk 13              Bulk 14  \\\n",
       "0    NaN     NaN     NaN  2019-05-03 11:03:52     NaN  2019-05-03 11:03:52   \n",
       "1    NaN     NaN     NaN  2019-05-03 11:40:20     NaN  2019-05-03 11:40:20   \n",
       "2    NaN     NaN     NaN  2019-05-03 12:09:40     NaN  2019-05-03 12:09:40   \n",
       "3    NaN     NaN     NaN  2019-05-03 12:41:24     NaN  2019-05-03 12:41:24   \n",
       "4    NaN     NaN     NaN  2019-05-03 13:12:56     NaN  2019-05-03 13:12:56   \n",
       "\n",
       "               Bulk 15  \n",
       "0  2019-05-03 11:03:52  \n",
       "1  2019-05-03 11:40:20  \n",
       "2  2019-05-03 12:09:40  \n",
       "3  2019-05-03 12:41:24  \n",
       "4  2019-05-03 13:12:56  "
      ]
     },
     "execution_count": 4,
     "metadata": {},
     "output_type": "execute_result"
    }
   ],
   "source": [
    "# Таблица со временем добавления сыпучих материалов не несет для нас никакой полезной информации, т.к. время добавления \n",
    "# имеет крайне низкое влияние на тем-ру по сравнению с объмом добавления этих материалов.\n",
    "bulk_time.head()"
   ]
  },
  {
   "cell_type": "markdown",
   "metadata": {},
   "source": [
    "### Обработка \"Результаты измерения температуры\""
   ]
  },
  {
   "cell_type": "code",
   "execution_count": 5,
   "metadata": {},
   "outputs": [
    {
     "data": {
      "text/html": [
       "<div>\n",
       "<style scoped>\n",
       "    .dataframe tbody tr th:only-of-type {\n",
       "        vertical-align: middle;\n",
       "    }\n",
       "\n",
       "    .dataframe tbody tr th {\n",
       "        vertical-align: top;\n",
       "    }\n",
       "\n",
       "    .dataframe thead th {\n",
       "        text-align: right;\n",
       "    }\n",
       "</style>\n",
       "<table border=\"1\" class=\"dataframe\">\n",
       "  <thead>\n",
       "    <tr style=\"text-align: right;\">\n",
       "      <th></th>\n",
       "      <th>key</th>\n",
       "      <th>Время замера</th>\n",
       "      <th>Температура</th>\n",
       "    </tr>\n",
       "  </thead>\n",
       "  <tbody>\n",
       "    <tr>\n",
       "      <th>0</th>\n",
       "      <td>1</td>\n",
       "      <td>2019-05-03 11:16:18</td>\n",
       "      <td>1571.0</td>\n",
       "    </tr>\n",
       "    <tr>\n",
       "      <th>1</th>\n",
       "      <td>1</td>\n",
       "      <td>2019-05-03 11:25:53</td>\n",
       "      <td>1604.0</td>\n",
       "    </tr>\n",
       "    <tr>\n",
       "      <th>2</th>\n",
       "      <td>1</td>\n",
       "      <td>2019-05-03 11:29:11</td>\n",
       "      <td>1618.0</td>\n",
       "    </tr>\n",
       "    <tr>\n",
       "      <th>3</th>\n",
       "      <td>1</td>\n",
       "      <td>2019-05-03 11:30:01</td>\n",
       "      <td>1601.0</td>\n",
       "    </tr>\n",
       "    <tr>\n",
       "      <th>4</th>\n",
       "      <td>1</td>\n",
       "      <td>2019-05-03 11:30:39</td>\n",
       "      <td>1613.0</td>\n",
       "    </tr>\n",
       "  </tbody>\n",
       "</table>\n",
       "</div>"
      ],
      "text/plain": [
       "   key        Время замера  Температура\n",
       "0    1 2019-05-03 11:16:18       1571.0\n",
       "1    1 2019-05-03 11:25:53       1604.0\n",
       "2    1 2019-05-03 11:29:11       1618.0\n",
       "3    1 2019-05-03 11:30:01       1601.0\n",
       "4    1 2019-05-03 11:30:39       1613.0"
      ]
     },
     "execution_count": 5,
     "metadata": {},
     "output_type": "execute_result"
    }
   ],
   "source": [
    "temp.head()"
   ]
  },
  {
   "cell_type": "code",
   "execution_count": 6,
   "metadata": {},
   "outputs": [
    {
     "data": {
      "text/html": [
       "<div>\n",
       "<style scoped>\n",
       "    .dataframe tbody tr th:only-of-type {\n",
       "        vertical-align: middle;\n",
       "    }\n",
       "\n",
       "    .dataframe tbody tr th {\n",
       "        vertical-align: top;\n",
       "    }\n",
       "\n",
       "    .dataframe thead th {\n",
       "        text-align: right;\n",
       "    }\n",
       "</style>\n",
       "<table border=\"1\" class=\"dataframe\">\n",
       "  <thead>\n",
       "    <tr style=\"text-align: right;\">\n",
       "      <th></th>\n",
       "      <th>key</th>\n",
       "      <th>Температура</th>\n",
       "    </tr>\n",
       "  </thead>\n",
       "  <tbody>\n",
       "    <tr>\n",
       "      <th>count</th>\n",
       "      <td>15907.000000</td>\n",
       "      <td>13006.000000</td>\n",
       "    </tr>\n",
       "    <tr>\n",
       "      <th>mean</th>\n",
       "      <td>1607.880870</td>\n",
       "      <td>1591.840920</td>\n",
       "    </tr>\n",
       "    <tr>\n",
       "      <th>std</th>\n",
       "      <td>942.212073</td>\n",
       "      <td>21.375851</td>\n",
       "    </tr>\n",
       "    <tr>\n",
       "      <th>min</th>\n",
       "      <td>1.000000</td>\n",
       "      <td>1191.000000</td>\n",
       "    </tr>\n",
       "    <tr>\n",
       "      <th>25%</th>\n",
       "      <td>790.000000</td>\n",
       "      <td>1581.000000</td>\n",
       "    </tr>\n",
       "    <tr>\n",
       "      <th>50%</th>\n",
       "      <td>1618.000000</td>\n",
       "      <td>1591.000000</td>\n",
       "    </tr>\n",
       "    <tr>\n",
       "      <th>75%</th>\n",
       "      <td>2427.000000</td>\n",
       "      <td>1601.000000</td>\n",
       "    </tr>\n",
       "    <tr>\n",
       "      <th>max</th>\n",
       "      <td>3241.000000</td>\n",
       "      <td>1705.000000</td>\n",
       "    </tr>\n",
       "  </tbody>\n",
       "</table>\n",
       "</div>"
      ],
      "text/plain": [
       "                key   Температура\n",
       "count  15907.000000  13006.000000\n",
       "mean    1607.880870   1591.840920\n",
       "std      942.212073     21.375851\n",
       "min        1.000000   1191.000000\n",
       "25%      790.000000   1581.000000\n",
       "50%     1618.000000   1591.000000\n",
       "75%     2427.000000   1601.000000\n",
       "max     3241.000000   1705.000000"
      ]
     },
     "execution_count": 6,
     "metadata": {},
     "output_type": "execute_result"
    }
   ],
   "source": [
    "temp.describe()"
   ]
  },
  {
   "cell_type": "code",
   "execution_count": 7,
   "metadata": {},
   "outputs": [
    {
     "name": "stdout",
     "output_type": "stream",
     "text": [
      "<class 'pandas.core.frame.DataFrame'>\n",
      "RangeIndex: 15907 entries, 0 to 15906\n",
      "Data columns (total 3 columns):\n",
      " #   Column        Non-Null Count  Dtype         \n",
      "---  ------        --------------  -----         \n",
      " 0   key           15907 non-null  int64         \n",
      " 1   Время замера  15907 non-null  datetime64[ns]\n",
      " 2   Температура   13006 non-null  float64       \n",
      "dtypes: datetime64[ns](1), float64(1), int64(1)\n",
      "memory usage: 372.9 KB\n"
     ]
    }
   ],
   "source": [
    "temp.info()"
   ]
  },
  {
   "cell_type": "code",
   "execution_count": 8,
   "metadata": {
    "scrolled": true
   },
   "outputs": [
    {
     "data": {
      "text/html": [
       "<div>\n",
       "<style scoped>\n",
       "    .dataframe tbody tr th:only-of-type {\n",
       "        vertical-align: middle;\n",
       "    }\n",
       "\n",
       "    .dataframe tbody tr th {\n",
       "        vertical-align: top;\n",
       "    }\n",
       "\n",
       "    .dataframe thead tr th {\n",
       "        text-align: left;\n",
       "    }\n",
       "\n",
       "    .dataframe thead tr:last-of-type th {\n",
       "        text-align: right;\n",
       "    }\n",
       "</style>\n",
       "<table border=\"1\" class=\"dataframe\">\n",
       "  <thead>\n",
       "    <tr>\n",
       "      <th></th>\n",
       "      <th colspan=\"2\" halign=\"left\">Время замера</th>\n",
       "      <th colspan=\"2\" halign=\"left\">Температура</th>\n",
       "    </tr>\n",
       "    <tr>\n",
       "      <th></th>\n",
       "      <th>first</th>\n",
       "      <th>last</th>\n",
       "      <th>first</th>\n",
       "      <th>last</th>\n",
       "    </tr>\n",
       "    <tr>\n",
       "      <th>key</th>\n",
       "      <th></th>\n",
       "      <th></th>\n",
       "      <th></th>\n",
       "      <th></th>\n",
       "    </tr>\n",
       "  </thead>\n",
       "  <tbody>\n",
       "    <tr>\n",
       "      <th>1</th>\n",
       "      <td>2019-05-03 11:16:18</td>\n",
       "      <td>2019-05-03 11:30:39</td>\n",
       "      <td>1571.0</td>\n",
       "      <td>1613.0</td>\n",
       "    </tr>\n",
       "    <tr>\n",
       "      <th>2</th>\n",
       "      <td>2019-05-03 11:37:27</td>\n",
       "      <td>2019-05-03 11:59:12</td>\n",
       "      <td>1581.0</td>\n",
       "      <td>1602.0</td>\n",
       "    </tr>\n",
       "    <tr>\n",
       "      <th>3</th>\n",
       "      <td>2019-05-03 12:13:17</td>\n",
       "      <td>2019-05-03 12:34:57</td>\n",
       "      <td>1596.0</td>\n",
       "      <td>1599.0</td>\n",
       "    </tr>\n",
       "    <tr>\n",
       "      <th>4</th>\n",
       "      <td>2019-05-03 12:52:57</td>\n",
       "      <td>2019-05-03 12:59:25</td>\n",
       "      <td>1601.0</td>\n",
       "      <td>1625.0</td>\n",
       "    </tr>\n",
       "    <tr>\n",
       "      <th>5</th>\n",
       "      <td>2019-05-03 13:23:19</td>\n",
       "      <td>2019-05-03 13:36:01</td>\n",
       "      <td>1576.0</td>\n",
       "      <td>1602.0</td>\n",
       "    </tr>\n",
       "  </tbody>\n",
       "</table>\n",
       "</div>"
      ],
      "text/plain": [
       "           Время замера                     Температура        \n",
       "                  first                last       first    last\n",
       "key                                                            \n",
       "1   2019-05-03 11:16:18 2019-05-03 11:30:39      1571.0  1613.0\n",
       "2   2019-05-03 11:37:27 2019-05-03 11:59:12      1581.0  1602.0\n",
       "3   2019-05-03 12:13:17 2019-05-03 12:34:57      1596.0  1599.0\n",
       "4   2019-05-03 12:52:57 2019-05-03 12:59:25      1601.0  1625.0\n",
       "5   2019-05-03 13:23:19 2019-05-03 13:36:01      1576.0  1602.0"
      ]
     },
     "execution_count": 8,
     "metadata": {},
     "output_type": "execute_result"
    }
   ],
   "source": [
    "# Сгруппируем таблицу по № партии с указанием начальной тем-ры и конечной и сразу начнем создавать датафрейм с \n",
    "# нашими потенциальными признаками. Чтобы NaN учитывались, определим 2 функции:\n",
    "def first(x):\n",
    "    return x.values[0]#возвращает первое значение \n",
    "\n",
    "def last(x):\n",
    "    return x.values[-1]#возвращает последнее значение \n",
    "df = temp.groupby('key').agg({'Время замера':[first, last], 'Температура':[first, last]})\n",
    "df.head()"
   ]
  },
  {
   "cell_type": "code",
   "execution_count": 9,
   "metadata": {},
   "outputs": [
    {
     "name": "stdout",
     "output_type": "stream",
     "text": [
      "<class 'pandas.core.frame.DataFrame'>\n",
      "Int64Index: 3216 entries, 1 to 3241\n",
      "Data columns (total 4 columns):\n",
      " #   Column                 Non-Null Count  Dtype         \n",
      "---  ------                 --------------  -----         \n",
      " 0   (Время замера, first)  3216 non-null   datetime64[ns]\n",
      " 1   (Время замера, last)   3216 non-null   datetime64[ns]\n",
      " 2   (Температура, first)   3216 non-null   float64       \n",
      " 3   (Температура, last)    2477 non-null   float64       \n",
      "dtypes: datetime64[ns](2), float64(2)\n",
      "memory usage: 125.6 KB\n"
     ]
    }
   ],
   "source": [
    "df.info()"
   ]
  },
  {
   "cell_type": "code",
   "execution_count": 10,
   "metadata": {},
   "outputs": [
    {
     "data": {
      "text/html": [
       "<div>\n",
       "<style scoped>\n",
       "    .dataframe tbody tr th:only-of-type {\n",
       "        vertical-align: middle;\n",
       "    }\n",
       "\n",
       "    .dataframe tbody tr th {\n",
       "        vertical-align: top;\n",
       "    }\n",
       "\n",
       "    .dataframe thead th {\n",
       "        text-align: right;\n",
       "    }\n",
       "</style>\n",
       "<table border=\"1\" class=\"dataframe\">\n",
       "  <thead>\n",
       "    <tr style=\"text-align: right;\">\n",
       "      <th></th>\n",
       "      <th>time_init</th>\n",
       "      <th>time_last</th>\n",
       "      <th>temp_init</th>\n",
       "      <th>temp_last</th>\n",
       "    </tr>\n",
       "    <tr>\n",
       "      <th>key</th>\n",
       "      <th></th>\n",
       "      <th></th>\n",
       "      <th></th>\n",
       "      <th></th>\n",
       "    </tr>\n",
       "  </thead>\n",
       "  <tbody>\n",
       "    <tr>\n",
       "      <th>1</th>\n",
       "      <td>2019-05-03 11:16:18</td>\n",
       "      <td>2019-05-03 11:30:39</td>\n",
       "      <td>1571.0</td>\n",
       "      <td>1613.0</td>\n",
       "    </tr>\n",
       "    <tr>\n",
       "      <th>2</th>\n",
       "      <td>2019-05-03 11:37:27</td>\n",
       "      <td>2019-05-03 11:59:12</td>\n",
       "      <td>1581.0</td>\n",
       "      <td>1602.0</td>\n",
       "    </tr>\n",
       "    <tr>\n",
       "      <th>3</th>\n",
       "      <td>2019-05-03 12:13:17</td>\n",
       "      <td>2019-05-03 12:34:57</td>\n",
       "      <td>1596.0</td>\n",
       "      <td>1599.0</td>\n",
       "    </tr>\n",
       "    <tr>\n",
       "      <th>4</th>\n",
       "      <td>2019-05-03 12:52:57</td>\n",
       "      <td>2019-05-03 12:59:25</td>\n",
       "      <td>1601.0</td>\n",
       "      <td>1625.0</td>\n",
       "    </tr>\n",
       "    <tr>\n",
       "      <th>5</th>\n",
       "      <td>2019-05-03 13:23:19</td>\n",
       "      <td>2019-05-03 13:36:01</td>\n",
       "      <td>1576.0</td>\n",
       "      <td>1602.0</td>\n",
       "    </tr>\n",
       "  </tbody>\n",
       "</table>\n",
       "</div>"
      ],
      "text/plain": [
       "              time_init           time_last  temp_init  temp_last\n",
       "key                                                              \n",
       "1   2019-05-03 11:16:18 2019-05-03 11:30:39     1571.0     1613.0\n",
       "2   2019-05-03 11:37:27 2019-05-03 11:59:12     1581.0     1602.0\n",
       "3   2019-05-03 12:13:17 2019-05-03 12:34:57     1596.0     1599.0\n",
       "4   2019-05-03 12:52:57 2019-05-03 12:59:25     1601.0     1625.0\n",
       "5   2019-05-03 13:23:19 2019-05-03 13:36:01     1576.0     1602.0"
      ]
     },
     "execution_count": 10,
     "metadata": {},
     "output_type": "execute_result"
    }
   ],
   "source": [
    "# Переименуем столбцы на удобные нам названия\n",
    "df.columns = ['time_init', 'time_last','temp_init', 'temp_last']\n",
    "df.head()"
   ]
  },
  {
   "cell_type": "code",
   "execution_count": 11,
   "metadata": {},
   "outputs": [],
   "source": [
    "# Удалим партии, где последняя температура не заполнена:\n",
    "df = df[df['temp_last'] == df['temp_last']]"
   ]
  },
  {
   "cell_type": "code",
   "execution_count": 12,
   "metadata": {},
   "outputs": [],
   "source": [
    "# Добавим столбец с разницей(в сек) между последним временем измерения и начальным\n",
    "df['diff_time'] = (df['time_last'] - df['time_init']).dt.total_seconds()"
   ]
  },
  {
   "cell_type": "code",
   "execution_count": 13,
   "metadata": {},
   "outputs": [],
   "source": [
    "# Удалим строки, где измерение проводилось только 1 раз(время нач = время конеч)\n",
    "df = df[df['diff_time'] != 0]"
   ]
  },
  {
   "cell_type": "code",
   "execution_count": 14,
   "metadata": {},
   "outputs": [
    {
     "name": "stdout",
     "output_type": "stream",
     "text": [
      "<class 'pandas.core.frame.DataFrame'>\n",
      "Int64Index: 2475 entries, 1 to 2499\n",
      "Data columns (total 5 columns):\n",
      " #   Column     Non-Null Count  Dtype         \n",
      "---  ------     --------------  -----         \n",
      " 0   time_init  2475 non-null   datetime64[ns]\n",
      " 1   time_last  2475 non-null   datetime64[ns]\n",
      " 2   temp_init  2475 non-null   float64       \n",
      " 3   temp_last  2475 non-null   float64       \n",
      " 4   diff_time  2475 non-null   float64       \n",
      "dtypes: datetime64[ns](2), float64(3)\n",
      "memory usage: 116.0 KB\n"
     ]
    }
   ],
   "source": [
    "df.info()"
   ]
  },
  {
   "cell_type": "code",
   "execution_count": 15,
   "metadata": {},
   "outputs": [
    {
     "data": {
      "text/html": [
       "<div>\n",
       "<style scoped>\n",
       "    .dataframe tbody tr th:only-of-type {\n",
       "        vertical-align: middle;\n",
       "    }\n",
       "\n",
       "    .dataframe tbody tr th {\n",
       "        vertical-align: top;\n",
       "    }\n",
       "\n",
       "    .dataframe thead th {\n",
       "        text-align: right;\n",
       "    }\n",
       "</style>\n",
       "<table border=\"1\" class=\"dataframe\">\n",
       "  <thead>\n",
       "    <tr style=\"text-align: right;\">\n",
       "      <th></th>\n",
       "      <th>temp_init</th>\n",
       "      <th>temp_last</th>\n",
       "      <th>diff_time</th>\n",
       "    </tr>\n",
       "  </thead>\n",
       "  <tbody>\n",
       "    <tr>\n",
       "      <th>count</th>\n",
       "      <td>2475.000000</td>\n",
       "      <td>2475.000000</td>\n",
       "      <td>2475.000000</td>\n",
       "    </tr>\n",
       "    <tr>\n",
       "      <th>mean</th>\n",
       "      <td>1588.402020</td>\n",
       "      <td>1595.336162</td>\n",
       "      <td>1854.953939</td>\n",
       "    </tr>\n",
       "    <tr>\n",
       "      <th>std</th>\n",
       "      <td>29.243044</td>\n",
       "      <td>16.023153</td>\n",
       "      <td>1301.241764</td>\n",
       "    </tr>\n",
       "    <tr>\n",
       "      <th>min</th>\n",
       "      <td>1191.000000</td>\n",
       "      <td>1541.000000</td>\n",
       "      <td>234.000000</td>\n",
       "    </tr>\n",
       "    <tr>\n",
       "      <th>25%</th>\n",
       "      <td>1572.000000</td>\n",
       "      <td>1587.000000</td>\n",
       "      <td>1182.500000</td>\n",
       "    </tr>\n",
       "    <tr>\n",
       "      <th>50%</th>\n",
       "      <td>1588.000000</td>\n",
       "      <td>1593.000000</td>\n",
       "      <td>1593.000000</td>\n",
       "    </tr>\n",
       "    <tr>\n",
       "      <th>75%</th>\n",
       "      <td>1605.000000</td>\n",
       "      <td>1599.000000</td>\n",
       "      <td>2262.500000</td>\n",
       "    </tr>\n",
       "    <tr>\n",
       "      <th>max</th>\n",
       "      <td>1679.000000</td>\n",
       "      <td>1700.000000</td>\n",
       "      <td>23537.000000</td>\n",
       "    </tr>\n",
       "  </tbody>\n",
       "</table>\n",
       "</div>"
      ],
      "text/plain": [
       "         temp_init    temp_last     diff_time\n",
       "count  2475.000000  2475.000000   2475.000000\n",
       "mean   1588.402020  1595.336162   1854.953939\n",
       "std      29.243044    16.023153   1301.241764\n",
       "min    1191.000000  1541.000000    234.000000\n",
       "25%    1572.000000  1587.000000   1182.500000\n",
       "50%    1588.000000  1593.000000   1593.000000\n",
       "75%    1605.000000  1599.000000   2262.500000\n",
       "max    1679.000000  1700.000000  23537.000000"
      ]
     },
     "execution_count": 15,
     "metadata": {},
     "output_type": "execute_result"
    }
   ],
   "source": [
    "df.describe()"
   ]
  },
  {
   "cell_type": "code",
   "execution_count": 16,
   "metadata": {},
   "outputs": [
    {
     "name": "stdout",
     "output_type": "stream",
     "text": [
      "<class 'pandas.core.frame.DataFrame'>\n",
      "Int64Index: 2475 entries, 1 to 2499\n",
      "Data columns (total 5 columns):\n",
      " #   Column     Non-Null Count  Dtype         \n",
      "---  ------     --------------  -----         \n",
      " 0   time_init  2475 non-null   datetime64[ns]\n",
      " 1   time_last  2475 non-null   datetime64[ns]\n",
      " 2   temp_init  2475 non-null   float64       \n",
      " 3   temp_last  2475 non-null   float64       \n",
      " 4   diff_time  2475 non-null   float64       \n",
      "dtypes: datetime64[ns](2), float64(3)\n",
      "memory usage: 116.0 KB\n"
     ]
    }
   ],
   "source": [
    "df.info()"
   ]
  },
  {
   "cell_type": "code",
   "execution_count": 17,
   "metadata": {},
   "outputs": [
    {
     "name": "stderr",
     "output_type": "stream",
     "text": [
      "/opt/conda/lib/python3.9/site-packages/seaborn/distributions.py:2557: FutureWarning: `distplot` is a deprecated function and will be removed in a future version. Please adapt your code to use either `displot` (a figure-level function with similar flexibility) or `histplot` (an axes-level function for histograms).\n",
      "  warnings.warn(msg, FutureWarning)\n"
     ]
    },
    {
     "data": {
      "text/plain": [
       "<AxesSubplot:xlabel='temp_init', ylabel='Density'>"
      ]
     },
     "execution_count": 17,
     "metadata": {},
     "output_type": "execute_result"
    },
    {
     "data": {
      "image/png": "[encoded data removed]",
      "text/plain": [
       "<Figure size 432x288 with 1 Axes>"
      ]
     },
     "metadata": {
      "needs_background": "light"
     },
     "output_type": "display_data"
    }
   ],
   "source": [
    "# Посмотрим распределение начальной тем-ры\n",
    "sns.distplot(a=df['temp_init'])"
   ]
  },
  {
   "cell_type": "code",
   "execution_count": 18,
   "metadata": {},
   "outputs": [
    {
     "data": {
      "text/plain": [
       "<AxesSubplot:xlabel='temp_init'>"
      ]
     },
     "execution_count": 18,
     "metadata": {},
     "output_type": "execute_result"
    },
    {
     "data": {
      "image/png": "[encoded data removed]",
      "text/plain": [
       "<Figure size 432x288 with 1 Axes>"
      ]
     },
     "metadata": {
      "needs_background": "light"
     },
     "output_type": "display_data"
    }
   ],
   "source": [
    "# Посмотрим боксплот\n",
    "sns.boxplot(x=df['temp_init'])"
   ]
  },
  {
   "cell_type": "code",
   "execution_count": 19,
   "metadata": {},
   "outputs": [
    {
     "data": {
      "text/html": [
       "<div>\n",
       "<style scoped>\n",
       "    .dataframe tbody tr th:only-of-type {\n",
       "        vertical-align: middle;\n",
       "    }\n",
       "\n",
       "    .dataframe tbody tr th {\n",
       "        vertical-align: top;\n",
       "    }\n",
       "\n",
       "    .dataframe thead th {\n",
       "        text-align: right;\n",
       "    }\n",
       "</style>\n",
       "<table border=\"1\" class=\"dataframe\">\n",
       "  <thead>\n",
       "    <tr style=\"text-align: right;\">\n",
       "      <th></th>\n",
       "      <th>time_init</th>\n",
       "      <th>time_last</th>\n",
       "      <th>temp_init</th>\n",
       "      <th>temp_last</th>\n",
       "      <th>diff_time</th>\n",
       "    </tr>\n",
       "    <tr>\n",
       "      <th>key</th>\n",
       "      <th></th>\n",
       "      <th></th>\n",
       "      <th></th>\n",
       "      <th></th>\n",
       "      <th></th>\n",
       "    </tr>\n",
       "  </thead>\n",
       "  <tbody>\n",
       "    <tr>\n",
       "      <th>867</th>\n",
       "      <td>2019-06-04 14:21:00</td>\n",
       "      <td>2019-06-04 14:57:17</td>\n",
       "      <td>1191.0</td>\n",
       "      <td>1599.0</td>\n",
       "      <td>2177.0</td>\n",
       "    </tr>\n",
       "    <tr>\n",
       "      <th>1214</th>\n",
       "      <td>2019-06-16 05:32:00</td>\n",
       "      <td>2019-06-16 06:14:45</td>\n",
       "      <td>1208.0</td>\n",
       "      <td>1591.0</td>\n",
       "      <td>2565.0</td>\n",
       "    </tr>\n",
       "    <tr>\n",
       "      <th>1619</th>\n",
       "      <td>2019-06-30 11:03:54</td>\n",
       "      <td>2019-06-30 11:21:54</td>\n",
       "      <td>1218.0</td>\n",
       "      <td>1590.0</td>\n",
       "      <td>1080.0</td>\n",
       "    </tr>\n",
       "    <tr>\n",
       "      <th>2052</th>\n",
       "      <td>2019-07-21 14:51:40</td>\n",
       "      <td>2019-07-21 15:24:06</td>\n",
       "      <td>1227.0</td>\n",
       "      <td>1592.0</td>\n",
       "      <td>1946.0</td>\n",
       "    </tr>\n",
       "  </tbody>\n",
       "</table>\n",
       "</div>"
      ],
      "text/plain": [
       "               time_init           time_last  temp_init  temp_last  diff_time\n",
       "key                                                                          \n",
       "867  2019-06-04 14:21:00 2019-06-04 14:57:17     1191.0     1599.0     2177.0\n",
       "1214 2019-06-16 05:32:00 2019-06-16 06:14:45     1208.0     1591.0     2565.0\n",
       "1619 2019-06-30 11:03:54 2019-06-30 11:21:54     1218.0     1590.0     1080.0\n",
       "2052 2019-07-21 14:51:40 2019-07-21 15:24:06     1227.0     1592.0     1946.0"
      ]
     },
     "execution_count": 19,
     "metadata": {},
     "output_type": "execute_result"
    }
   ],
   "source": [
    "# Посмотрим на строки с аномалиями\n",
    "df[df['temp_init']<=1500]"
   ]
  },
  {
   "cell_type": "code",
   "execution_count": 20,
   "metadata": {},
   "outputs": [],
   "source": [
    "# Удалим аномалии для улучшения качества данных\n",
    "df = df[df['temp_init']>1500]"
   ]
  },
  {
   "cell_type": "code",
   "execution_count": 21,
   "metadata": {},
   "outputs": [
    {
     "name": "stderr",
     "output_type": "stream",
     "text": [
      "/opt/conda/lib/python3.9/site-packages/seaborn/distributions.py:2557: FutureWarning: `distplot` is a deprecated function and will be removed in a future version. Please adapt your code to use either `displot` (a figure-level function with similar flexibility) or `histplot` (an axes-level function for histograms).\n",
      "  warnings.warn(msg, FutureWarning)\n"
     ]
    },
    {
     "data": {
      "text/plain": [
       "<AxesSubplot:xlabel='temp_init', ylabel='Density'>"
      ]
     },
     "execution_count": 21,
     "metadata": {},
     "output_type": "execute_result"
    },
    {
     "data": {
      "image/png": "[encoded data removed]",
      "text/plain": [
       "<Figure size 432x288 with 1 Axes>"
      ]
     },
     "metadata": {
      "needs_background": "light"
     },
     "output_type": "display_data"
    }
   ],
   "source": [
    "sns.distplot(a=df['temp_init'])"
   ]
  },
  {
   "cell_type": "code",
   "execution_count": 22,
   "metadata": {},
   "outputs": [
    {
     "name": "stderr",
     "output_type": "stream",
     "text": [
      "/opt/conda/lib/python3.9/site-packages/seaborn/distributions.py:2557: FutureWarning: `distplot` is a deprecated function and will be removed in a future version. Please adapt your code to use either `displot` (a figure-level function with similar flexibility) or `histplot` (an axes-level function for histograms).\n",
      "  warnings.warn(msg, FutureWarning)\n"
     ]
    },
    {
     "data": {
      "text/plain": [
       "<AxesSubplot:xlabel='temp_last', ylabel='Density'>"
      ]
     },
     "execution_count": 22,
     "metadata": {},
     "output_type": "execute_result"
    },
    {
     "data": {
      "image/png": "[encoded data removed]",
      "text/plain": [
       "<Figure size 432x288 with 1 Axes>"
      ]
     },
     "metadata": {
      "needs_background": "light"
     },
     "output_type": "display_data"
    }
   ],
   "source": [
    "# Посмотрим распределение конечной тем-ры\n",
    "sns.distplot(a=df['temp_last'])"
   ]
  },
  {
   "cell_type": "code",
   "execution_count": 23,
   "metadata": {},
   "outputs": [
    {
     "data": {
      "text/plain": [
       "<AxesSubplot:xlabel='temp_last'>"
      ]
     },
     "execution_count": 23,
     "metadata": {},
     "output_type": "execute_result"
    },
    {
     "data": {
      "image/png": "[encoded data removed]",
      "text/plain": [
       "<Figure size 432x288 with 1 Axes>"
      ]
     },
     "metadata": {
      "needs_background": "light"
     },
     "output_type": "display_data"
    }
   ],
   "source": [
    "# Посмотрим боксплот\n",
    "sns.boxplot(x=df['temp_last'])"
   ]
  },
  {
   "cell_type": "markdown",
   "metadata": {},
   "source": [
    "Видим маленький тонкий хвост после 1640, тянущийся за 1700. Он "
   ]
  },
  {
   "cell_type": "code",
   "execution_count": 24,
   "metadata": {},
   "outputs": [
    {
     "data": {
      "text/plain": [
       "0.032780250910562525"
      ]
     },
     "execution_count": 24,
     "metadata": {},
     "output_type": "execute_result"
    }
   ],
   "source": [
    "len(df[df['temp_last']>=1640])/len(df)"
   ]
  },
  {
   "cell_type": "code",
   "execution_count": 25,
   "metadata": {},
   "outputs": [
    {
     "data": {
      "text/html": [
       "<div>\n",
       "<style scoped>\n",
       "    .dataframe tbody tr th:only-of-type {\n",
       "        vertical-align: middle;\n",
       "    }\n",
       "\n",
       "    .dataframe tbody tr th {\n",
       "        vertical-align: top;\n",
       "    }\n",
       "\n",
       "    .dataframe thead th {\n",
       "        text-align: right;\n",
       "    }\n",
       "</style>\n",
       "<table border=\"1\" class=\"dataframe\">\n",
       "  <thead>\n",
       "    <tr style=\"text-align: right;\">\n",
       "      <th></th>\n",
       "      <th>time_init</th>\n",
       "      <th>time_last</th>\n",
       "      <th>temp_init</th>\n",
       "      <th>temp_last</th>\n",
       "      <th>diff_time</th>\n",
       "    </tr>\n",
       "    <tr>\n",
       "      <th>key</th>\n",
       "      <th></th>\n",
       "      <th></th>\n",
       "      <th></th>\n",
       "      <th></th>\n",
       "      <th></th>\n",
       "    </tr>\n",
       "  </thead>\n",
       "  <tbody>\n",
       "    <tr>\n",
       "      <th>51</th>\n",
       "      <td>2019-05-05 05:48:48</td>\n",
       "      <td>2019-05-05 06:10:21</td>\n",
       "      <td>1619.0</td>\n",
       "      <td>1690.0</td>\n",
       "      <td>1293.0</td>\n",
       "    </tr>\n",
       "    <tr>\n",
       "      <th>52</th>\n",
       "      <td>2019-05-05 06:21:58</td>\n",
       "      <td>2019-05-05 06:54:08</td>\n",
       "      <td>1617.0</td>\n",
       "      <td>1669.0</td>\n",
       "      <td>1930.0</td>\n",
       "    </tr>\n",
       "    <tr>\n",
       "      <th>53</th>\n",
       "      <td>2019-05-05 07:04:58</td>\n",
       "      <td>2019-05-05 07:38:14</td>\n",
       "      <td>1642.0</td>\n",
       "      <td>1671.0</td>\n",
       "      <td>1996.0</td>\n",
       "    </tr>\n",
       "    <tr>\n",
       "      <th>54</th>\n",
       "      <td>2019-05-05 07:49:38</td>\n",
       "      <td>2019-05-05 08:18:57</td>\n",
       "      <td>1630.0</td>\n",
       "      <td>1663.0</td>\n",
       "      <td>1759.0</td>\n",
       "    </tr>\n",
       "    <tr>\n",
       "      <th>55</th>\n",
       "      <td>2019-05-05 08:27:17</td>\n",
       "      <td>2019-05-05 08:57:46</td>\n",
       "      <td>1615.0</td>\n",
       "      <td>1654.0</td>\n",
       "      <td>1829.0</td>\n",
       "    </tr>\n",
       "    <tr>\n",
       "      <th>...</th>\n",
       "      <td>...</td>\n",
       "      <td>...</td>\n",
       "      <td>...</td>\n",
       "      <td>...</td>\n",
       "      <td>...</td>\n",
       "    </tr>\n",
       "    <tr>\n",
       "      <th>2389</th>\n",
       "      <td>2019-08-02 07:29:15</td>\n",
       "      <td>2019-08-02 07:44:39</td>\n",
       "      <td>1653.0</td>\n",
       "      <td>1646.0</td>\n",
       "      <td>924.0</td>\n",
       "    </tr>\n",
       "    <tr>\n",
       "      <th>2390</th>\n",
       "      <td>2019-08-02 08:16:44</td>\n",
       "      <td>2019-08-02 08:22:39</td>\n",
       "      <td>1679.0</td>\n",
       "      <td>1648.0</td>\n",
       "      <td>355.0</td>\n",
       "    </tr>\n",
       "    <tr>\n",
       "      <th>2391</th>\n",
       "      <td>2019-08-02 08:44:19</td>\n",
       "      <td>2019-08-02 09:06:45</td>\n",
       "      <td>1623.0</td>\n",
       "      <td>1644.0</td>\n",
       "      <td>1346.0</td>\n",
       "    </tr>\n",
       "    <tr>\n",
       "      <th>2392</th>\n",
       "      <td>2019-08-02 09:19:01</td>\n",
       "      <td>2019-08-02 09:36:30</td>\n",
       "      <td>1623.0</td>\n",
       "      <td>1650.0</td>\n",
       "      <td>1049.0</td>\n",
       "    </tr>\n",
       "    <tr>\n",
       "      <th>2393</th>\n",
       "      <td>2019-08-02 09:52:48</td>\n",
       "      <td>2019-08-02 10:12:01</td>\n",
       "      <td>1637.0</td>\n",
       "      <td>1648.0</td>\n",
       "      <td>1153.0</td>\n",
       "    </tr>\n",
       "  </tbody>\n",
       "</table>\n",
       "<p>81 rows × 5 columns</p>\n",
       "</div>"
      ],
      "text/plain": [
       "               time_init           time_last  temp_init  temp_last  diff_time\n",
       "key                                                                          \n",
       "51   2019-05-05 05:48:48 2019-05-05 06:10:21     1619.0     1690.0     1293.0\n",
       "52   2019-05-05 06:21:58 2019-05-05 06:54:08     1617.0     1669.0     1930.0\n",
       "53   2019-05-05 07:04:58 2019-05-05 07:38:14     1642.0     1671.0     1996.0\n",
       "54   2019-05-05 07:49:38 2019-05-05 08:18:57     1630.0     1663.0     1759.0\n",
       "55   2019-05-05 08:27:17 2019-05-05 08:57:46     1615.0     1654.0     1829.0\n",
       "...                  ...                 ...        ...        ...        ...\n",
       "2389 2019-08-02 07:29:15 2019-08-02 07:44:39     1653.0     1646.0      924.0\n",
       "2390 2019-08-02 08:16:44 2019-08-02 08:22:39     1679.0     1648.0      355.0\n",
       "2391 2019-08-02 08:44:19 2019-08-02 09:06:45     1623.0     1644.0     1346.0\n",
       "2392 2019-08-02 09:19:01 2019-08-02 09:36:30     1623.0     1650.0     1049.0\n",
       "2393 2019-08-02 09:52:48 2019-08-02 10:12:01     1637.0     1648.0     1153.0\n",
       "\n",
       "[81 rows x 5 columns]"
      ]
     },
     "execution_count": 25,
     "metadata": {},
     "output_type": "execute_result"
    }
   ],
   "source": [
    "# Посмотрим на строки с аномалиями\n",
    "df[df['temp_last']>=1640]"
   ]
  },
  {
   "cell_type": "code",
   "execution_count": 26,
   "metadata": {},
   "outputs": [],
   "source": [
    "# Удалим аномалии для улучшения качества данных\n",
    "df = df[df['temp_last']<1640]"
   ]
  },
  {
   "cell_type": "code",
   "execution_count": 27,
   "metadata": {},
   "outputs": [
    {
     "name": "stderr",
     "output_type": "stream",
     "text": [
      "/opt/conda/lib/python3.9/site-packages/seaborn/distributions.py:2557: FutureWarning: `distplot` is a deprecated function and will be removed in a future version. Please adapt your code to use either `displot` (a figure-level function with similar flexibility) or `histplot` (an axes-level function for histograms).\n",
      "  warnings.warn(msg, FutureWarning)\n"
     ]
    },
    {
     "data": {
      "text/plain": [
       "<AxesSubplot:xlabel='temp_last', ylabel='Density'>"
      ]
     },
     "execution_count": 27,
     "metadata": {},
     "output_type": "execute_result"
    },
    {
     "data": {
      "image/png": "[encoded data removed]",
      "text/plain": [
       "<Figure size 432x288 with 1 Axes>"
      ]
     },
     "metadata": {
      "needs_background": "light"
     },
     "output_type": "display_data"
    }
   ],
   "source": [
    "sns.distplot(a=df['temp_last'])"
   ]
  },
  {
   "cell_type": "markdown",
   "metadata": {},
   "source": [
    "### Обработка \"Данные об электродах\""
   ]
  },
  {
   "cell_type": "code",
   "execution_count": 28,
   "metadata": {},
   "outputs": [
    {
     "name": "stdout",
     "output_type": "stream",
     "text": [
      "<class 'pandas.core.frame.DataFrame'>\n",
      "RangeIndex: 14876 entries, 0 to 14875\n",
      "Data columns (total 5 columns):\n",
      " #   Column                Non-Null Count  Dtype         \n",
      "---  ------                --------------  -----         \n",
      " 0   key                   14876 non-null  int64         \n",
      " 1   Начало нагрева дугой  14876 non-null  datetime64[ns]\n",
      " 2   Конец нагрева дугой   14876 non-null  datetime64[ns]\n",
      " 3   Активная мощность     14876 non-null  float64       \n",
      " 4   Реактивная мощность   14876 non-null  float64       \n",
      "dtypes: datetime64[ns](2), float64(2), int64(1)\n",
      "memory usage: 581.2 KB\n"
     ]
    }
   ],
   "source": [
    "arc.info()"
   ]
  },
  {
   "cell_type": "code",
   "execution_count": 29,
   "metadata": {},
   "outputs": [
    {
     "data": {
      "text/html": [
       "<div>\n",
       "<style scoped>\n",
       "    .dataframe tbody tr th:only-of-type {\n",
       "        vertical-align: middle;\n",
       "    }\n",
       "\n",
       "    .dataframe tbody tr th {\n",
       "        vertical-align: top;\n",
       "    }\n",
       "\n",
       "    .dataframe thead th {\n",
       "        text-align: right;\n",
       "    }\n",
       "</style>\n",
       "<table border=\"1\" class=\"dataframe\">\n",
       "  <thead>\n",
       "    <tr style=\"text-align: right;\">\n",
       "      <th></th>\n",
       "      <th>active_power</th>\n",
       "      <th>reactive_power</th>\n",
       "    </tr>\n",
       "    <tr>\n",
       "      <th>key</th>\n",
       "      <th></th>\n",
       "      <th></th>\n",
       "    </tr>\n",
       "  </thead>\n",
       "  <tbody>\n",
       "    <tr>\n",
       "      <th>1</th>\n",
       "      <td>4.878147</td>\n",
       "      <td>3.183241</td>\n",
       "    </tr>\n",
       "    <tr>\n",
       "      <th>2</th>\n",
       "      <td>3.052598</td>\n",
       "      <td>1.998112</td>\n",
       "    </tr>\n",
       "    <tr>\n",
       "      <th>3</th>\n",
       "      <td>2.525882</td>\n",
       "      <td>1.599076</td>\n",
       "    </tr>\n",
       "    <tr>\n",
       "      <th>4</th>\n",
       "      <td>3.209250</td>\n",
       "      <td>2.060298</td>\n",
       "    </tr>\n",
       "    <tr>\n",
       "      <th>5</th>\n",
       "      <td>3.347173</td>\n",
       "      <td>2.252643</td>\n",
       "    </tr>\n",
       "    <tr>\n",
       "      <th>...</th>\n",
       "      <td>...</td>\n",
       "      <td>...</td>\n",
       "    </tr>\n",
       "    <tr>\n",
       "      <th>3237</th>\n",
       "      <td>3.932467</td>\n",
       "      <td>2.828459</td>\n",
       "    </tr>\n",
       "    <tr>\n",
       "      <th>3238</th>\n",
       "      <td>2.106529</td>\n",
       "      <td>1.681182</td>\n",
       "    </tr>\n",
       "    <tr>\n",
       "      <th>3239</th>\n",
       "      <td>4.666754</td>\n",
       "      <td>3.111617</td>\n",
       "    </tr>\n",
       "    <tr>\n",
       "      <th>3240</th>\n",
       "      <td>2.984083</td>\n",
       "      <td>2.483267</td>\n",
       "    </tr>\n",
       "    <tr>\n",
       "      <th>3241</th>\n",
       "      <td>2.471447</td>\n",
       "      <td>1.696199</td>\n",
       "    </tr>\n",
       "  </tbody>\n",
       "</table>\n",
       "<p>3214 rows × 2 columns</p>\n",
       "</div>"
      ],
      "text/plain": [
       "      active_power  reactive_power\n",
       "key                               \n",
       "1         4.878147        3.183241\n",
       "2         3.052598        1.998112\n",
       "3         2.525882        1.599076\n",
       "4         3.209250        2.060298\n",
       "5         3.347173        2.252643\n",
       "...            ...             ...\n",
       "3237      3.932467        2.828459\n",
       "3238      2.106529        1.681182\n",
       "3239      4.666754        3.111617\n",
       "3240      2.984083        2.483267\n",
       "3241      2.471447        1.696199\n",
       "\n",
       "[3214 rows x 2 columns]"
      ]
     },
     "execution_count": 29,
     "metadata": {},
     "output_type": "execute_result"
    }
   ],
   "source": [
    "arc_agg = arc.groupby('key').agg({'Активная мощность':'sum', \n",
    "                         'Реактивная мощность':'sum'})\n",
    "arc_agg.columns = ['active_power','reactive_power']\n",
    "arc_agg"
   ]
  },
  {
   "cell_type": "markdown",
   "metadata": {},
   "source": [
    "<font color='blue'> \n",
    "### <u>КОММЕНТАРИЙ РЕВЬЮЕРА</u>\n",
    "</font>\n",
    "<font color='green'>\n",
    "ок, здорово, сразу собрали."
   ]
  },
  {
   "cell_type": "code",
   "execution_count": 30,
   "metadata": {},
   "outputs": [],
   "source": [
    "df = df.join(arc_agg)\n",
    "#df.head(3)"
   ]
  },
  {
   "cell_type": "markdown",
   "metadata": {},
   "source": [
    "### Обработка \"Данные о подаче сыпучих материалов (объём)\""
   ]
  },
  {
   "cell_type": "code",
   "execution_count": 31,
   "metadata": {},
   "outputs": [
    {
     "name": "stdout",
     "output_type": "stream",
     "text": [
      "<class 'pandas.core.frame.DataFrame'>\n",
      "RangeIndex: 3129 entries, 0 to 3128\n",
      "Data columns (total 16 columns):\n",
      " #   Column   Non-Null Count  Dtype  \n",
      "---  ------   --------------  -----  \n",
      " 0   key      3129 non-null   int64  \n",
      " 1   Bulk 1   252 non-null    float64\n",
      " 2   Bulk 2   22 non-null     float64\n",
      " 3   Bulk 3   1298 non-null   float64\n",
      " 4   Bulk 4   1014 non-null   float64\n",
      " 5   Bulk 5   77 non-null     float64\n",
      " 6   Bulk 6   576 non-null    float64\n",
      " 7   Bulk 7   25 non-null     float64\n",
      " 8   Bulk 8   1 non-null      float64\n",
      " 9   Bulk 9   19 non-null     float64\n",
      " 10  Bulk 10  176 non-null    float64\n",
      " 11  Bulk 11  177 non-null    float64\n",
      " 12  Bulk 12  2450 non-null   float64\n",
      " 13  Bulk 13  18 non-null     float64\n",
      " 14  Bulk 14  2806 non-null   float64\n",
      " 15  Bulk 15  2248 non-null   float64\n",
      "dtypes: float64(15), int64(1)\n",
      "memory usage: 391.2 KB\n"
     ]
    }
   ],
   "source": [
    "bulk.info()"
   ]
  },
  {
   "cell_type": "code",
   "execution_count": 32,
   "metadata": {},
   "outputs": [],
   "source": [
    "#Заменим Nan на 0\n",
    "bulk.fillna(0, inplace=True)"
   ]
  },
  {
   "cell_type": "code",
   "execution_count": 33,
   "metadata": {},
   "outputs": [],
   "source": [
    "# Добавим столбец с суммой материалов по каждой партии и создадим новую таблицу с этим столбцом для добавления его в общую таблицу с признаками\n",
    "bulk['sum_bulk'] = bulk.iloc[:,1:].sum(axis=1)\n",
    "bulk_agg = bulk[['key', 'sum_bulk']].set_index(['key'])\n",
    "\n"
   ]
  },
  {
   "cell_type": "code",
   "execution_count": 34,
   "metadata": {},
   "outputs": [
    {
     "data": {
      "text/html": [
       "<div>\n",
       "<style scoped>\n",
       "    .dataframe tbody tr th:only-of-type {\n",
       "        vertical-align: middle;\n",
       "    }\n",
       "\n",
       "    .dataframe tbody tr th {\n",
       "        vertical-align: top;\n",
       "    }\n",
       "\n",
       "    .dataframe thead th {\n",
       "        text-align: right;\n",
       "    }\n",
       "</style>\n",
       "<table border=\"1\" class=\"dataframe\">\n",
       "  <thead>\n",
       "    <tr style=\"text-align: right;\">\n",
       "      <th></th>\n",
       "      <th>sum_bulk</th>\n",
       "    </tr>\n",
       "    <tr>\n",
       "      <th>key</th>\n",
       "      <th></th>\n",
       "    </tr>\n",
       "  </thead>\n",
       "  <tbody>\n",
       "    <tr>\n",
       "      <th>1</th>\n",
       "      <td>553.0</td>\n",
       "    </tr>\n",
       "    <tr>\n",
       "      <th>2</th>\n",
       "      <td>582.0</td>\n",
       "    </tr>\n",
       "    <tr>\n",
       "      <th>3</th>\n",
       "      <td>544.0</td>\n",
       "    </tr>\n",
       "    <tr>\n",
       "      <th>4</th>\n",
       "      <td>595.0</td>\n",
       "    </tr>\n",
       "    <tr>\n",
       "      <th>5</th>\n",
       "      <td>584.0</td>\n",
       "    </tr>\n",
       "    <tr>\n",
       "      <th>...</th>\n",
       "      <td>...</td>\n",
       "    </tr>\n",
       "    <tr>\n",
       "      <th>3237</th>\n",
       "      <td>758.0</td>\n",
       "    </tr>\n",
       "    <tr>\n",
       "      <th>3238</th>\n",
       "      <td>594.0</td>\n",
       "    </tr>\n",
       "    <tr>\n",
       "      <th>3239</th>\n",
       "      <td>630.0</td>\n",
       "    </tr>\n",
       "    <tr>\n",
       "      <th>3240</th>\n",
       "      <td>272.0</td>\n",
       "    </tr>\n",
       "    <tr>\n",
       "      <th>3241</th>\n",
       "      <td>232.0</td>\n",
       "    </tr>\n",
       "  </tbody>\n",
       "</table>\n",
       "<p>3129 rows × 1 columns</p>\n",
       "</div>"
      ],
      "text/plain": [
       "      sum_bulk\n",
       "key           \n",
       "1        553.0\n",
       "2        582.0\n",
       "3        544.0\n",
       "4        595.0\n",
       "5        584.0\n",
       "...        ...\n",
       "3237     758.0\n",
       "3238     594.0\n",
       "3239     630.0\n",
       "3240     272.0\n",
       "3241     232.0\n",
       "\n",
       "[3129 rows x 1 columns]"
      ]
     },
     "execution_count": 34,
     "metadata": {},
     "output_type": "execute_result"
    }
   ],
   "source": [
    "bulk_agg"
   ]
  },
  {
   "cell_type": "markdown",
   "metadata": {},
   "source": [
    "<font color='blue'> \n",
    "### <u>КОММЕНТАРИЙ РЕВЬЮЕРА</u>\n",
    "</font>\n",
    "<font color='green'>\n",
    "ок, хорошо)"
   ]
  },
  {
   "cell_type": "code",
   "execution_count": 35,
   "metadata": {},
   "outputs": [],
   "source": [
    "df = df.join(bulk_agg)"
   ]
  },
  {
   "cell_type": "code",
   "execution_count": 36,
   "metadata": {},
   "outputs": [
    {
     "name": "stdout",
     "output_type": "stream",
     "text": [
      "<class 'pandas.core.frame.DataFrame'>\n",
      "Int64Index: 2390 entries, 1 to 2499\n",
      "Data columns (total 8 columns):\n",
      " #   Column          Non-Null Count  Dtype         \n",
      "---  ------          --------------  -----         \n",
      " 0   time_init       2390 non-null   datetime64[ns]\n",
      " 1   time_last       2390 non-null   datetime64[ns]\n",
      " 2   temp_init       2390 non-null   float64       \n",
      " 3   temp_last       2390 non-null   float64       \n",
      " 4   diff_time       2390 non-null   float64       \n",
      " 5   active_power    2390 non-null   float64       \n",
      " 6   reactive_power  2390 non-null   float64       \n",
      " 7   sum_bulk        2341 non-null   float64       \n",
      "dtypes: datetime64[ns](2), float64(6)\n",
      "memory usage: 232.6 KB\n"
     ]
    }
   ],
   "source": [
    "df.info()"
   ]
  },
  {
   "cell_type": "code",
   "execution_count": 37,
   "metadata": {},
   "outputs": [],
   "source": [
    "df.fillna(0, inplace=True)"
   ]
  },
  {
   "cell_type": "markdown",
   "metadata": {},
   "source": [
    "### Обработка \"Данные о продувке сплава газом\""
   ]
  },
  {
   "cell_type": "code",
   "execution_count": 38,
   "metadata": {},
   "outputs": [
    {
     "data": {
      "text/html": [
       "<div>\n",
       "<style scoped>\n",
       "    .dataframe tbody tr th:only-of-type {\n",
       "        vertical-align: middle;\n",
       "    }\n",
       "\n",
       "    .dataframe tbody tr th {\n",
       "        vertical-align: top;\n",
       "    }\n",
       "\n",
       "    .dataframe thead th {\n",
       "        text-align: right;\n",
       "    }\n",
       "</style>\n",
       "<table border=\"1\" class=\"dataframe\">\n",
       "  <thead>\n",
       "    <tr style=\"text-align: right;\">\n",
       "      <th></th>\n",
       "      <th>key</th>\n",
       "      <th>Газ 1</th>\n",
       "    </tr>\n",
       "  </thead>\n",
       "  <tbody>\n",
       "    <tr>\n",
       "      <th>0</th>\n",
       "      <td>1</td>\n",
       "      <td>29.749986</td>\n",
       "    </tr>\n",
       "    <tr>\n",
       "      <th>1</th>\n",
       "      <td>2</td>\n",
       "      <td>12.555561</td>\n",
       "    </tr>\n",
       "    <tr>\n",
       "      <th>2</th>\n",
       "      <td>3</td>\n",
       "      <td>28.554793</td>\n",
       "    </tr>\n",
       "    <tr>\n",
       "      <th>3</th>\n",
       "      <td>4</td>\n",
       "      <td>18.841219</td>\n",
       "    </tr>\n",
       "    <tr>\n",
       "      <th>4</th>\n",
       "      <td>5</td>\n",
       "      <td>5.413692</td>\n",
       "    </tr>\n",
       "  </tbody>\n",
       "</table>\n",
       "</div>"
      ],
      "text/plain": [
       "   key      Газ 1\n",
       "0    1  29.749986\n",
       "1    2  12.555561\n",
       "2    3  28.554793\n",
       "3    4  18.841219\n",
       "4    5   5.413692"
      ]
     },
     "execution_count": 38,
     "metadata": {},
     "output_type": "execute_result"
    }
   ],
   "source": [
    "gas.head()"
   ]
  },
  {
   "cell_type": "code",
   "execution_count": 39,
   "metadata": {},
   "outputs": [],
   "source": [
    "gas = gas.set_index(['key'])"
   ]
  },
  {
   "cell_type": "code",
   "execution_count": 40,
   "metadata": {},
   "outputs": [],
   "source": [
    "df=df.join(gas)"
   ]
  },
  {
   "cell_type": "markdown",
   "metadata": {},
   "source": [
    "### Обработка \"Данные о проволочных материалах (объём)\""
   ]
  },
  {
   "cell_type": "code",
   "execution_count": 41,
   "metadata": {},
   "outputs": [
    {
     "name": "stdout",
     "output_type": "stream",
     "text": [
      "<class 'pandas.core.frame.DataFrame'>\n",
      "RangeIndex: 3081 entries, 0 to 3080\n",
      "Data columns (total 10 columns):\n",
      " #   Column  Non-Null Count  Dtype  \n",
      "---  ------  --------------  -----  \n",
      " 0   key     3081 non-null   int64  \n",
      " 1   Wire 1  3055 non-null   float64\n",
      " 2   Wire 2  1079 non-null   float64\n",
      " 3   Wire 3  63 non-null     float64\n",
      " 4   Wire 4  14 non-null     float64\n",
      " 5   Wire 5  1 non-null      float64\n",
      " 6   Wire 6  73 non-null     float64\n",
      " 7   Wire 7  11 non-null     float64\n",
      " 8   Wire 8  19 non-null     float64\n",
      " 9   Wire 9  29 non-null     float64\n",
      "dtypes: float64(9), int64(1)\n",
      "memory usage: 240.8 KB\n"
     ]
    }
   ],
   "source": [
    "wire.info()"
   ]
  },
  {
   "cell_type": "code",
   "execution_count": 42,
   "metadata": {},
   "outputs": [
    {
     "data": {
      "text/html": [
       "<div>\n",
       "<style scoped>\n",
       "    .dataframe tbody tr th:only-of-type {\n",
       "        vertical-align: middle;\n",
       "    }\n",
       "\n",
       "    .dataframe tbody tr th {\n",
       "        vertical-align: top;\n",
       "    }\n",
       "\n",
       "    .dataframe thead th {\n",
       "        text-align: right;\n",
       "    }\n",
       "</style>\n",
       "<table border=\"1\" class=\"dataframe\">\n",
       "  <thead>\n",
       "    <tr style=\"text-align: right;\">\n",
       "      <th></th>\n",
       "      <th>key</th>\n",
       "      <th>Wire 1</th>\n",
       "      <th>Wire 2</th>\n",
       "      <th>Wire 3</th>\n",
       "      <th>Wire 4</th>\n",
       "      <th>Wire 5</th>\n",
       "      <th>Wire 6</th>\n",
       "      <th>Wire 7</th>\n",
       "      <th>Wire 8</th>\n",
       "      <th>Wire 9</th>\n",
       "    </tr>\n",
       "  </thead>\n",
       "  <tbody>\n",
       "    <tr>\n",
       "      <th>0</th>\n",
       "      <td>1</td>\n",
       "      <td>60.059998</td>\n",
       "      <td>0.00000</td>\n",
       "      <td>0.0</td>\n",
       "      <td>0.0</td>\n",
       "      <td>0.0</td>\n",
       "      <td>0.0</td>\n",
       "      <td>0.0</td>\n",
       "      <td>0.0</td>\n",
       "      <td>0.0</td>\n",
       "    </tr>\n",
       "    <tr>\n",
       "      <th>1</th>\n",
       "      <td>2</td>\n",
       "      <td>96.052315</td>\n",
       "      <td>0.00000</td>\n",
       "      <td>0.0</td>\n",
       "      <td>0.0</td>\n",
       "      <td>0.0</td>\n",
       "      <td>0.0</td>\n",
       "      <td>0.0</td>\n",
       "      <td>0.0</td>\n",
       "      <td>0.0</td>\n",
       "    </tr>\n",
       "    <tr>\n",
       "      <th>2</th>\n",
       "      <td>3</td>\n",
       "      <td>91.160157</td>\n",
       "      <td>0.00000</td>\n",
       "      <td>0.0</td>\n",
       "      <td>0.0</td>\n",
       "      <td>0.0</td>\n",
       "      <td>0.0</td>\n",
       "      <td>0.0</td>\n",
       "      <td>0.0</td>\n",
       "      <td>0.0</td>\n",
       "    </tr>\n",
       "    <tr>\n",
       "      <th>3</th>\n",
       "      <td>4</td>\n",
       "      <td>89.063515</td>\n",
       "      <td>0.00000</td>\n",
       "      <td>0.0</td>\n",
       "      <td>0.0</td>\n",
       "      <td>0.0</td>\n",
       "      <td>0.0</td>\n",
       "      <td>0.0</td>\n",
       "      <td>0.0</td>\n",
       "      <td>0.0</td>\n",
       "    </tr>\n",
       "    <tr>\n",
       "      <th>4</th>\n",
       "      <td>5</td>\n",
       "      <td>89.238236</td>\n",
       "      <td>9.11456</td>\n",
       "      <td>0.0</td>\n",
       "      <td>0.0</td>\n",
       "      <td>0.0</td>\n",
       "      <td>0.0</td>\n",
       "      <td>0.0</td>\n",
       "      <td>0.0</td>\n",
       "      <td>0.0</td>\n",
       "    </tr>\n",
       "  </tbody>\n",
       "</table>\n",
       "</div>"
      ],
      "text/plain": [
       "   key     Wire 1   Wire 2  Wire 3  Wire 4  Wire 5  Wire 6  Wire 7  Wire 8  \\\n",
       "0    1  60.059998  0.00000     0.0     0.0     0.0     0.0     0.0     0.0   \n",
       "1    2  96.052315  0.00000     0.0     0.0     0.0     0.0     0.0     0.0   \n",
       "2    3  91.160157  0.00000     0.0     0.0     0.0     0.0     0.0     0.0   \n",
       "3    4  89.063515  0.00000     0.0     0.0     0.0     0.0     0.0     0.0   \n",
       "4    5  89.238236  9.11456     0.0     0.0     0.0     0.0     0.0     0.0   \n",
       "\n",
       "   Wire 9  \n",
       "0     0.0  \n",
       "1     0.0  \n",
       "2     0.0  \n",
       "3     0.0  \n",
       "4     0.0  "
      ]
     },
     "execution_count": 42,
     "metadata": {},
     "output_type": "execute_result"
    }
   ],
   "source": [
    "wire.fillna(0, inplace=True)\n",
    "wire.head()"
   ]
  },
  {
   "cell_type": "code",
   "execution_count": 43,
   "metadata": {},
   "outputs": [
    {
     "data": {
      "text/html": [
       "<div>\n",
       "<style scoped>\n",
       "    .dataframe tbody tr th:only-of-type {\n",
       "        vertical-align: middle;\n",
       "    }\n",
       "\n",
       "    .dataframe tbody tr th {\n",
       "        vertical-align: top;\n",
       "    }\n",
       "\n",
       "    .dataframe thead th {\n",
       "        text-align: right;\n",
       "    }\n",
       "</style>\n",
       "<table border=\"1\" class=\"dataframe\">\n",
       "  <thead>\n",
       "    <tr style=\"text-align: right;\">\n",
       "      <th></th>\n",
       "      <th>sum_wire</th>\n",
       "    </tr>\n",
       "    <tr>\n",
       "      <th>key</th>\n",
       "      <th></th>\n",
       "    </tr>\n",
       "  </thead>\n",
       "  <tbody>\n",
       "    <tr>\n",
       "      <th>1</th>\n",
       "      <td>60.059998</td>\n",
       "    </tr>\n",
       "    <tr>\n",
       "      <th>2</th>\n",
       "      <td>96.052315</td>\n",
       "    </tr>\n",
       "    <tr>\n",
       "      <th>3</th>\n",
       "      <td>91.160157</td>\n",
       "    </tr>\n",
       "    <tr>\n",
       "      <th>4</th>\n",
       "      <td>89.063515</td>\n",
       "    </tr>\n",
       "    <tr>\n",
       "      <th>5</th>\n",
       "      <td>98.352796</td>\n",
       "    </tr>\n",
       "  </tbody>\n",
       "</table>\n",
       "</div>"
      ],
      "text/plain": [
       "      sum_wire\n",
       "key           \n",
       "1    60.059998\n",
       "2    96.052315\n",
       "3    91.160157\n",
       "4    89.063515\n",
       "5    98.352796"
      ]
     },
     "execution_count": 43,
     "metadata": {},
     "output_type": "execute_result"
    }
   ],
   "source": [
    "wire['sum_wire'] = wire.iloc[:,1:].sum(axis=1)\n",
    "wire_agg = wire[['key', 'sum_wire']].set_index(['key'])\n",
    "wire_agg.head()"
   ]
  },
  {
   "cell_type": "code",
   "execution_count": 44,
   "metadata": {},
   "outputs": [],
   "source": [
    "df=df.join(wire_agg)"
   ]
  },
  {
   "cell_type": "code",
   "execution_count": 45,
   "metadata": {
    "scrolled": true
   },
   "outputs": [
    {
     "data": {
      "text/html": [
       "<div>\n",
       "<style scoped>\n",
       "    .dataframe tbody tr th:only-of-type {\n",
       "        vertical-align: middle;\n",
       "    }\n",
       "\n",
       "    .dataframe tbody tr th {\n",
       "        vertical-align: top;\n",
       "    }\n",
       "\n",
       "    .dataframe thead th {\n",
       "        text-align: right;\n",
       "    }\n",
       "</style>\n",
       "<table border=\"1\" class=\"dataframe\">\n",
       "  <thead>\n",
       "    <tr style=\"text-align: right;\">\n",
       "      <th></th>\n",
       "      <th>time_init</th>\n",
       "      <th>time_last</th>\n",
       "      <th>temp_init</th>\n",
       "      <th>temp_last</th>\n",
       "      <th>diff_time</th>\n",
       "      <th>active_power</th>\n",
       "      <th>reactive_power</th>\n",
       "      <th>sum_bulk</th>\n",
       "      <th>Газ 1</th>\n",
       "      <th>sum_wire</th>\n",
       "    </tr>\n",
       "    <tr>\n",
       "      <th>key</th>\n",
       "      <th></th>\n",
       "      <th></th>\n",
       "      <th></th>\n",
       "      <th></th>\n",
       "      <th></th>\n",
       "      <th></th>\n",
       "      <th></th>\n",
       "      <th></th>\n",
       "      <th></th>\n",
       "      <th></th>\n",
       "    </tr>\n",
       "  </thead>\n",
       "  <tbody>\n",
       "    <tr>\n",
       "      <th>1</th>\n",
       "      <td>2019-05-03 11:16:18</td>\n",
       "      <td>2019-05-03 11:30:39</td>\n",
       "      <td>1571.0</td>\n",
       "      <td>1613.0</td>\n",
       "      <td>861.0</td>\n",
       "      <td>4.878147</td>\n",
       "      <td>3.183241</td>\n",
       "      <td>553.0</td>\n",
       "      <td>29.749986</td>\n",
       "      <td>60.059998</td>\n",
       "    </tr>\n",
       "    <tr>\n",
       "      <th>2</th>\n",
       "      <td>2019-05-03 11:37:27</td>\n",
       "      <td>2019-05-03 11:59:12</td>\n",
       "      <td>1581.0</td>\n",
       "      <td>1602.0</td>\n",
       "      <td>1305.0</td>\n",
       "      <td>3.052598</td>\n",
       "      <td>1.998112</td>\n",
       "      <td>582.0</td>\n",
       "      <td>12.555561</td>\n",
       "      <td>96.052315</td>\n",
       "    </tr>\n",
       "    <tr>\n",
       "      <th>3</th>\n",
       "      <td>2019-05-03 12:13:17</td>\n",
       "      <td>2019-05-03 12:34:57</td>\n",
       "      <td>1596.0</td>\n",
       "      <td>1599.0</td>\n",
       "      <td>1300.0</td>\n",
       "      <td>2.525882</td>\n",
       "      <td>1.599076</td>\n",
       "      <td>544.0</td>\n",
       "      <td>28.554793</td>\n",
       "      <td>91.160157</td>\n",
       "    </tr>\n",
       "    <tr>\n",
       "      <th>4</th>\n",
       "      <td>2019-05-03 12:52:57</td>\n",
       "      <td>2019-05-03 12:59:25</td>\n",
       "      <td>1601.0</td>\n",
       "      <td>1625.0</td>\n",
       "      <td>388.0</td>\n",
       "      <td>3.209250</td>\n",
       "      <td>2.060298</td>\n",
       "      <td>595.0</td>\n",
       "      <td>18.841219</td>\n",
       "      <td>89.063515</td>\n",
       "    </tr>\n",
       "    <tr>\n",
       "      <th>5</th>\n",
       "      <td>2019-05-03 13:23:19</td>\n",
       "      <td>2019-05-03 13:36:01</td>\n",
       "      <td>1576.0</td>\n",
       "      <td>1602.0</td>\n",
       "      <td>762.0</td>\n",
       "      <td>3.347173</td>\n",
       "      <td>2.252643</td>\n",
       "      <td>584.0</td>\n",
       "      <td>5.413692</td>\n",
       "      <td>98.352796</td>\n",
       "    </tr>\n",
       "  </tbody>\n",
       "</table>\n",
       "</div>"
      ],
      "text/plain": [
       "              time_init           time_last  temp_init  temp_last  diff_time  \\\n",
       "key                                                                            \n",
       "1   2019-05-03 11:16:18 2019-05-03 11:30:39     1571.0     1613.0      861.0   \n",
       "2   2019-05-03 11:37:27 2019-05-03 11:59:12     1581.0     1602.0     1305.0   \n",
       "3   2019-05-03 12:13:17 2019-05-03 12:34:57     1596.0     1599.0     1300.0   \n",
       "4   2019-05-03 12:52:57 2019-05-03 12:59:25     1601.0     1625.0      388.0   \n",
       "5   2019-05-03 13:23:19 2019-05-03 13:36:01     1576.0     1602.0      762.0   \n",
       "\n",
       "     active_power  reactive_power  sum_bulk      Газ 1   sum_wire  \n",
       "key                                                                \n",
       "1        4.878147        3.183241     553.0  29.749986  60.059998  \n",
       "2        3.052598        1.998112     582.0  12.555561  96.052315  \n",
       "3        2.525882        1.599076     544.0  28.554793  91.160157  \n",
       "4        3.209250        2.060298     595.0  18.841219  89.063515  \n",
       "5        3.347173        2.252643     584.0   5.413692  98.352796  "
      ]
     },
     "execution_count": 45,
     "metadata": {},
     "output_type": "execute_result"
    }
   ],
   "source": [
    "df.head()"
   ]
  },
  {
   "cell_type": "code",
   "execution_count": 46,
   "metadata": {},
   "outputs": [],
   "source": [
    "df.fillna(0, inplace=True)"
   ]
  },
  {
   "cell_type": "code",
   "execution_count": 47,
   "metadata": {},
   "outputs": [
    {
     "name": "stdout",
     "output_type": "stream",
     "text": [
      "<class 'pandas.core.frame.DataFrame'>\n",
      "Int64Index: 2390 entries, 1 to 2499\n",
      "Data columns (total 10 columns):\n",
      " #   Column          Non-Null Count  Dtype         \n",
      "---  ------          --------------  -----         \n",
      " 0   time_init       2390 non-null   datetime64[ns]\n",
      " 1   time_last       2390 non-null   datetime64[ns]\n",
      " 2   temp_init       2390 non-null   float64       \n",
      " 3   temp_last       2390 non-null   float64       \n",
      " 4   diff_time       2390 non-null   float64       \n",
      " 5   active_power    2390 non-null   float64       \n",
      " 6   reactive_power  2390 non-null   float64       \n",
      " 7   sum_bulk        2390 non-null   float64       \n",
      " 8   Газ 1           2390 non-null   float64       \n",
      " 9   sum_wire        2390 non-null   float64       \n",
      "dtypes: datetime64[ns](2), float64(8)\n",
      "memory usage: 269.9 KB\n"
     ]
    }
   ],
   "source": [
    "df.info()"
   ]
  },
  {
   "cell_type": "code",
   "execution_count": 48,
   "metadata": {},
   "outputs": [],
   "source": [
    "# Удалим признаки со временем, т.к. есть признак с длительностью в сек. Этого будет достаточно. \n",
    "df = df.drop(['time_init', 'time_last'], axis=1)"
   ]
  },
  {
   "cell_type": "markdown",
   "metadata": {},
   "source": [
    "### Статистический анализ"
   ]
  },
  {
   "cell_type": "code",
   "execution_count": 49,
   "metadata": {},
   "outputs": [
    {
     "data": {
      "text/html": [
       "<div>\n",
       "<style scoped>\n",
       "    .dataframe tbody tr th:only-of-type {\n",
       "        vertical-align: middle;\n",
       "    }\n",
       "\n",
       "    .dataframe tbody tr th {\n",
       "        vertical-align: top;\n",
       "    }\n",
       "\n",
       "    .dataframe thead th {\n",
       "        text-align: right;\n",
       "    }\n",
       "</style>\n",
       "<table border=\"1\" class=\"dataframe\">\n",
       "  <thead>\n",
       "    <tr style=\"text-align: right;\">\n",
       "      <th></th>\n",
       "      <th>temp_init</th>\n",
       "      <th>temp_last</th>\n",
       "      <th>diff_time</th>\n",
       "      <th>active_power</th>\n",
       "      <th>reactive_power</th>\n",
       "      <th>sum_bulk</th>\n",
       "      <th>Газ 1</th>\n",
       "      <th>sum_wire</th>\n",
       "    </tr>\n",
       "  </thead>\n",
       "  <tbody>\n",
       "    <tr>\n",
       "      <th>count</th>\n",
       "      <td>2390.000000</td>\n",
       "      <td>2390.000000</td>\n",
       "      <td>2390.000000</td>\n",
       "      <td>2390.000000</td>\n",
       "      <td>2390.000000</td>\n",
       "      <td>2390.000000</td>\n",
       "      <td>2390.000000</td>\n",
       "      <td>2390.000000</td>\n",
       "    </tr>\n",
       "    <tr>\n",
       "      <th>mean</th>\n",
       "      <td>1587.451464</td>\n",
       "      <td>1593.234310</td>\n",
       "      <td>1879.252720</td>\n",
       "      <td>3.116215</td>\n",
       "      <td>2.026493</td>\n",
       "      <td>596.739749</td>\n",
       "      <td>11.256654</td>\n",
       "      <td>123.878206</td>\n",
       "    </tr>\n",
       "    <tr>\n",
       "      <th>std</th>\n",
       "      <td>23.645118</td>\n",
       "      <td>11.093853</td>\n",
       "      <td>1313.649768</td>\n",
       "      <td>1.431700</td>\n",
       "      <td>14.704725</td>\n",
       "      <td>297.070988</td>\n",
       "      <td>6.371831</td>\n",
       "      <td>64.955799</td>\n",
       "    </tr>\n",
       "    <tr>\n",
       "      <th>min</th>\n",
       "      <td>1519.000000</td>\n",
       "      <td>1541.000000</td>\n",
       "      <td>234.000000</td>\n",
       "      <td>0.186226</td>\n",
       "      <td>-714.591636</td>\n",
       "      <td>0.000000</td>\n",
       "      <td>0.000000</td>\n",
       "      <td>0.000000</td>\n",
       "    </tr>\n",
       "    <tr>\n",
       "      <th>25%</th>\n",
       "      <td>1571.000000</td>\n",
       "      <td>1587.000000</td>\n",
       "      <td>1200.250000</td>\n",
       "      <td>2.127487</td>\n",
       "      <td>1.599856</td>\n",
       "      <td>420.000000</td>\n",
       "      <td>7.228128</td>\n",
       "      <td>86.979358</td>\n",
       "    </tr>\n",
       "    <tr>\n",
       "      <th>50%</th>\n",
       "      <td>1587.000000</td>\n",
       "      <td>1593.000000</td>\n",
       "      <td>1620.000000</td>\n",
       "      <td>2.990862</td>\n",
       "      <td>2.220178</td>\n",
       "      <td>602.500000</td>\n",
       "      <td>10.000410</td>\n",
       "      <td>115.268402</td>\n",
       "    </tr>\n",
       "    <tr>\n",
       "      <th>75%</th>\n",
       "      <td>1603.000000</td>\n",
       "      <td>1598.000000</td>\n",
       "      <td>2275.750000</td>\n",
       "      <td>3.901147</td>\n",
       "      <td>2.896354</td>\n",
       "      <td>789.750000</td>\n",
       "      <td>14.066082</td>\n",
       "      <td>151.295819</td>\n",
       "    </tr>\n",
       "    <tr>\n",
       "      <th>max</th>\n",
       "      <td>1673.000000</td>\n",
       "      <td>1633.000000</td>\n",
       "      <td>23537.000000</td>\n",
       "      <td>17.496497</td>\n",
       "      <td>12.587990</td>\n",
       "      <td>3235.000000</td>\n",
       "      <td>77.995040</td>\n",
       "      <td>568.777664</td>\n",
       "    </tr>\n",
       "  </tbody>\n",
       "</table>\n",
       "</div>"
      ],
      "text/plain": [
       "         temp_init    temp_last     diff_time  active_power  reactive_power  \\\n",
       "count  2390.000000  2390.000000   2390.000000   2390.000000     2390.000000   \n",
       "mean   1587.451464  1593.234310   1879.252720      3.116215        2.026493   \n",
       "std      23.645118    11.093853   1313.649768      1.431700       14.704725   \n",
       "min    1519.000000  1541.000000    234.000000      0.186226     -714.591636   \n",
       "25%    1571.000000  1587.000000   1200.250000      2.127487        1.599856   \n",
       "50%    1587.000000  1593.000000   1620.000000      2.990862        2.220178   \n",
       "75%    1603.000000  1598.000000   2275.750000      3.901147        2.896354   \n",
       "max    1673.000000  1633.000000  23537.000000     17.496497       12.587990   \n",
       "\n",
       "          sum_bulk        Газ 1     sum_wire  \n",
       "count  2390.000000  2390.000000  2390.000000  \n",
       "mean    596.739749    11.256654   123.878206  \n",
       "std     297.070988     6.371831    64.955799  \n",
       "min       0.000000     0.000000     0.000000  \n",
       "25%     420.000000     7.228128    86.979358  \n",
       "50%     602.500000    10.000410   115.268402  \n",
       "75%     789.750000    14.066082   151.295819  \n",
       "max    3235.000000    77.995040   568.777664  "
      ]
     },
     "execution_count": 49,
     "metadata": {},
     "output_type": "execute_result"
    }
   ],
   "source": [
    "df.describe()"
   ]
  },
  {
   "cell_type": "code",
   "execution_count": 50,
   "metadata": {},
   "outputs": [
    {
     "name": "stderr",
     "output_type": "stream",
     "text": [
      "/opt/conda/lib/python3.9/site-packages/seaborn/distributions.py:2557: FutureWarning: `distplot` is a deprecated function and will be removed in a future version. Please adapt your code to use either `displot` (a figure-level function with similar flexibility) or `histplot` (an axes-level function for histograms).\n",
      "  warnings.warn(msg, FutureWarning)\n"
     ]
    },
    {
     "data": {
      "text/plain": [
       "<AxesSubplot:xlabel='reactive_power', ylabel='Density'>"
      ]
     },
     "execution_count": 50,
     "metadata": {},
     "output_type": "execute_result"
    },
    {
     "data": {
      "image/png": "[encoded data removed]",
      "text/plain": [
       "<Figure size 432x288 with 1 Axes>"
      ]
     },
     "metadata": {
      "needs_background": "light"
     },
     "output_type": "display_data"
    }
   ],
   "source": [
    "# Посмотрим на распределение реактивной мощности\n",
    "sns.distplot(df['reactive_power'])"
   ]
  },
  {
   "cell_type": "code",
   "execution_count": 51,
   "metadata": {},
   "outputs": [
    {
     "data": {
      "text/html": [
       "<div>\n",
       "<style scoped>\n",
       "    .dataframe tbody tr th:only-of-type {\n",
       "        vertical-align: middle;\n",
       "    }\n",
       "\n",
       "    .dataframe tbody tr th {\n",
       "        vertical-align: top;\n",
       "    }\n",
       "\n",
       "    .dataframe thead th {\n",
       "        text-align: right;\n",
       "    }\n",
       "</style>\n",
       "<table border=\"1\" class=\"dataframe\">\n",
       "  <thead>\n",
       "    <tr style=\"text-align: right;\">\n",
       "      <th></th>\n",
       "      <th>temp_init</th>\n",
       "      <th>temp_last</th>\n",
       "      <th>diff_time</th>\n",
       "      <th>active_power</th>\n",
       "      <th>reactive_power</th>\n",
       "      <th>sum_bulk</th>\n",
       "      <th>Газ 1</th>\n",
       "      <th>sum_wire</th>\n",
       "    </tr>\n",
       "    <tr>\n",
       "      <th>key</th>\n",
       "      <th></th>\n",
       "      <th></th>\n",
       "      <th></th>\n",
       "      <th></th>\n",
       "      <th></th>\n",
       "      <th></th>\n",
       "      <th></th>\n",
       "      <th></th>\n",
       "    </tr>\n",
       "  </thead>\n",
       "  <tbody>\n",
       "    <tr>\n",
       "      <th>2116</th>\n",
       "      <td>1579.0</td>\n",
       "      <td>1578.0</td>\n",
       "      <td>1232.0</td>\n",
       "      <td>1.848681</td>\n",
       "      <td>-714.591636</td>\n",
       "      <td>335.0</td>\n",
       "      <td>11.582547</td>\n",
       "      <td>75.216965</td>\n",
       "    </tr>\n",
       "  </tbody>\n",
       "</table>\n",
       "</div>"
      ],
      "text/plain": [
       "      temp_init  temp_last  diff_time  active_power  reactive_power  sum_bulk  \\\n",
       "key                                                                             \n",
       "2116     1579.0     1578.0     1232.0      1.848681     -714.591636     335.0   \n",
       "\n",
       "          Газ 1   sum_wire  \n",
       "key                         \n",
       "2116  11.582547  75.216965  "
      ]
     },
     "execution_count": 51,
     "metadata": {},
     "output_type": "execute_result"
    }
   ],
   "source": [
    "# Посмотрим на аномалии\n",
    "df[df['reactive_power']<=0]"
   ]
  },
  {
   "cell_type": "code",
   "execution_count": 52,
   "metadata": {},
   "outputs": [],
   "source": [
    "# Удалим аномалии\n",
    "df = df[df['reactive_power']>0]"
   ]
  },
  {
   "cell_type": "code",
   "execution_count": 53,
   "metadata": {},
   "outputs": [
    {
     "name": "stderr",
     "output_type": "stream",
     "text": [
      "/opt/conda/lib/python3.9/site-packages/seaborn/distributions.py:2557: FutureWarning: `distplot` is a deprecated function and will be removed in a future version. Please adapt your code to use either `displot` (a figure-level function with similar flexibility) or `histplot` (an axes-level function for histograms).\n",
      "  warnings.warn(msg, FutureWarning)\n"
     ]
    },
    {
     "data": {
      "text/plain": [
       "<AxesSubplot:xlabel='reactive_power', ylabel='Density'>"
      ]
     },
     "execution_count": 53,
     "metadata": {},
     "output_type": "execute_result"
    },
    {
     "data": {
      "image/png": "[encoded data removed]",
      "text/plain": [
       "<Figure size 432x288 with 1 Axes>"
      ]
     },
     "metadata": {
      "needs_background": "light"
     },
     "output_type": "display_data"
    }
   ],
   "source": [
    "sns.distplot(df['reactive_power'])"
   ]
  },
  {
   "cell_type": "code",
   "execution_count": 54,
   "metadata": {},
   "outputs": [
    {
     "name": "stderr",
     "output_type": "stream",
     "text": [
      "/opt/conda/lib/python3.9/site-packages/seaborn/distributions.py:2557: FutureWarning: `distplot` is a deprecated function and will be removed in a future version. Please adapt your code to use either `displot` (a figure-level function with similar flexibility) or `histplot` (an axes-level function for histograms).\n",
      "  warnings.warn(msg, FutureWarning)\n"
     ]
    },
    {
     "data": {
      "text/plain": [
       "<AxesSubplot:xlabel='active_power', ylabel='Density'>"
      ]
     },
     "execution_count": 54,
     "metadata": {},
     "output_type": "execute_result"
    },
    {
     "data": {
      "image/png": "[encoded data removed]",
      "text/plain": [
       "<Figure size 432x288 with 1 Axes>"
      ]
     },
     "metadata": {
      "needs_background": "light"
     },
     "output_type": "display_data"
    }
   ],
   "source": [
    "sns.distplot(df['active_power'])"
   ]
  },
  {
   "cell_type": "code",
   "execution_count": 55,
   "metadata": {
    "scrolled": true
   },
   "outputs": [
    {
     "name": "stderr",
     "output_type": "stream",
     "text": [
      "/opt/conda/lib/python3.9/site-packages/seaborn/distributions.py:2557: FutureWarning: `distplot` is a deprecated function and will be removed in a future version. Please adapt your code to use either `displot` (a figure-level function with similar flexibility) or `histplot` (an axes-level function for histograms).\n",
      "  warnings.warn(msg, FutureWarning)\n"
     ]
    },
    {
     "data": {
      "text/plain": [
       "<AxesSubplot:xlabel='sum_bulk', ylabel='Density'>"
      ]
     },
     "execution_count": 55,
     "metadata": {},
     "output_type": "execute_result"
    },
    {
     "data": {
      "image/png": "[encoded data removed]",
      "text/plain": [
       "<Figure size 432x288 with 1 Axes>"
      ]
     },
     "metadata": {
      "needs_background": "light"
     },
     "output_type": "display_data"
    }
   ],
   "source": [
    "sns.distplot(df['sum_bulk'])"
   ]
  },
  {
   "cell_type": "code",
   "execution_count": 56,
   "metadata": {},
   "outputs": [
    {
     "name": "stderr",
     "output_type": "stream",
     "text": [
      "/opt/conda/lib/python3.9/site-packages/seaborn/distributions.py:2557: FutureWarning: `distplot` is a deprecated function and will be removed in a future version. Please adapt your code to use either `displot` (a figure-level function with similar flexibility) or `histplot` (an axes-level function for histograms).\n",
      "  warnings.warn(msg, FutureWarning)\n"
     ]
    },
    {
     "data": {
      "text/plain": [
       "<AxesSubplot:xlabel='Газ 1', ylabel='Density'>"
      ]
     },
     "execution_count": 56,
     "metadata": {},
     "output_type": "execute_result"
    },
    {
     "data": {
      "image/png": "[encoded data removed]",
      "text/plain": [
       "<Figure size 432x288 with 1 Axes>"
      ]
     },
     "metadata": {
      "needs_background": "light"
     },
     "output_type": "display_data"
    }
   ],
   "source": [
    "sns.distplot(df['Газ 1'])"
   ]
  },
  {
   "cell_type": "code",
   "execution_count": 57,
   "metadata": {},
   "outputs": [
    {
     "data": {
      "text/plain": [
       "7"
      ]
     },
     "execution_count": 57,
     "metadata": {},
     "output_type": "execute_result"
    }
   ],
   "source": [
    "len(df[df['Газ 1'] > 40])"
   ]
  },
  {
   "cell_type": "code",
   "execution_count": 58,
   "metadata": {},
   "outputs": [],
   "source": [
    "df = df[df['Газ 1'] < 40]"
   ]
  },
  {
   "cell_type": "code",
   "execution_count": 59,
   "metadata": {},
   "outputs": [
    {
     "name": "stderr",
     "output_type": "stream",
     "text": [
      "/opt/conda/lib/python3.9/site-packages/seaborn/distributions.py:2557: FutureWarning: `distplot` is a deprecated function and will be removed in a future version. Please adapt your code to use either `displot` (a figure-level function with similar flexibility) or `histplot` (an axes-level function for histograms).\n",
      "  warnings.warn(msg, FutureWarning)\n"
     ]
    },
    {
     "data": {
      "text/plain": [
       "<AxesSubplot:xlabel='sum_wire', ylabel='Density'>"
      ]
     },
     "execution_count": 59,
     "metadata": {},
     "output_type": "execute_result"
    },
    {
     "data": {
      "image/png": "[encoded data removed]",
      "text/plain": [
       "<Figure size 432x288 with 1 Axes>"
      ]
     },
     "metadata": {
      "needs_background": "light"
     },
     "output_type": "display_data"
    }
   ],
   "source": [
    "sns.distplot(df['sum_wire'])"
   ]
  },
  {
   "cell_type": "code",
   "execution_count": 60,
   "metadata": {},
   "outputs": [
    {
     "data": {
      "text/plain": [
       "0.017632241813602016"
      ]
     },
     "execution_count": 60,
     "metadata": {},
     "output_type": "execute_result"
    }
   ],
   "source": [
    "len(df[df['sum_wire'] > 300]) / len(df)"
   ]
  },
  {
   "cell_type": "code",
   "execution_count": 61,
   "metadata": {},
   "outputs": [],
   "source": [
    "df = df[df['sum_wire'] < 300]"
   ]
  },
  {
   "cell_type": "code",
   "execution_count": 62,
   "metadata": {},
   "outputs": [
    {
     "name": "stderr",
     "output_type": "stream",
     "text": [
      "/opt/conda/lib/python3.9/site-packages/seaborn/distributions.py:2557: FutureWarning: `distplot` is a deprecated function and will be removed in a future version. Please adapt your code to use either `displot` (a figure-level function with similar flexibility) or `histplot` (an axes-level function for histograms).\n",
      "  warnings.warn(msg, FutureWarning)\n"
     ]
    },
    {
     "data": {
      "text/plain": [
       "<AxesSubplot:xlabel='sum_wire', ylabel='Density'>"
      ]
     },
     "execution_count": 62,
     "metadata": {},
     "output_type": "execute_result"
    },
    {
     "data": {
      "image/png": "[encoded data removed]",
      "text/plain": [
       "<Figure size 432x288 with 1 Axes>"
      ]
     },
     "metadata": {
      "needs_background": "light"
     },
     "output_type": "display_data"
    }
   ],
   "source": [
    "sns.distplot(df['sum_wire'])"
   ]
  },
  {
   "cell_type": "code",
   "execution_count": 63,
   "metadata": {},
   "outputs": [],
   "source": [
    "# Для удобства переименуем столбец Газ 1\n",
    "df.rename(columns={'Газ 1':'sum_gas'}, inplace=True)"
   ]
  },
  {
   "cell_type": "code",
   "execution_count": 64,
   "metadata": {},
   "outputs": [
    {
     "data": {
      "text/plain": [
       "<AxesSubplot:xlabel='active_power', ylabel='reactive_power'>"
      ]
     },
     "execution_count": 64,
     "metadata": {},
     "output_type": "execute_result"
    },
    {
     "data": {
      "image/png": "[encoded data removed]",
      "text/plain": [
       "<Figure size 432x288 with 1 Axes>"
      ]
     },
     "metadata": {
      "needs_background": "light"
     },
     "output_type": "display_data"
    }
   ],
   "source": [
    "# Посмотрим на корреляцию активной и реактивной мощности. Видим прямую сильную взаимосвяязь.\n",
    "# Надо будет какой-то из этих признаков удалить из нашей модели\n",
    "sns.regplot(x=df['active_power'], y=df['reactive_power'])"
   ]
  },
  {
   "cell_type": "code",
   "execution_count": 65,
   "metadata": {},
   "outputs": [
    {
     "data": {
      "text/html": [
       "<div>\n",
       "<style scoped>\n",
       "    .dataframe tbody tr th:only-of-type {\n",
       "        vertical-align: middle;\n",
       "    }\n",
       "\n",
       "    .dataframe tbody tr th {\n",
       "        vertical-align: top;\n",
       "    }\n",
       "\n",
       "    .dataframe thead th {\n",
       "        text-align: right;\n",
       "    }\n",
       "</style>\n",
       "<table border=\"1\" class=\"dataframe\">\n",
       "  <thead>\n",
       "    <tr style=\"text-align: right;\">\n",
       "      <th></th>\n",
       "      <th>temp_init</th>\n",
       "      <th>temp_last</th>\n",
       "      <th>diff_time</th>\n",
       "      <th>active_power</th>\n",
       "      <th>reactive_power</th>\n",
       "      <th>sum_bulk</th>\n",
       "      <th>sum_gas</th>\n",
       "      <th>sum_wire</th>\n",
       "    </tr>\n",
       "  </thead>\n",
       "  <tbody>\n",
       "    <tr>\n",
       "      <th>temp_init</th>\n",
       "      <td>1.000000</td>\n",
       "      <td>0.321932</td>\n",
       "      <td>0.188022</td>\n",
       "      <td>-0.448352</td>\n",
       "      <td>-0.428635</td>\n",
       "      <td>-0.133647</td>\n",
       "      <td>0.014990</td>\n",
       "      <td>0.167819</td>\n",
       "    </tr>\n",
       "    <tr>\n",
       "      <th>temp_last</th>\n",
       "      <td>0.321932</td>\n",
       "      <td>1.000000</td>\n",
       "      <td>0.133957</td>\n",
       "      <td>0.291237</td>\n",
       "      <td>0.247358</td>\n",
       "      <td>0.215002</td>\n",
       "      <td>0.067636</td>\n",
       "      <td>0.101137</td>\n",
       "    </tr>\n",
       "    <tr>\n",
       "      <th>diff_time</th>\n",
       "      <td>0.188022</td>\n",
       "      <td>0.133957</td>\n",
       "      <td>1.000000</td>\n",
       "      <td>0.541454</td>\n",
       "      <td>0.530753</td>\n",
       "      <td>0.331718</td>\n",
       "      <td>0.441605</td>\n",
       "      <td>0.228294</td>\n",
       "    </tr>\n",
       "    <tr>\n",
       "      <th>active_power</th>\n",
       "      <td>-0.448352</td>\n",
       "      <td>0.291237</td>\n",
       "      <td>0.541454</td>\n",
       "      <td>1.000000</td>\n",
       "      <td>0.959334</td>\n",
       "      <td>0.587767</td>\n",
       "      <td>0.366987</td>\n",
       "      <td>0.088311</td>\n",
       "    </tr>\n",
       "    <tr>\n",
       "      <th>reactive_power</th>\n",
       "      <td>-0.428635</td>\n",
       "      <td>0.247358</td>\n",
       "      <td>0.530753</td>\n",
       "      <td>0.959334</td>\n",
       "      <td>1.000000</td>\n",
       "      <td>0.544229</td>\n",
       "      <td>0.343592</td>\n",
       "      <td>0.061777</td>\n",
       "    </tr>\n",
       "    <tr>\n",
       "      <th>sum_bulk</th>\n",
       "      <td>-0.133647</td>\n",
       "      <td>0.215002</td>\n",
       "      <td>0.331718</td>\n",
       "      <td>0.587767</td>\n",
       "      <td>0.544229</td>\n",
       "      <td>1.000000</td>\n",
       "      <td>0.308751</td>\n",
       "      <td>0.081230</td>\n",
       "    </tr>\n",
       "    <tr>\n",
       "      <th>sum_gas</th>\n",
       "      <td>0.014990</td>\n",
       "      <td>0.067636</td>\n",
       "      <td>0.441605</td>\n",
       "      <td>0.366987</td>\n",
       "      <td>0.343592</td>\n",
       "      <td>0.308751</td>\n",
       "      <td>1.000000</td>\n",
       "      <td>0.202890</td>\n",
       "    </tr>\n",
       "    <tr>\n",
       "      <th>sum_wire</th>\n",
       "      <td>0.167819</td>\n",
       "      <td>0.101137</td>\n",
       "      <td>0.228294</td>\n",
       "      <td>0.088311</td>\n",
       "      <td>0.061777</td>\n",
       "      <td>0.081230</td>\n",
       "      <td>0.202890</td>\n",
       "      <td>1.000000</td>\n",
       "    </tr>\n",
       "  </tbody>\n",
       "</table>\n",
       "</div>"
      ],
      "text/plain": [
       "                temp_init  temp_last  diff_time  active_power  reactive_power  \\\n",
       "temp_init        1.000000   0.321932   0.188022     -0.448352       -0.428635   \n",
       "temp_last        0.321932   1.000000   0.133957      0.291237        0.247358   \n",
       "diff_time        0.188022   0.133957   1.000000      0.541454        0.530753   \n",
       "active_power    -0.448352   0.291237   0.541454      1.000000        0.959334   \n",
       "reactive_power  -0.428635   0.247358   0.530753      0.959334        1.000000   \n",
       "sum_bulk        -0.133647   0.215002   0.331718      0.587767        0.544229   \n",
       "sum_gas          0.014990   0.067636   0.441605      0.366987        0.343592   \n",
       "sum_wire         0.167819   0.101137   0.228294      0.088311        0.061777   \n",
       "\n",
       "                sum_bulk   sum_gas  sum_wire  \n",
       "temp_init      -0.133647  0.014990  0.167819  \n",
       "temp_last       0.215002  0.067636  0.101137  \n",
       "diff_time       0.331718  0.441605  0.228294  \n",
       "active_power    0.587767  0.366987  0.088311  \n",
       "reactive_power  0.544229  0.343592  0.061777  \n",
       "sum_bulk        1.000000  0.308751  0.081230  \n",
       "sum_gas         0.308751  1.000000  0.202890  \n",
       "sum_wire        0.081230  0.202890  1.000000  "
      ]
     },
     "execution_count": 65,
     "metadata": {},
     "output_type": "execute_result"
    }
   ],
   "source": [
    "# Посмотрим матрицу корреляций\n",
    "df.corr()"
   ]
  },
  {
   "cell_type": "code",
   "execution_count": 66,
   "metadata": {},
   "outputs": [
    {
     "data": {
      "text/plain": [
       "<AxesSubplot:>"
      ]
     },
     "execution_count": 66,
     "metadata": {},
     "output_type": "execute_result"
    },
    {
     "data": {
      "image/png": "[encoded data removed]",
      "text/plain": [
       "<Figure size 432x288 with 2 Axes>"
      ]
     },
     "metadata": {
      "needs_background": "light"
     },
     "output_type": "display_data"
    }
   ],
   "source": [
    "# Посмотрим тепловую карту, которая показывает влияние какждого признака на целевую переменную.\n",
    "sns.heatmap(df.corr(), annot = True, fmt='.1g')"
   ]
  },
  {
   "cell_type": "code",
   "execution_count": 67,
   "metadata": {},
   "outputs": [],
   "source": [
    "# Удалим реактивную мощность, т.к. у нее меньшее значение корреляции по сравнению с активной\n",
    "df = df.drop('reactive_power', axis=1)"
   ]
  },
  {
   "cell_type": "code",
   "execution_count": 68,
   "metadata": {},
   "outputs": [
    {
     "data": {
      "text/html": [
       "<div>\n",
       "<style scoped>\n",
       "    .dataframe tbody tr th:only-of-type {\n",
       "        vertical-align: middle;\n",
       "    }\n",
       "\n",
       "    .dataframe tbody tr th {\n",
       "        vertical-align: top;\n",
       "    }\n",
       "\n",
       "    .dataframe thead th {\n",
       "        text-align: right;\n",
       "    }\n",
       "</style>\n",
       "<table border=\"1\" class=\"dataframe\">\n",
       "  <thead>\n",
       "    <tr style=\"text-align: right;\">\n",
       "      <th></th>\n",
       "      <th>temp_init</th>\n",
       "      <th>temp_last</th>\n",
       "      <th>diff_time</th>\n",
       "      <th>active_power</th>\n",
       "      <th>sum_bulk</th>\n",
       "      <th>sum_gas</th>\n",
       "      <th>sum_wire</th>\n",
       "    </tr>\n",
       "  </thead>\n",
       "  <tbody>\n",
       "    <tr>\n",
       "      <th>temp_init</th>\n",
       "      <td>1.000000</td>\n",
       "      <td>0.321932</td>\n",
       "      <td>0.188022</td>\n",
       "      <td>-0.448352</td>\n",
       "      <td>-0.133647</td>\n",
       "      <td>0.014990</td>\n",
       "      <td>0.167819</td>\n",
       "    </tr>\n",
       "    <tr>\n",
       "      <th>temp_last</th>\n",
       "      <td>0.321932</td>\n",
       "      <td>1.000000</td>\n",
       "      <td>0.133957</td>\n",
       "      <td>0.291237</td>\n",
       "      <td>0.215002</td>\n",
       "      <td>0.067636</td>\n",
       "      <td>0.101137</td>\n",
       "    </tr>\n",
       "    <tr>\n",
       "      <th>diff_time</th>\n",
       "      <td>0.188022</td>\n",
       "      <td>0.133957</td>\n",
       "      <td>1.000000</td>\n",
       "      <td>0.541454</td>\n",
       "      <td>0.331718</td>\n",
       "      <td>0.441605</td>\n",
       "      <td>0.228294</td>\n",
       "    </tr>\n",
       "    <tr>\n",
       "      <th>active_power</th>\n",
       "      <td>-0.448352</td>\n",
       "      <td>0.291237</td>\n",
       "      <td>0.541454</td>\n",
       "      <td>1.000000</td>\n",
       "      <td>0.587767</td>\n",
       "      <td>0.366987</td>\n",
       "      <td>0.088311</td>\n",
       "    </tr>\n",
       "    <tr>\n",
       "      <th>sum_bulk</th>\n",
       "      <td>-0.133647</td>\n",
       "      <td>0.215002</td>\n",
       "      <td>0.331718</td>\n",
       "      <td>0.587767</td>\n",
       "      <td>1.000000</td>\n",
       "      <td>0.308751</td>\n",
       "      <td>0.081230</td>\n",
       "    </tr>\n",
       "    <tr>\n",
       "      <th>sum_gas</th>\n",
       "      <td>0.014990</td>\n",
       "      <td>0.067636</td>\n",
       "      <td>0.441605</td>\n",
       "      <td>0.366987</td>\n",
       "      <td>0.308751</td>\n",
       "      <td>1.000000</td>\n",
       "      <td>0.202890</td>\n",
       "    </tr>\n",
       "    <tr>\n",
       "      <th>sum_wire</th>\n",
       "      <td>0.167819</td>\n",
       "      <td>0.101137</td>\n",
       "      <td>0.228294</td>\n",
       "      <td>0.088311</td>\n",
       "      <td>0.081230</td>\n",
       "      <td>0.202890</td>\n",
       "      <td>1.000000</td>\n",
       "    </tr>\n",
       "  </tbody>\n",
       "</table>\n",
       "</div>"
      ],
      "text/plain": [
       "              temp_init  temp_last  diff_time  active_power  sum_bulk  \\\n",
       "temp_init      1.000000   0.321932   0.188022     -0.448352 -0.133647   \n",
       "temp_last      0.321932   1.000000   0.133957      0.291237  0.215002   \n",
       "diff_time      0.188022   0.133957   1.000000      0.541454  0.331718   \n",
       "active_power  -0.448352   0.291237   0.541454      1.000000  0.587767   \n",
       "sum_bulk      -0.133647   0.215002   0.331718      0.587767  1.000000   \n",
       "sum_gas        0.014990   0.067636   0.441605      0.366987  0.308751   \n",
       "sum_wire       0.167819   0.101137   0.228294      0.088311  0.081230   \n",
       "\n",
       "               sum_gas  sum_wire  \n",
       "temp_init     0.014990  0.167819  \n",
       "temp_last     0.067636  0.101137  \n",
       "diff_time     0.441605  0.228294  \n",
       "active_power  0.366987  0.088311  \n",
       "sum_bulk      0.308751  0.081230  \n",
       "sum_gas       1.000000  0.202890  \n",
       "sum_wire      0.202890  1.000000  "
      ]
     },
     "execution_count": 68,
     "metadata": {},
     "output_type": "execute_result"
    }
   ],
   "source": [
    "df.corr()"
   ]
  },
  {
   "cell_type": "code",
   "execution_count": 69,
   "metadata": {},
   "outputs": [
    {
     "name": "stdout",
     "output_type": "stream",
     "text": [
      "<class 'pandas.core.frame.DataFrame'>\n",
      "Int64Index: 2340 entries, 1 to 2499\n",
      "Data columns (total 7 columns):\n",
      " #   Column        Non-Null Count  Dtype  \n",
      "---  ------        --------------  -----  \n",
      " 0   temp_init     2340 non-null   float64\n",
      " 1   temp_last     2340 non-null   float64\n",
      " 2   diff_time     2340 non-null   float64\n",
      " 3   active_power  2340 non-null   float64\n",
      " 4   sum_bulk      2340 non-null   float64\n",
      " 5   sum_gas       2340 non-null   float64\n",
      " 6   sum_wire      2340 non-null   float64\n",
      "dtypes: float64(7)\n",
      "memory usage: 146.2 KB\n"
     ]
    }
   ],
   "source": [
    "df.info()"
   ]
  },
  {
   "cell_type": "code",
   "execution_count": 70,
   "metadata": {},
   "outputs": [
    {
     "data": {
      "text/html": [
       "<div>\n",
       "<style scoped>\n",
       "    .dataframe tbody tr th:only-of-type {\n",
       "        vertical-align: middle;\n",
       "    }\n",
       "\n",
       "    .dataframe tbody tr th {\n",
       "        vertical-align: top;\n",
       "    }\n",
       "\n",
       "    .dataframe thead th {\n",
       "        text-align: right;\n",
       "    }\n",
       "</style>\n",
       "<table border=\"1\" class=\"dataframe\">\n",
       "  <thead>\n",
       "    <tr style=\"text-align: right;\">\n",
       "      <th></th>\n",
       "      <th>temp_init</th>\n",
       "      <th>temp_last</th>\n",
       "      <th>diff_time</th>\n",
       "      <th>active_power</th>\n",
       "      <th>sum_bulk</th>\n",
       "      <th>sum_gas</th>\n",
       "      <th>sum_wire</th>\n",
       "    </tr>\n",
       "  </thead>\n",
       "  <tbody>\n",
       "    <tr>\n",
       "      <th>count</th>\n",
       "      <td>2340.000000</td>\n",
       "      <td>2340.000000</td>\n",
       "      <td>2340.000000</td>\n",
       "      <td>2340.000000</td>\n",
       "      <td>2340.000000</td>\n",
       "      <td>2340.000000</td>\n",
       "      <td>2340.000000</td>\n",
       "    </tr>\n",
       "    <tr>\n",
       "      <th>mean</th>\n",
       "      <td>1587.382906</td>\n",
       "      <td>1593.293162</td>\n",
       "      <td>1855.300000</td>\n",
       "      <td>3.102023</td>\n",
       "      <td>598.049145</td>\n",
       "      <td>11.061845</td>\n",
       "      <td>118.484803</td>\n",
       "    </tr>\n",
       "    <tr>\n",
       "      <th>std</th>\n",
       "      <td>23.466248</td>\n",
       "      <td>11.022285</td>\n",
       "      <td>1247.778354</td>\n",
       "      <td>1.416481</td>\n",
       "      <td>290.626718</td>\n",
       "      <td>5.921863</td>\n",
       "      <td>51.590454</td>\n",
       "    </tr>\n",
       "    <tr>\n",
       "      <th>min</th>\n",
       "      <td>1519.000000</td>\n",
       "      <td>1543.000000</td>\n",
       "      <td>234.000000</td>\n",
       "      <td>0.186226</td>\n",
       "      <td>0.000000</td>\n",
       "      <td>0.000000</td>\n",
       "      <td>0.000000</td>\n",
       "    </tr>\n",
       "    <tr>\n",
       "      <th>25%</th>\n",
       "      <td>1571.000000</td>\n",
       "      <td>1587.000000</td>\n",
       "      <td>1192.750000</td>\n",
       "      <td>2.124492</td>\n",
       "      <td>429.000000</td>\n",
       "      <td>7.138971</td>\n",
       "      <td>86.053495</td>\n",
       "    </tr>\n",
       "    <tr>\n",
       "      <th>50%</th>\n",
       "      <td>1587.000000</td>\n",
       "      <td>1593.000000</td>\n",
       "      <td>1601.000000</td>\n",
       "      <td>2.985844</td>\n",
       "      <td>604.500000</td>\n",
       "      <td>9.944503</td>\n",
       "      <td>114.361518</td>\n",
       "    </tr>\n",
       "    <tr>\n",
       "      <th>75%</th>\n",
       "      <td>1603.000000</td>\n",
       "      <td>1598.000000</td>\n",
       "      <td>2264.000000</td>\n",
       "      <td>3.889118</td>\n",
       "      <td>790.000000</td>\n",
       "      <td>13.873241</td>\n",
       "      <td>149.193718</td>\n",
       "    </tr>\n",
       "    <tr>\n",
       "      <th>max</th>\n",
       "      <td>1673.000000</td>\n",
       "      <td>1633.000000</td>\n",
       "      <td>23537.000000</td>\n",
       "      <td>17.496497</td>\n",
       "      <td>1757.000000</td>\n",
       "      <td>39.728826</td>\n",
       "      <td>295.364159</td>\n",
       "    </tr>\n",
       "  </tbody>\n",
       "</table>\n",
       "</div>"
      ],
      "text/plain": [
       "         temp_init    temp_last     diff_time  active_power     sum_bulk  \\\n",
       "count  2340.000000  2340.000000   2340.000000   2340.000000  2340.000000   \n",
       "mean   1587.382906  1593.293162   1855.300000      3.102023   598.049145   \n",
       "std      23.466248    11.022285   1247.778354      1.416481   290.626718   \n",
       "min    1519.000000  1543.000000    234.000000      0.186226     0.000000   \n",
       "25%    1571.000000  1587.000000   1192.750000      2.124492   429.000000   \n",
       "50%    1587.000000  1593.000000   1601.000000      2.985844   604.500000   \n",
       "75%    1603.000000  1598.000000   2264.000000      3.889118   790.000000   \n",
       "max    1673.000000  1633.000000  23537.000000     17.496497  1757.000000   \n",
       "\n",
       "           sum_gas     sum_wire  \n",
       "count  2340.000000  2340.000000  \n",
       "mean     11.061845   118.484803  \n",
       "std       5.921863    51.590454  \n",
       "min       0.000000     0.000000  \n",
       "25%       7.138971    86.053495  \n",
       "50%       9.944503   114.361518  \n",
       "75%      13.873241   149.193718  \n",
       "max      39.728826   295.364159  "
      ]
     },
     "execution_count": 70,
     "metadata": {},
     "output_type": "execute_result"
    }
   ],
   "source": [
    "df.describe()"
   ]
  },
  {
   "cell_type": "markdown",
   "metadata": {},
   "source": [
    "### Подготовка выборок\n",
    "\n",
    "\n"
   ]
  },
  {
   "cell_type": "markdown",
   "metadata": {},
   "source": [
    "Необходимо разбить данные на 3 выборки: обучающую, валидационную и тестовую. Размеры тестового и валидационного наборов обычно равны. Исходные данные разбивают в соотношении 3:1:1. Используем метод train_test_split дважды. Сначала разобьем весь датасет на 60%(обучающая выборка) и остальное. Затем остальное на валидационную и тестовую по 50%."
   ]
  },
  {
   "cell_type": "code",
   "execution_count": 71,
   "metadata": {},
   "outputs": [
    {
     "name": "stdout",
     "output_type": "stream",
     "text": [
      "Train shape: (1404, 6)\n",
      "Validation shape: (468, 6)\n",
      "Test shape: (468, 6)\n"
     ]
    }
   ],
   "source": [
    "y = df['temp_last']\n",
    "X = df.drop('temp_last', axis=1)\n",
    "X_trainval, X_test, y_trainval, y_test = train_test_split(\n",
    "    X, y, test_size=0.2, random_state=1234)\n",
    "X_train, X_val, y_train, y_val = train_test_split(\n",
    "    X_trainval, y_trainval, test_size=0.25, random_state=1234)\n",
    "\n",
    "print(f\"Train shape: {X_train.shape}\")\n",
    "print(f\"Validation shape: {X_val.shape}\")\n",
    "print(f\"Test shape: {X_test.shape}\")"
   ]
  },
  {
   "cell_type": "code",
   "execution_count": 72,
   "metadata": {},
   "outputs": [
    {
     "data": {
      "text/plain": [
       "Index(['temp_init', 'diff_time', 'active_power', 'sum_bulk', 'sum_gas',\n",
       "       'sum_wire'],\n",
       "      dtype='object')"
      ]
     },
     "execution_count": 72,
     "metadata": {},
     "output_type": "execute_result"
    }
   ],
   "source": [
    "X.columns"
   ]
  },
  {
   "cell_type": "markdown",
   "metadata": {},
   "source": [
    "### Выводы:\n",
    "1) Итого у нас получился датасет с кол-вом строк 2316. 6 признаков, один из которых целевой.\n",
    "\n",
    "2) Все признаки количественные, поэтому кодирование не требуется\n",
    "\n",
    "3) Большинство признаков имеют близкое к нормальному распределение, что говорит о хорошем качестве данных\n",
    "\n",
    "4) Из 3216 партий только по 2475 измеряли 2 раза температуру. Таким образом, остальные партии нам пришлось удалить, т.к. не было значений целевого признака."
   ]
  },
  {
   "cell_type": "markdown",
   "metadata": {},
   "source": [
    "# 2. Обучение моделей."
   ]
  },
  {
   "cell_type": "code",
   "execution_count": 73,
   "metadata": {},
   "outputs": [],
   "source": [
    "# Настройка таблицы с результатами\n",
    "df_results = pd.DataFrame(columns=['mae', 'run_time'])"
   ]
  },
  {
   "cell_type": "code",
   "execution_count": 74,
   "metadata": {},
   "outputs": [
    {
     "name": "stdout",
     "output_type": "stream",
     "text": [
      "max_depth = 1 ; mae = 7.939212714134832 ; run_time = 0.0028188228607177734\n",
      "-------------------------------\n",
      "max_depth = 2 ; mae = 7.350045395317666 ; run_time = 0.003795623779296875\n",
      "-------------------------------\n",
      "max_depth = 3 ; mae = 7.149484280544959 ; run_time = 0.003528118133544922\n",
      "-------------------------------\n",
      "max_depth = 4 ; mae = 6.965104903547901 ; run_time = 0.003655672073364258\n",
      "-------------------------------\n",
      "max_depth = 5 ; mae = 6.725883085536078 ; run_time = 0.0048351287841796875\n",
      "-------------------------------\n",
      "max_depth = 6 ; mae = 6.8659713390948784 ; run_time = 0.004996776580810547\n",
      "-------------------------------\n",
      "max_depth = 7 ; mae = 7.095579222677747 ; run_time = 0.005612611770629883\n",
      "-------------------------------\n",
      "max_depth = 8 ; mae = 6.936443569277846 ; run_time = 0.018944501876831055\n",
      "-------------------------------\n",
      "max_depth = 9 ; mae = 6.988569062404548 ; run_time = 0.005901336669921875\n",
      "-------------------------------\n",
      "max_depth = 10 ; mae = 7.016591793140139 ; run_time = 0.006067037582397461\n",
      "-------------------------------\n",
      "max_depth = 11 ; mae = 7.043188464720528 ; run_time = 0.006597042083740234\n",
      "-------------------------------\n",
      "max_depth = 12 ; mae = 7.141470017025836 ; run_time = 0.007033109664916992\n",
      "-------------------------------\n"
     ]
    }
   ],
   "source": [
    "# Подберем лучший гиперпараметр для дерева решений:\n",
    "for depth in range(1, 13):\n",
    "    m = DecisionTreeRegressor(random_state=1234, max_depth=depth)\n",
    "    start_time = time()\n",
    "    m.fit(X_train, y_train)\n",
    "    run_time = time() - start_time\n",
    "    y_pred = m.predict(X_val)\n",
    "    mae = mean_absolute_error(y_val, y_pred)\n",
    "    print(\"max_depth =\", depth, \"; \", end='')\n",
    "    print(\"mae =\", mae, \"; \", end='')\n",
    "    print(\"run_time =\", run_time)\n",
    "    print(\"-------------------------------\")"
   ]
  },
  {
   "cell_type": "markdown",
   "metadata": {},
   "source": [
    "Лучшая модель с глубиной 5."
   ]
  },
  {
   "cell_type": "code",
   "execution_count": 75,
   "metadata": {},
   "outputs": [],
   "source": [
    "# Укажем все наши возможные модели:\n",
    "dt = DecisionTreeRegressor(max_depth=5, random_state=1234)\n",
    "base_estim = DecisionTreeRegressor(max_depth=5, max_features=0.06)                            \n",
    "ab = AdaBoostRegressor(base_estimator=base_estim,\n",
    "                        random_state=1234)\n",
    "rf = RandomForestRegressor(random_state = 1234)\n",
    "xgb = XGBRegressor(random_state = 1234)\n",
    "lgbm = LGBMRegressor(random_state=1234)\n",
    "cb = CatBoostRegressor(random_state=1234, verbose=False)\n",
    "hgbm = HistGradientBoostingRegressor(random_state=1234)\n",
    "gbm = GradientBoostingRegressor(random_state=1234)\n",
    "lg = LinearRegression()"
   ]
  },
  {
   "cell_type": "code",
   "execution_count": 76,
   "metadata": {},
   "outputs": [],
   "source": [
    "models = [dt, rf, ab, xgb, gbm, hgbm, lgbm, cb, lg]\n",
    "model_names = [i.__class__.__name__ for i in models]"
   ]
  },
  {
   "cell_type": "code",
   "execution_count": 77,
   "metadata": {},
   "outputs": [],
   "source": [
    "#  Обучим и проверим все наши модели\n",
    "for m, n in zip(models, model_names):\n",
    "    \n",
    "    start_time = time()\n",
    "    m.fit(X_train, y_train)    \n",
    "    run_time = time() - start_time\n",
    "    y_pred = m.predict(X_val)\n",
    "    mae = mean_absolute_error(y_val, y_pred)\n",
    "        \n",
    "    df_results.loc[n] = [mae, run_time]\n",
    "    \n",
    "    del m"
   ]
  },
  {
   "cell_type": "code",
   "execution_count": 78,
   "metadata": {},
   "outputs": [],
   "source": [
    "# Константная модель. Любому объекту модель прогнозирует среднее значение:\n",
    "start_time = time()\n",
    "y_pred = pd.Series([y_train.mean()]*len(y_val))\n",
    "run_time = time() - start_time\n",
    "mae = mean_absolute_error(y_val, y_pred)\n",
    "df_results.loc['Constant Model'] = [mae, run_time]"
   ]
  },
  {
   "cell_type": "code",
   "execution_count": 79,
   "metadata": {
    "scrolled": true
   },
   "outputs": [
    {
     "data": {
      "text/html": [
       "<div>\n",
       "<style scoped>\n",
       "    .dataframe tbody tr th:only-of-type {\n",
       "        vertical-align: middle;\n",
       "    }\n",
       "\n",
       "    .dataframe tbody tr th {\n",
       "        vertical-align: top;\n",
       "    }\n",
       "\n",
       "    .dataframe thead th {\n",
       "        text-align: right;\n",
       "    }\n",
       "</style>\n",
       "<table border=\"1\" class=\"dataframe\">\n",
       "  <thead>\n",
       "    <tr style=\"text-align: right;\">\n",
       "      <th></th>\n",
       "      <th>mae</th>\n",
       "      <th>run_time</th>\n",
       "    </tr>\n",
       "  </thead>\n",
       "  <tbody>\n",
       "    <tr>\n",
       "      <th>DecisionTreeRegressor</th>\n",
       "      <td>6.725883</td>\n",
       "      <td>0.004737</td>\n",
       "    </tr>\n",
       "    <tr>\n",
       "      <th>RandomForestRegressor</th>\n",
       "      <td>5.794017</td>\n",
       "      <td>0.505483</td>\n",
       "    </tr>\n",
       "    <tr>\n",
       "      <th>AdaBoostRegressor</th>\n",
       "      <td>6.982361</td>\n",
       "      <td>0.102440</td>\n",
       "    </tr>\n",
       "    <tr>\n",
       "      <th>XGBRegressor</th>\n",
       "      <td>6.160499</td>\n",
       "      <td>50.827312</td>\n",
       "    </tr>\n",
       "    <tr>\n",
       "      <th>GradientBoostingRegressor</th>\n",
       "      <td>5.786511</td>\n",
       "      <td>0.267289</td>\n",
       "    </tr>\n",
       "    <tr>\n",
       "      <th>HistGradientBoostingRegressor</th>\n",
       "      <td>5.789432</td>\n",
       "      <td>3.579888</td>\n",
       "    </tr>\n",
       "    <tr>\n",
       "      <th>LGBMRegressor</th>\n",
       "      <td>5.827623</td>\n",
       "      <td>0.598037</td>\n",
       "    </tr>\n",
       "    <tr>\n",
       "      <th>CatBoostRegressor</th>\n",
       "      <td>5.569389</td>\n",
       "      <td>2.295453</td>\n",
       "    </tr>\n",
       "    <tr>\n",
       "      <th>LinearRegression</th>\n",
       "      <td>5.742114</td>\n",
       "      <td>0.001963</td>\n",
       "    </tr>\n",
       "    <tr>\n",
       "      <th>Constant Model</th>\n",
       "      <td>8.090127</td>\n",
       "      <td>0.000613</td>\n",
       "    </tr>\n",
       "  </tbody>\n",
       "</table>\n",
       "</div>"
      ],
      "text/plain": [
       "                                    mae   run_time\n",
       "DecisionTreeRegressor          6.725883   0.004737\n",
       "RandomForestRegressor          5.794017   0.505483\n",
       "AdaBoostRegressor              6.982361   0.102440\n",
       "XGBRegressor                   6.160499  50.827312\n",
       "GradientBoostingRegressor      5.786511   0.267289\n",
       "HistGradientBoostingRegressor  5.789432   3.579888\n",
       "LGBMRegressor                  5.827623   0.598037\n",
       "CatBoostRegressor              5.569389   2.295453\n",
       "LinearRegression               5.742114   0.001963\n",
       "Constant Model                 8.090127   0.000613"
      ]
     },
     "execution_count": 79,
     "metadata": {},
     "output_type": "execute_result"
    }
   ],
   "source": [
    "df_results"
   ]
  },
  {
   "cell_type": "code",
   "execution_count": 80,
   "metadata": {},
   "outputs": [
    {
     "data": {
      "text/plain": [
       "<AxesSubplot:xlabel='mae'>"
      ]
     },
     "execution_count": 80,
     "metadata": {},
     "output_type": "execute_result"
    },
    {
     "data": {
      "image/png": "[encoded data removed]",
      "text/plain": [
       "<Figure size 1080x432 with 1 Axes>"
      ]
     },
     "metadata": {
      "needs_background": "light"
     },
     "output_type": "display_data"
    }
   ],
   "source": [
    "df_results.sort_values('mae', ascending=False, inplace=True)\n",
    "plt.figure(figsize=(15,6))\n",
    "sns.barplot(y = df_results.index, x=df_results['mae'])"
   ]
  },
  {
   "cell_type": "markdown",
   "metadata": {},
   "source": [
    "#### Вывод: обучение проведено корректно, константная модель хуже всех, Catboost - лучше всех."
   ]
  },
  {
   "cell_type": "markdown",
   "metadata": {},
   "source": [
    "# 3. Тестирование модели"
   ]
  },
  {
   "cell_type": "code",
   "execution_count": 81,
   "metadata": {},
   "outputs": [
    {
     "name": "stdout",
     "output_type": "stream",
     "text": [
      "Trainval shape: (1872, 6)\n",
      "Test shape: (468, 6)\n"
     ]
    }
   ],
   "source": [
    "# Для обучения возьмем объединную выборку(train и valid)\n",
    "print(f\"Trainval shape: {X_trainval.shape}\")\n",
    "print(f\"Test shape: {X_test.shape}\")"
   ]
  },
  {
   "cell_type": "code",
   "execution_count": 82,
   "metadata": {},
   "outputs": [
    {
     "name": "stdout",
     "output_type": "stream",
     "text": [
      "mae = 5.687817212849062 ; run_time = 2.614049196243286\n"
     ]
    }
   ],
   "source": [
    "best_model = cb\n",
    "start_time = time()\n",
    "best_model.fit(X_trainval, y_trainval)\n",
    "run_time = time() - start_time\n",
    "y_pred = best_model.predict(X_test)\n",
    "mae = mean_absolute_error(y_test, y_pred)\n",
    "print(\"mae =\", mae, \"; \", end='')\n",
    "print(\"run_time =\", run_time)"
   ]
  },
  {
   "cell_type": "code",
   "execution_count": 83,
   "metadata": {},
   "outputs": [
    {
     "data": {
      "text/plain": [
       "<AxesSubplot:xlabel='Coefficient'>"
      ]
     },
     "execution_count": 83,
     "metadata": {},
     "output_type": "execute_result"
    },
    {
     "data": {
      "image/png": "[encoded data removed]",
      "text/plain": [
       "<Figure size 1080x432 with 1 Axes>"
      ]
     },
     "metadata": {
      "needs_background": "light"
     },
     "output_type": "display_data"
    }
   ],
   "source": [
    "# Построим график с указанием влияния каждого признака. \n",
    "# Важность показывает, насколько в среднем изменяется целевой признак при изменении значения признака на 1 ед. \n",
    "# Чем больше значение влияния, тем больше в среднем значение целевого признака, если этот признак был изменен.\n",
    "coeff_df = pd.DataFrame(best_model.feature_importances_, best_model.feature_names_, columns=['Coefficient'])  \n",
    "coeff_df.sort_values('Coefficient', ascending=False, inplace=True)\n",
    "plt.figure(figsize=(15,6))\n",
    "sns.barplot(y = coeff_df.index, x=coeff_df['Coefficient'])"
   ]
  },
  {
   "cell_type": "markdown",
   "metadata": {},
   "source": [
    "### Вывод: Ура! Мы выполнили поставленную задачу. MAE < 6.0. Значение конечной температуры наиболее чувствительно к изменению активной мощности и начальной температуры. Наименьшее значение на целевой признак оказывает изменение объема инертного газа."
   ]
  },
  {
   "cell_type": "markdown",
   "metadata": {},
   "source": [
    "### Огромное спасибо за четкие комментарии! "
   ]
  },
  {
   "cell_type": "markdown",
   "metadata": {},
   "source": [
    "### Выводы:\n",
    "\n",
    "1) Выполнены все пункты плана: проведение EDA  и Feature Engineering, обучение моделей, тестирование лучшей модели. В ходе подготовки данных отказался от масштабирования признаков, т.к. оно ухудшало результат обучения. Скорее всего из-за того, что начальная тем-ра действительно имеет очень большое влияние на целевой признак, а масштабирование снижает ее вес в модели.\n",
    "\n",
    "2) Сложность возникла с удалением всей партии, если пропущено значение последней температуры. В данном случае агрегирование по last не помогает, т.к. при этом функция берет последнее заполненное значение, а необходимо было, чтобы выводились и NaN. Пришлось погуглить) В итоге определил 2 функции, которые берут соответственно начальное и конечное значение из списка. По ним сделал агрегацию и NaN успешно вывелись). \n",
    "\n",
    "Также при первоначальном обучении моделей качество получилось соответствующим минимальным требованиям, но все-таки достаточно низким. При анализе отклонений предсказаний от истинных значений выяснилось, что модель чаще и существеннее ошибалась на объектах, которые имели истинное значение конечной температуры выше 1640. При анализе значений конечной температуры с помощью графика boxplot выяснилось, что после этого рубежа идет достаточно длинный шлейф(в диапазоне от 1640 до 1720 градусов) значений, которые составляли 3% от всего датасета. Таким образом модель получает очень мало данных на этом достаточно широком диапазоне и не может корректно их предсказывать. После удаления этих значений качество предсказаний существенно выросло. \n",
    "\n",
    "3) Ключевые шаги в решении задачи:\n",
    "- провести качественный EDA и Feature Engineering: отобрать или создать именно те признаки для нашей модели, которые помогут получить наилучшее качество. При отборе фичей я руководствовался описанием проекта и знаниями физики, чтобы фичи в первую очередь сходились с реальностью. Затем уже смотрел матрицу корреляций и боролся с мультикоррелиарностью. Также здесь очень было важно посмотреть на распределения значений и удалить выбросы. Также очень важно было не насоздавать излишне большого количества фич, т.к. это может негативно отразиться как на качестве предсказаний, так и на времени обучения моделей.\n",
    "- при обучении моделей важно было сразу создать список всех возможных моделей и автоматизировать процесс обучения. Возможно, мне повезло, но практически сходу я получил приемлемое качество. Практически не пришлось возиться с признаками(исключать или добавлять новые).\n",
    "- после тестирования итоговой модели важно было вывести график с указием влияния каждого признака на конечную температуру. Ведь на самом деле именно скорее всего этого от нас и ждет бизнес, чтобы иметь возможность самому регулировать конечную температуру в ходе дальнейшего использования нашей модели. Таким образом, он будет понимать примерно, как мы получаем предсказания и к нашему труду будет существенно больше доверия, нежели если бы мы просто представили как результат значение МАЕ.\n",
    "\n",
    "4) Итоговая модель - CatBoostRegressor. МАЕ - 5.7."
   ]
  },
  {
   "cell_type": "code",
   "execution_count": null,
   "metadata": {},
   "outputs": [],
   "source": []
  }
 ],
 "metadata": {
  "ExecuteTimeLog": [
   {
    "duration": 45,
    "start_time": "2022-07-11T20:30:16.656Z"
   },
   {
    "duration": 1395,
    "start_time": "2022-07-11T20:34:09.754Z"
   },
   {
    "duration": 129,
    "start_time": "2022-07-11T20:34:11.151Z"
   },
   {
    "duration": 135,
    "start_time": "2022-07-11T20:34:11.281Z"
   },
   {
    "duration": 0,
    "start_time": "2022-07-11T20:34:11.419Z"
   },
   {
    "duration": 0,
    "start_time": "2022-07-11T20:34:11.421Z"
   },
   {
    "duration": 0,
    "start_time": "2022-07-11T20:34:11.422Z"
   },
   {
    "duration": 0,
    "start_time": "2022-07-11T20:34:11.423Z"
   },
   {
    "duration": 0,
    "start_time": "2022-07-11T20:34:11.424Z"
   },
   {
    "duration": 0,
    "start_time": "2022-07-11T20:34:11.426Z"
   },
   {
    "duration": 0,
    "start_time": "2022-07-11T20:34:11.427Z"
   },
   {
    "duration": 0,
    "start_time": "2022-07-11T20:34:11.428Z"
   },
   {
    "duration": 0,
    "start_time": "2022-07-11T20:34:11.430Z"
   },
   {
    "duration": 0,
    "start_time": "2022-07-11T20:34:11.431Z"
   },
   {
    "duration": 0,
    "start_time": "2022-07-11T20:34:11.432Z"
   },
   {
    "duration": 0,
    "start_time": "2022-07-11T20:34:11.433Z"
   },
   {
    "duration": 0,
    "start_time": "2022-07-11T20:34:11.434Z"
   },
   {
    "duration": 0,
    "start_time": "2022-07-11T20:34:11.435Z"
   },
   {
    "duration": 0,
    "start_time": "2022-07-11T20:34:11.436Z"
   },
   {
    "duration": 0,
    "start_time": "2022-07-11T20:34:11.437Z"
   },
   {
    "duration": 0,
    "start_time": "2022-07-11T20:34:11.438Z"
   },
   {
    "duration": 0,
    "start_time": "2022-07-11T20:34:11.439Z"
   },
   {
    "duration": 0,
    "start_time": "2022-07-11T20:34:11.440Z"
   },
   {
    "duration": 0,
    "start_time": "2022-07-11T20:34:11.441Z"
   },
   {
    "duration": 0,
    "start_time": "2022-07-11T20:34:11.443Z"
   },
   {
    "duration": 0,
    "start_time": "2022-07-11T20:34:11.444Z"
   },
   {
    "duration": 0,
    "start_time": "2022-07-11T20:34:11.445Z"
   },
   {
    "duration": 0,
    "start_time": "2022-07-11T20:34:11.446Z"
   },
   {
    "duration": 0,
    "start_time": "2022-07-11T20:34:11.447Z"
   },
   {
    "duration": 0,
    "start_time": "2022-07-11T20:34:11.449Z"
   },
   {
    "duration": 0,
    "start_time": "2022-07-11T20:34:11.450Z"
   },
   {
    "duration": 0,
    "start_time": "2022-07-11T20:34:11.451Z"
   },
   {
    "duration": 0,
    "start_time": "2022-07-11T20:34:11.452Z"
   },
   {
    "duration": 0,
    "start_time": "2022-07-11T20:34:11.453Z"
   },
   {
    "duration": 0,
    "start_time": "2022-07-11T20:34:11.501Z"
   },
   {
    "duration": 0,
    "start_time": "2022-07-11T20:34:11.503Z"
   },
   {
    "duration": 0,
    "start_time": "2022-07-11T20:34:11.504Z"
   },
   {
    "duration": 0,
    "start_time": "2022-07-11T20:34:11.505Z"
   },
   {
    "duration": 0,
    "start_time": "2022-07-11T20:34:11.506Z"
   },
   {
    "duration": 0,
    "start_time": "2022-07-11T20:34:11.507Z"
   },
   {
    "duration": 0,
    "start_time": "2022-07-11T20:34:11.508Z"
   },
   {
    "duration": 0,
    "start_time": "2022-07-11T20:34:11.509Z"
   },
   {
    "duration": 0,
    "start_time": "2022-07-11T20:34:11.509Z"
   },
   {
    "duration": 0,
    "start_time": "2022-07-11T20:34:11.510Z"
   },
   {
    "duration": 0,
    "start_time": "2022-07-11T20:34:11.512Z"
   },
   {
    "duration": 0,
    "start_time": "2022-07-11T20:34:11.513Z"
   },
   {
    "duration": 0,
    "start_time": "2022-07-11T20:34:11.514Z"
   },
   {
    "duration": 0,
    "start_time": "2022-07-11T20:34:11.516Z"
   },
   {
    "duration": 0,
    "start_time": "2022-07-11T20:34:11.517Z"
   },
   {
    "duration": 0,
    "start_time": "2022-07-11T20:34:11.518Z"
   },
   {
    "duration": 0,
    "start_time": "2022-07-11T20:34:11.518Z"
   },
   {
    "duration": 0,
    "start_time": "2022-07-11T20:34:11.519Z"
   },
   {
    "duration": 0,
    "start_time": "2022-07-11T20:34:11.521Z"
   },
   {
    "duration": 1,
    "start_time": "2022-07-11T20:34:11.521Z"
   },
   {
    "duration": 1,
    "start_time": "2022-07-11T20:34:11.522Z"
   },
   {
    "duration": 0,
    "start_time": "2022-07-11T20:34:11.523Z"
   },
   {
    "duration": 0,
    "start_time": "2022-07-11T20:34:11.525Z"
   },
   {
    "duration": 0,
    "start_time": "2022-07-11T20:34:11.525Z"
   },
   {
    "duration": 0,
    "start_time": "2022-07-11T20:34:11.526Z"
   },
   {
    "duration": 0,
    "start_time": "2022-07-11T20:34:11.527Z"
   },
   {
    "duration": 0,
    "start_time": "2022-07-11T20:34:11.528Z"
   },
   {
    "duration": 0,
    "start_time": "2022-07-11T20:34:11.529Z"
   },
   {
    "duration": 0,
    "start_time": "2022-07-11T20:34:11.530Z"
   },
   {
    "duration": 0,
    "start_time": "2022-07-11T20:34:11.531Z"
   },
   {
    "duration": 0,
    "start_time": "2022-07-11T20:34:11.532Z"
   },
   {
    "duration": 0,
    "start_time": "2022-07-11T20:34:11.534Z"
   },
   {
    "duration": 0,
    "start_time": "2022-07-11T20:34:11.534Z"
   },
   {
    "duration": 0,
    "start_time": "2022-07-11T20:34:11.535Z"
   },
   {
    "duration": 0,
    "start_time": "2022-07-11T20:34:11.536Z"
   },
   {
    "duration": 0,
    "start_time": "2022-07-11T20:34:11.537Z"
   },
   {
    "duration": 0,
    "start_time": "2022-07-11T20:34:11.600Z"
   },
   {
    "duration": 0,
    "start_time": "2022-07-11T20:34:11.602Z"
   },
   {
    "duration": 0,
    "start_time": "2022-07-11T20:34:11.603Z"
   },
   {
    "duration": 0,
    "start_time": "2022-07-11T20:34:11.604Z"
   },
   {
    "duration": 0,
    "start_time": "2022-07-11T20:34:11.605Z"
   },
   {
    "duration": 0,
    "start_time": "2022-07-11T20:34:11.606Z"
   },
   {
    "duration": 0,
    "start_time": "2022-07-11T20:34:11.608Z"
   },
   {
    "duration": 0,
    "start_time": "2022-07-11T20:34:11.608Z"
   },
   {
    "duration": 0,
    "start_time": "2022-07-11T20:34:11.609Z"
   },
   {
    "duration": 0,
    "start_time": "2022-07-11T20:34:11.610Z"
   },
   {
    "duration": 0,
    "start_time": "2022-07-11T20:34:11.611Z"
   },
   {
    "duration": 0,
    "start_time": "2022-07-11T20:34:11.612Z"
   },
   {
    "duration": 0,
    "start_time": "2022-07-11T20:34:11.613Z"
   },
   {
    "duration": 0,
    "start_time": "2022-07-11T20:34:11.614Z"
   },
   {
    "duration": 0,
    "start_time": "2022-07-11T20:34:11.615Z"
   },
   {
    "duration": 1508,
    "start_time": "2022-07-11T20:46:34.415Z"
   },
   {
    "duration": 130,
    "start_time": "2022-07-11T20:46:35.925Z"
   },
   {
    "duration": 17,
    "start_time": "2022-07-11T20:46:36.056Z"
   },
   {
    "duration": 15,
    "start_time": "2022-07-11T20:46:36.076Z"
   },
   {
    "duration": 13,
    "start_time": "2022-07-11T20:46:36.093Z"
   },
   {
    "duration": 17,
    "start_time": "2022-07-11T20:46:36.108Z"
   },
   {
    "duration": 11,
    "start_time": "2022-07-11T20:46:36.127Z"
   },
   {
    "duration": 107,
    "start_time": "2022-07-11T20:46:36.140Z"
   },
   {
    "duration": 12,
    "start_time": "2022-07-11T20:46:36.249Z"
   },
   {
    "duration": 15,
    "start_time": "2022-07-11T20:46:36.264Z"
   },
   {
    "duration": 21,
    "start_time": "2022-07-11T20:46:36.281Z"
   },
   {
    "duration": 6,
    "start_time": "2022-07-11T20:46:36.304Z"
   },
   {
    "duration": 8,
    "start_time": "2022-07-11T20:46:36.312Z"
   },
   {
    "duration": 13,
    "start_time": "2022-07-11T20:46:36.321Z"
   },
   {
    "duration": 17,
    "start_time": "2022-07-11T20:46:36.335Z"
   },
   {
    "duration": 14,
    "start_time": "2022-07-11T20:46:36.355Z"
   },
   {
    "duration": 263,
    "start_time": "2022-07-11T20:46:36.371Z"
   },
   {
    "duration": 175,
    "start_time": "2022-07-11T20:46:36.636Z"
   },
   {
    "duration": 11,
    "start_time": "2022-07-11T20:46:36.812Z"
   },
   {
    "duration": 7,
    "start_time": "2022-07-11T20:46:36.825Z"
   },
   {
    "duration": 228,
    "start_time": "2022-07-11T20:46:36.834Z"
   },
   {
    "duration": 213,
    "start_time": "2022-07-11T20:46:37.063Z"
   },
   {
    "duration": 105,
    "start_time": "2022-07-11T20:46:37.277Z"
   },
   {
    "duration": 6,
    "start_time": "2022-07-11T20:46:37.384Z"
   },
   {
    "duration": 14,
    "start_time": "2022-07-11T20:46:37.401Z"
   },
   {
    "duration": 5,
    "start_time": "2022-07-11T20:46:37.417Z"
   },
   {
    "duration": 273,
    "start_time": "2022-07-11T20:46:37.424Z"
   },
   {
    "duration": 11,
    "start_time": "2022-07-11T20:46:37.704Z"
   },
   {
    "duration": 20,
    "start_time": "2022-07-11T20:46:37.716Z"
   },
   {
    "duration": 4,
    "start_time": "2022-07-11T20:46:37.738Z"
   },
   {
    "duration": 20,
    "start_time": "2022-07-11T20:46:37.743Z"
   },
   {
    "duration": 3,
    "start_time": "2022-07-11T20:46:37.765Z"
   },
   {
    "duration": 37,
    "start_time": "2022-07-11T20:46:37.770Z"
   },
   {
    "duration": 16,
    "start_time": "2022-07-11T20:46:37.809Z"
   },
   {
    "duration": 17,
    "start_time": "2022-07-11T20:46:37.826Z"
   },
   {
    "duration": 16,
    "start_time": "2022-07-11T20:46:37.845Z"
   },
   {
    "duration": 7,
    "start_time": "2022-07-11T20:46:37.863Z"
   },
   {
    "duration": 11,
    "start_time": "2022-07-11T20:46:37.872Z"
   },
   {
    "duration": 10,
    "start_time": "2022-07-11T20:46:37.884Z"
   },
   {
    "duration": 16,
    "start_time": "2022-07-11T20:46:37.895Z"
   },
   {
    "duration": 18,
    "start_time": "2022-07-11T20:46:37.913Z"
   },
   {
    "duration": 13,
    "start_time": "2022-07-11T20:46:37.933Z"
   },
   {
    "duration": 11,
    "start_time": "2022-07-11T20:46:37.947Z"
   },
   {
    "duration": 4,
    "start_time": "2022-07-11T20:46:37.960Z"
   },
   {
    "duration": 17,
    "start_time": "2022-07-11T20:46:37.965Z"
   },
   {
    "duration": 18,
    "start_time": "2022-07-11T20:46:37.984Z"
   },
   {
    "duration": 21,
    "start_time": "2022-07-11T20:46:38.004Z"
   },
   {
    "duration": 10,
    "start_time": "2022-07-11T20:46:38.027Z"
   },
   {
    "duration": 44,
    "start_time": "2022-07-11T20:46:38.039Z"
   },
   {
    "duration": 201,
    "start_time": "2022-07-11T20:46:38.085Z"
   },
   {
    "duration": 16,
    "start_time": "2022-07-11T20:46:38.288Z"
   },
   {
    "duration": 7,
    "start_time": "2022-07-11T20:46:38.306Z"
   },
   {
    "duration": 216,
    "start_time": "2022-07-11T20:46:38.315Z"
   },
   {
    "duration": 221,
    "start_time": "2022-07-11T20:46:38.533Z"
   },
   {
    "duration": 323,
    "start_time": "2022-07-11T20:46:38.756Z"
   },
   {
    "duration": 187,
    "start_time": "2022-07-11T20:46:39.081Z"
   },
   {
    "duration": 5,
    "start_time": "2022-07-11T20:46:39.270Z"
   },
   {
    "duration": 7,
    "start_time": "2022-07-11T20:46:39.276Z"
   },
   {
    "duration": 212,
    "start_time": "2022-07-11T20:46:39.300Z"
   },
   {
    "duration": 6,
    "start_time": "2022-07-11T20:46:39.513Z"
   },
   {
    "duration": 20,
    "start_time": "2022-07-11T20:46:39.520Z"
   },
   {
    "duration": 175,
    "start_time": "2022-07-11T20:46:39.541Z"
   },
   {
    "duration": 3,
    "start_time": "2022-07-11T20:46:39.718Z"
   },
   {
    "duration": 308,
    "start_time": "2022-07-11T20:46:39.723Z"
   },
   {
    "duration": 14,
    "start_time": "2022-07-11T20:46:40.033Z"
   },
   {
    "duration": 672,
    "start_time": "2022-07-11T20:46:40.049Z"
   },
   {
    "duration": 4,
    "start_time": "2022-07-11T20:46:40.723Z"
   },
   {
    "duration": 15,
    "start_time": "2022-07-11T20:46:40.728Z"
   },
   {
    "duration": 9,
    "start_time": "2022-07-11T20:46:40.745Z"
   },
   {
    "duration": 48,
    "start_time": "2022-07-11T20:46:40.755Z"
   },
   {
    "duration": 8,
    "start_time": "2022-07-11T20:46:40.805Z"
   },
   {
    "duration": 8,
    "start_time": "2022-07-11T20:46:40.814Z"
   },
   {
    "duration": 9,
    "start_time": "2022-07-11T20:46:40.824Z"
   },
   {
    "duration": 102,
    "start_time": "2022-07-11T20:46:40.835Z"
   },
   {
    "duration": 5,
    "start_time": "2022-07-11T20:46:40.938Z"
   },
   {
    "duration": 9,
    "start_time": "2022-07-11T20:46:40.944Z"
   },
   {
    "duration": 58265,
    "start_time": "2022-07-11T20:46:40.955Z"
   },
   {
    "duration": 5,
    "start_time": "2022-07-11T20:47:39.222Z"
   },
   {
    "duration": 26,
    "start_time": "2022-07-11T20:47:39.229Z"
   },
   {
    "duration": 196,
    "start_time": "2022-07-11T20:47:39.256Z"
   },
   {
    "duration": 3,
    "start_time": "2022-07-11T20:47:39.453Z"
   },
   {
    "duration": 2647,
    "start_time": "2022-07-11T20:47:39.461Z"
   },
   {
    "duration": 143,
    "start_time": "2022-07-11T20:47:42.110Z"
   }
  ],
  "kernelspec": {
   "display_name": "Python 3 (ipykernel)",
   "language": "python",
   "name": "python3"
  },
  "language_info": {
   "codemirror_mode": {
    "name": "ipython",
    "version": 3
   },
   "file_extension": ".py",
   "mimetype": "text/x-python",
   "name": "python",
   "nbconvert_exporter": "python",
   "pygments_lexer": "ipython3",
   "version": "3.9.5"
  },
  "toc": {
   "base_numbering": 1,
   "nav_menu": {},
   "number_sections": true,
   "sideBar": true,
   "skip_h1_title": true,
   "title_cell": "Table of Contents",
   "title_sidebar": "Contents",
   "toc_cell": false,
   "toc_position": {},
   "toc_section_display": true,
   "toc_window_display": false
  }
 },
 "nbformat": 4,
 "nbformat_minor": 4
}
