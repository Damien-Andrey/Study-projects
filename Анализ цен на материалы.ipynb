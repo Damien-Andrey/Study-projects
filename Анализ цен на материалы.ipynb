{
 "cells": [
  {
   "cell_type": "markdown",
   "metadata": {},
   "source": [
    "### Описание задачи\n",
    "Компания-застройщик закупает строительные материалы. У вас есть база, содержащая цены по 150 материалам. Ваша задача проанализировать цены на материалы и категории:\n",
    "1.\tПостройте таблицу со средневзвешенными ценами материалов по месяцам\n",
    "2.\tОтветьте на вопросы:\n",
    "-\tНа сколько в среднем подорожали материалы с начала 2020 года?\n",
    "-\tПо каким материалам и категориям наблюдается самый сильный рост цен?\n",
    "-\tПо некоторым материалам есть цена рынка. Сравните цены внутри компании с ценами рынка, на сколько они отличаются?\n",
    "3.\tСделайте 2-3 слайда с визуализацией ваших выводов (шаблон для презентации во вложении).»"
   ]
  },
  {
   "cell_type": "markdown",
   "metadata": {},
   "source": [
    "# 1. Подготовка"
   ]
  },
  {
   "cell_type": "code",
   "execution_count": 1,
   "metadata": {},
   "outputs": [],
   "source": [
    "import pandas as pd\n",
    "import numpy as np\n",
    "import matplotlib\n",
    "import matplotlib.pyplot as plt\n",
    "import seaborn as sns\n",
    "import openpyxl\n",
    "from datetime import datetime\n",
    "from scipy import stats as st\n",
    "\n"
   ]
  },
  {
   "cell_type": "code",
   "execution_count": 2,
   "metadata": {},
   "outputs": [],
   "source": [
    "df = pd.read_excel(r'samolet.xlsx', engine='openpyxl')\n"
   ]
  },
  {
   "cell_type": "code",
   "execution_count": 3,
   "metadata": {},
   "outputs": [
    {
     "data": {
      "text/html": [
       "<div>\n",
       "<style scoped>\n",
       "    .dataframe tbody tr th:only-of-type {\n",
       "        vertical-align: middle;\n",
       "    }\n",
       "\n",
       "    .dataframe tbody tr th {\n",
       "        vertical-align: top;\n",
       "    }\n",
       "\n",
       "    .dataframe thead th {\n",
       "        text-align: right;\n",
       "    }\n",
       "</style>\n",
       "<table border=\"1\" class=\"dataframe\">\n",
       "  <thead>\n",
       "    <tr style=\"text-align: right;\">\n",
       "      <th></th>\n",
       "      <th>Категория</th>\n",
       "      <th>Материал</th>\n",
       "      <th>Дата счета</th>\n",
       "      <th>Ед.изм.</th>\n",
       "      <th>Объем</th>\n",
       "      <th>Цена руб</th>\n",
       "      <th>сумма</th>\n",
       "      <th>Цена рынка</th>\n",
       "    </tr>\n",
       "  </thead>\n",
       "  <tbody>\n",
       "    <tr>\n",
       "      <th>0</th>\n",
       "      <td>Категория 2</td>\n",
       "      <td>Материал 22</td>\n",
       "      <td>08.12.2020</td>\n",
       "      <td>шт.</td>\n",
       "      <td>1.00</td>\n",
       "      <td>936</td>\n",
       "      <td>936.00</td>\n",
       "      <td></td>\n",
       "    </tr>\n",
       "    <tr>\n",
       "      <th>1</th>\n",
       "      <td>Категория 2</td>\n",
       "      <td>Материал 22</td>\n",
       "      <td>08.12.2020</td>\n",
       "      <td>шт.</td>\n",
       "      <td>1.00</td>\n",
       "      <td>936</td>\n",
       "      <td>936.00</td>\n",
       "      <td></td>\n",
       "    </tr>\n",
       "    <tr>\n",
       "      <th>2</th>\n",
       "      <td>Категория 7</td>\n",
       "      <td>Материал 25</td>\n",
       "      <td>14.09.2020</td>\n",
       "      <td>т</td>\n",
       "      <td>0.02</td>\n",
       "      <td>46370</td>\n",
       "      <td>927.40</td>\n",
       "      <td>40590</td>\n",
       "    </tr>\n",
       "    <tr>\n",
       "      <th>3</th>\n",
       "      <td>Категория 7</td>\n",
       "      <td>Материал 26</td>\n",
       "      <td>15.04.2020</td>\n",
       "      <td>м3</td>\n",
       "      <td>0.24</td>\n",
       "      <td>3841</td>\n",
       "      <td>921.84</td>\n",
       "      <td></td>\n",
       "    </tr>\n",
       "    <tr>\n",
       "      <th>4</th>\n",
       "      <td>Категория 2</td>\n",
       "      <td>Материал 36</td>\n",
       "      <td>02.06.2020</td>\n",
       "      <td>компл</td>\n",
       "      <td>1.00</td>\n",
       "      <td>895</td>\n",
       "      <td>895.00</td>\n",
       "      <td></td>\n",
       "    </tr>\n",
       "  </tbody>\n",
       "</table>\n",
       "</div>"
      ],
      "text/plain": [
       "     Категория     Материал  Дата счета Ед.изм.  Объем  Цена руб   сумма  \\\n",
       "0  Категория 2  Материал 22  08.12.2020     шт.   1.00       936  936.00   \n",
       "1  Категория 2  Материал 22  08.12.2020     шт.   1.00       936  936.00   \n",
       "2  Категория 7  Материал 25  14.09.2020       т   0.02     46370  927.40   \n",
       "3  Категория 7  Материал 26  15.04.2020      м3   0.24      3841  921.84   \n",
       "4  Категория 2  Материал 36  02.06.2020   компл   1.00       895  895.00   \n",
       "\n",
       "  Цена рынка  \n",
       "0             \n",
       "1             \n",
       "2      40590  \n",
       "3             \n",
       "4             "
      ]
     },
     "execution_count": 3,
     "metadata": {},
     "output_type": "execute_result"
    }
   ],
   "source": [
    "df.head()"
   ]
  },
  {
   "cell_type": "code",
   "execution_count": 4,
   "metadata": {
    "scrolled": false
   },
   "outputs": [
    {
     "data": {
      "text/plain": [
       "Index(['category', 'material', 'date', 'unit', 'amount', 'price', 'sum',\n",
       "       'marketprice'],\n",
       "      dtype='object')"
      ]
     },
     "execution_count": 4,
     "metadata": {},
     "output_type": "execute_result"
    }
   ],
   "source": [
    "#Поменяем названия столбцов для удобства\n",
    "df.set_axis(['category', 'material', 'date', 'unit', 'amount', 'price', 'sum', 'marketprice'],axis = 'columns',inplace = True)\n",
    "df.columns"
   ]
  },
  {
   "cell_type": "markdown",
   "metadata": {},
   "source": [
    "Уберем лишнюю информацию и скрытые пробелы"
   ]
  },
  {
   "cell_type": "code",
   "execution_count": 5,
   "metadata": {},
   "outputs": [],
   "source": [
    "df.category = df.category.str.replace('Категория', '')"
   ]
  },
  {
   "cell_type": "code",
   "execution_count": 6,
   "metadata": {},
   "outputs": [],
   "source": [
    "df.material = df.material.str.replace('Материал', '')"
   ]
  },
  {
   "cell_type": "code",
   "execution_count": 7,
   "metadata": {},
   "outputs": [],
   "source": [
    "df.columns = df.columns.str.replace(' ', '')"
   ]
  },
  {
   "cell_type": "code",
   "execution_count": 8,
   "metadata": {},
   "outputs": [
    {
     "name": "stdout",
     "output_type": "stream",
     "text": [
      "<class 'pandas.core.frame.DataFrame'>\n",
      "RangeIndex: 15711 entries, 0 to 15710\n",
      "Data columns (total 8 columns):\n",
      " #   Column       Non-Null Count  Dtype  \n",
      "---  ------       --------------  -----  \n",
      " 0   category     15711 non-null  object \n",
      " 1   material     15711 non-null  object \n",
      " 2   date         15711 non-null  object \n",
      " 3   unit         15562 non-null  object \n",
      " 4   amount       15711 non-null  float64\n",
      " 5   price        15711 non-null  int64  \n",
      " 6   sum          15711 non-null  float64\n",
      " 7   marketprice  15711 non-null  object \n",
      "dtypes: float64(2), int64(1), object(5)\n",
      "memory usage: 982.1+ KB\n"
     ]
    }
   ],
   "source": [
    "df.info()"
   ]
  },
  {
   "cell_type": "markdown",
   "metadata": {},
   "source": [
    "Поменяем тип данных столбцов \"marketprice\", \"category\", \"material\" на числовой"
   ]
  },
  {
   "cell_type": "code",
   "execution_count": 9,
   "metadata": {},
   "outputs": [],
   "source": [
    "df['marketprice'] = pd.to_numeric(df['marketprice'], errors='coerce') "
   ]
  },
  {
   "cell_type": "code",
   "execution_count": 10,
   "metadata": {},
   "outputs": [],
   "source": [
    "df['category'] = pd.to_numeric(df['category'], errors='coerce') "
   ]
  },
  {
   "cell_type": "code",
   "execution_count": 11,
   "metadata": {},
   "outputs": [],
   "source": [
    "df['material'] = pd.to_numeric(df['material'], errors='coerce') "
   ]
  },
  {
   "cell_type": "markdown",
   "metadata": {},
   "source": [
    "Проверим данные в столбце с единицами измерения"
   ]
  },
  {
   "cell_type": "code",
   "execution_count": 12,
   "metadata": {},
   "outputs": [
    {
     "data": {
      "text/plain": [
       "шт.       5678\n",
       "м3        4553\n",
       "т         3327\n",
       "м2         871\n",
       "кг         710\n",
       "компл      299\n",
       "пог. м     123\n",
       "руб          1\n",
       "Name: unit, dtype: int64"
      ]
     },
     "execution_count": 12,
     "metadata": {},
     "output_type": "execute_result"
    }
   ],
   "source": [
    "df['unit'].value_counts()"
   ]
  },
  {
   "cell_type": "markdown",
   "metadata": {},
   "source": [
    "Исправим ошибку с рублями в единицах измерения просто для красоты, хоть это и не влияет на наши будущие расчеты"
   ]
  },
  {
   "cell_type": "code",
   "execution_count": 13,
   "metadata": {},
   "outputs": [
    {
     "data": {
      "text/html": [
       "<div>\n",
       "<style scoped>\n",
       "    .dataframe tbody tr th:only-of-type {\n",
       "        vertical-align: middle;\n",
       "    }\n",
       "\n",
       "    .dataframe tbody tr th {\n",
       "        vertical-align: top;\n",
       "    }\n",
       "\n",
       "    .dataframe thead th {\n",
       "        text-align: right;\n",
       "    }\n",
       "</style>\n",
       "<table border=\"1\" class=\"dataframe\">\n",
       "  <thead>\n",
       "    <tr style=\"text-align: right;\">\n",
       "      <th></th>\n",
       "      <th>category</th>\n",
       "      <th>material</th>\n",
       "      <th>date</th>\n",
       "      <th>unit</th>\n",
       "      <th>amount</th>\n",
       "      <th>price</th>\n",
       "      <th>sum</th>\n",
       "      <th>marketprice</th>\n",
       "    </tr>\n",
       "  </thead>\n",
       "  <tbody>\n",
       "    <tr>\n",
       "      <th>865</th>\n",
       "      <td>14</td>\n",
       "      <td>411</td>\n",
       "      <td>24.01.2020</td>\n",
       "      <td>руб</td>\n",
       "      <td>1178890.8</td>\n",
       "      <td>1</td>\n",
       "      <td>1178890.8</td>\n",
       "      <td>NaN</td>\n",
       "    </tr>\n",
       "  </tbody>\n",
       "</table>\n",
       "</div>"
      ],
      "text/plain": [
       "     category  material        date unit     amount  price        sum  \\\n",
       "865        14       411  24.01.2020  руб  1178890.8      1  1178890.8   \n",
       "\n",
       "     marketprice  \n",
       "865          NaN  "
      ]
     },
     "execution_count": 13,
     "metadata": {},
     "output_type": "execute_result"
    }
   ],
   "source": [
    "df[df.unit == 'руб']"
   ]
  },
  {
   "cell_type": "code",
   "execution_count": 14,
   "metadata": {},
   "outputs": [
    {
     "data": {
      "text/html": [
       "<div>\n",
       "<style scoped>\n",
       "    .dataframe tbody tr th:only-of-type {\n",
       "        vertical-align: middle;\n",
       "    }\n",
       "\n",
       "    .dataframe tbody tr th {\n",
       "        vertical-align: top;\n",
       "    }\n",
       "\n",
       "    .dataframe thead th {\n",
       "        text-align: right;\n",
       "    }\n",
       "</style>\n",
       "<table border=\"1\" class=\"dataframe\">\n",
       "  <thead>\n",
       "    <tr style=\"text-align: right;\">\n",
       "      <th></th>\n",
       "      <th>category</th>\n",
       "      <th>material</th>\n",
       "      <th>date</th>\n",
       "      <th>unit</th>\n",
       "      <th>amount</th>\n",
       "      <th>price</th>\n",
       "      <th>sum</th>\n",
       "      <th>marketprice</th>\n",
       "    </tr>\n",
       "  </thead>\n",
       "  <tbody>\n",
       "    <tr>\n",
       "      <th>520</th>\n",
       "      <td>14</td>\n",
       "      <td>411</td>\n",
       "      <td>22.06.2020</td>\n",
       "      <td>м2</td>\n",
       "      <td>1595432.03</td>\n",
       "      <td>1</td>\n",
       "      <td>1595432.03</td>\n",
       "      <td>NaN</td>\n",
       "    </tr>\n",
       "    <tr>\n",
       "      <th>579</th>\n",
       "      <td>14</td>\n",
       "      <td>411</td>\n",
       "      <td>21.08.2020</td>\n",
       "      <td>м2</td>\n",
       "      <td>1524003.15</td>\n",
       "      <td>1</td>\n",
       "      <td>1524003.15</td>\n",
       "      <td>NaN</td>\n",
       "    </tr>\n",
       "    <tr>\n",
       "      <th>721</th>\n",
       "      <td>14</td>\n",
       "      <td>411</td>\n",
       "      <td>22.06.2020</td>\n",
       "      <td>м2</td>\n",
       "      <td>1343833.60</td>\n",
       "      <td>1</td>\n",
       "      <td>1343833.60</td>\n",
       "      <td>NaN</td>\n",
       "    </tr>\n",
       "    <tr>\n",
       "      <th>865</th>\n",
       "      <td>14</td>\n",
       "      <td>411</td>\n",
       "      <td>24.01.2020</td>\n",
       "      <td>руб</td>\n",
       "      <td>1178890.80</td>\n",
       "      <td>1</td>\n",
       "      <td>1178890.80</td>\n",
       "      <td>NaN</td>\n",
       "    </tr>\n",
       "    <tr>\n",
       "      <th>1115</th>\n",
       "      <td>14</td>\n",
       "      <td>411</td>\n",
       "      <td>17.03.2021</td>\n",
       "      <td>м2</td>\n",
       "      <td>991174.66</td>\n",
       "      <td>1</td>\n",
       "      <td>991174.66</td>\n",
       "      <td>NaN</td>\n",
       "    </tr>\n",
       "    <tr>\n",
       "      <th>1183</th>\n",
       "      <td>14</td>\n",
       "      <td>411</td>\n",
       "      <td>19.10.2020</td>\n",
       "      <td>м2</td>\n",
       "      <td>11341.20</td>\n",
       "      <td>85</td>\n",
       "      <td>964002.00</td>\n",
       "      <td>NaN</td>\n",
       "    </tr>\n",
       "    <tr>\n",
       "      <th>1527</th>\n",
       "      <td>14</td>\n",
       "      <td>411</td>\n",
       "      <td>26.02.2020</td>\n",
       "      <td>м2</td>\n",
       "      <td>831531.60</td>\n",
       "      <td>1</td>\n",
       "      <td>831531.60</td>\n",
       "      <td>NaN</td>\n",
       "    </tr>\n",
       "    <tr>\n",
       "      <th>1535</th>\n",
       "      <td>14</td>\n",
       "      <td>411</td>\n",
       "      <td>11.03.2020</td>\n",
       "      <td>м2</td>\n",
       "      <td>828500.88</td>\n",
       "      <td>1</td>\n",
       "      <td>828500.88</td>\n",
       "      <td>NaN</td>\n",
       "    </tr>\n",
       "    <tr>\n",
       "      <th>1684</th>\n",
       "      <td>14</td>\n",
       "      <td>411</td>\n",
       "      <td>21.12.2020</td>\n",
       "      <td>м2</td>\n",
       "      <td>9295.20</td>\n",
       "      <td>86</td>\n",
       "      <td>799387.20</td>\n",
       "      <td>NaN</td>\n",
       "    </tr>\n",
       "    <tr>\n",
       "      <th>2915</th>\n",
       "      <td>14</td>\n",
       "      <td>411</td>\n",
       "      <td>28.02.2020</td>\n",
       "      <td>м2</td>\n",
       "      <td>578304.24</td>\n",
       "      <td>1</td>\n",
       "      <td>578304.24</td>\n",
       "      <td>NaN</td>\n",
       "    </tr>\n",
       "    <tr>\n",
       "      <th>3983</th>\n",
       "      <td>14</td>\n",
       "      <td>411</td>\n",
       "      <td>26.04.2021</td>\n",
       "      <td>м2</td>\n",
       "      <td>412062.40</td>\n",
       "      <td>1</td>\n",
       "      <td>412062.40</td>\n",
       "      <td>NaN</td>\n",
       "    </tr>\n",
       "    <tr>\n",
       "      <th>5544</th>\n",
       "      <td>14</td>\n",
       "      <td>411</td>\n",
       "      <td>16.02.2021</td>\n",
       "      <td>м2</td>\n",
       "      <td>277717.76</td>\n",
       "      <td>1</td>\n",
       "      <td>277717.76</td>\n",
       "      <td>NaN</td>\n",
       "    </tr>\n",
       "    <tr>\n",
       "      <th>6510</th>\n",
       "      <td>14</td>\n",
       "      <td>411</td>\n",
       "      <td>22.03.2021</td>\n",
       "      <td>м2</td>\n",
       "      <td>224624.12</td>\n",
       "      <td>1</td>\n",
       "      <td>224624.12</td>\n",
       "      <td>NaN</td>\n",
       "    </tr>\n",
       "    <tr>\n",
       "      <th>7954</th>\n",
       "      <td>14</td>\n",
       "      <td>411</td>\n",
       "      <td>08.02.2021</td>\n",
       "      <td>м2</td>\n",
       "      <td>162016.00</td>\n",
       "      <td>1</td>\n",
       "      <td>162016.00</td>\n",
       "      <td>NaN</td>\n",
       "    </tr>\n",
       "    <tr>\n",
       "      <th>8582</th>\n",
       "      <td>14</td>\n",
       "      <td>411</td>\n",
       "      <td>11.03.2021</td>\n",
       "      <td>м2</td>\n",
       "      <td>150727.08</td>\n",
       "      <td>1</td>\n",
       "      <td>150727.08</td>\n",
       "      <td>NaN</td>\n",
       "    </tr>\n",
       "    <tr>\n",
       "      <th>9332</th>\n",
       "      <td>14</td>\n",
       "      <td>411</td>\n",
       "      <td>24.03.2020</td>\n",
       "      <td>м2</td>\n",
       "      <td>134865.60</td>\n",
       "      <td>1</td>\n",
       "      <td>134865.60</td>\n",
       "      <td>NaN</td>\n",
       "    </tr>\n",
       "  </tbody>\n",
       "</table>\n",
       "</div>"
      ],
      "text/plain": [
       "      category  material        date unit      amount  price         sum  \\\n",
       "520         14       411  22.06.2020   м2  1595432.03      1  1595432.03   \n",
       "579         14       411  21.08.2020   м2  1524003.15      1  1524003.15   \n",
       "721         14       411  22.06.2020   м2  1343833.60      1  1343833.60   \n",
       "865         14       411  24.01.2020  руб  1178890.80      1  1178890.80   \n",
       "1115        14       411  17.03.2021   м2   991174.66      1   991174.66   \n",
       "1183        14       411  19.10.2020   м2    11341.20     85   964002.00   \n",
       "1527        14       411  26.02.2020   м2   831531.60      1   831531.60   \n",
       "1535        14       411  11.03.2020   м2   828500.88      1   828500.88   \n",
       "1684        14       411  21.12.2020   м2     9295.20     86   799387.20   \n",
       "2915        14       411  28.02.2020   м2   578304.24      1   578304.24   \n",
       "3983        14       411  26.04.2021   м2   412062.40      1   412062.40   \n",
       "5544        14       411  16.02.2021   м2   277717.76      1   277717.76   \n",
       "6510        14       411  22.03.2021   м2   224624.12      1   224624.12   \n",
       "7954        14       411  08.02.2021   м2   162016.00      1   162016.00   \n",
       "8582        14       411  11.03.2021   м2   150727.08      1   150727.08   \n",
       "9332        14       411  24.03.2020   м2   134865.60      1   134865.60   \n",
       "\n",
       "      marketprice  \n",
       "520           NaN  \n",
       "579           NaN  \n",
       "721           NaN  \n",
       "865           NaN  \n",
       "1115          NaN  \n",
       "1183          NaN  \n",
       "1527          NaN  \n",
       "1535          NaN  \n",
       "1684          NaN  \n",
       "2915          NaN  \n",
       "3983          NaN  \n",
       "5544          NaN  \n",
       "6510          NaN  \n",
       "7954          NaN  \n",
       "8582          NaN  \n",
       "9332          NaN  "
      ]
     },
     "execution_count": 14,
     "metadata": {},
     "output_type": "execute_result"
    }
   ],
   "source": [
    "df[df.material == 411]"
   ]
  },
  {
   "cell_type": "code",
   "execution_count": 15,
   "metadata": {},
   "outputs": [],
   "source": [
    "df['unit'].replace({\"руб\" : \"м2\"}, inplace=True)"
   ]
  },
  {
   "cell_type": "code",
   "execution_count": 16,
   "metadata": {},
   "outputs": [
    {
     "data": {
      "text/plain": [
       "шт.       5678\n",
       "м3        4553\n",
       "т         3327\n",
       "м2         872\n",
       "кг         710\n",
       "компл      299\n",
       "пог. м     123\n",
       "Name: unit, dtype: int64"
      ]
     },
     "execution_count": 16,
     "metadata": {},
     "output_type": "execute_result"
    }
   ],
   "source": [
    "df['unit'].value_counts()"
   ]
  },
  {
   "cell_type": "code",
   "execution_count": 17,
   "metadata": {
    "scrolled": true
   },
   "outputs": [],
   "source": [
    "df['date_parsed'] = pd.to_datetime(df['date'], format=\"%d.%m.%Y\")"
   ]
  },
  {
   "cell_type": "code",
   "execution_count": 18,
   "metadata": {},
   "outputs": [],
   "source": [
    "df.date_parsed = df.date_parsed.dt.strftime('%Y-%m')"
   ]
  },
  {
   "cell_type": "code",
   "execution_count": 19,
   "metadata": {},
   "outputs": [
    {
     "data": {
      "text/html": [
       "<div>\n",
       "<style scoped>\n",
       "    .dataframe tbody tr th:only-of-type {\n",
       "        vertical-align: middle;\n",
       "    }\n",
       "\n",
       "    .dataframe tbody tr th {\n",
       "        vertical-align: top;\n",
       "    }\n",
       "\n",
       "    .dataframe thead th {\n",
       "        text-align: right;\n",
       "    }\n",
       "</style>\n",
       "<table border=\"1\" class=\"dataframe\">\n",
       "  <thead>\n",
       "    <tr style=\"text-align: right;\">\n",
       "      <th></th>\n",
       "      <th>category</th>\n",
       "      <th>material</th>\n",
       "      <th>date</th>\n",
       "      <th>unit</th>\n",
       "      <th>amount</th>\n",
       "      <th>price</th>\n",
       "      <th>sum</th>\n",
       "      <th>marketprice</th>\n",
       "      <th>date_parsed</th>\n",
       "    </tr>\n",
       "  </thead>\n",
       "  <tbody>\n",
       "    <tr>\n",
       "      <th>0</th>\n",
       "      <td>2</td>\n",
       "      <td>22</td>\n",
       "      <td>08.12.2020</td>\n",
       "      <td>шт.</td>\n",
       "      <td>1.00</td>\n",
       "      <td>936</td>\n",
       "      <td>936.00</td>\n",
       "      <td>NaN</td>\n",
       "      <td>2020-12</td>\n",
       "    </tr>\n",
       "    <tr>\n",
       "      <th>1</th>\n",
       "      <td>2</td>\n",
       "      <td>22</td>\n",
       "      <td>08.12.2020</td>\n",
       "      <td>шт.</td>\n",
       "      <td>1.00</td>\n",
       "      <td>936</td>\n",
       "      <td>936.00</td>\n",
       "      <td>NaN</td>\n",
       "      <td>2020-12</td>\n",
       "    </tr>\n",
       "    <tr>\n",
       "      <th>2</th>\n",
       "      <td>7</td>\n",
       "      <td>25</td>\n",
       "      <td>14.09.2020</td>\n",
       "      <td>т</td>\n",
       "      <td>0.02</td>\n",
       "      <td>46370</td>\n",
       "      <td>927.40</td>\n",
       "      <td>40590.0</td>\n",
       "      <td>2020-09</td>\n",
       "    </tr>\n",
       "    <tr>\n",
       "      <th>3</th>\n",
       "      <td>7</td>\n",
       "      <td>26</td>\n",
       "      <td>15.04.2020</td>\n",
       "      <td>м3</td>\n",
       "      <td>0.24</td>\n",
       "      <td>3841</td>\n",
       "      <td>921.84</td>\n",
       "      <td>NaN</td>\n",
       "      <td>2020-04</td>\n",
       "    </tr>\n",
       "    <tr>\n",
       "      <th>4</th>\n",
       "      <td>2</td>\n",
       "      <td>36</td>\n",
       "      <td>02.06.2020</td>\n",
       "      <td>компл</td>\n",
       "      <td>1.00</td>\n",
       "      <td>895</td>\n",
       "      <td>895.00</td>\n",
       "      <td>NaN</td>\n",
       "      <td>2020-06</td>\n",
       "    </tr>\n",
       "  </tbody>\n",
       "</table>\n",
       "</div>"
      ],
      "text/plain": [
       "   category  material        date   unit  amount  price     sum  marketprice  \\\n",
       "0         2        22  08.12.2020    шт.    1.00    936  936.00          NaN   \n",
       "1         2        22  08.12.2020    шт.    1.00    936  936.00          NaN   \n",
       "2         7        25  14.09.2020      т    0.02  46370  927.40      40590.0   \n",
       "3         7        26  15.04.2020     м3    0.24   3841  921.84          NaN   \n",
       "4         2        36  02.06.2020  компл    1.00    895  895.00          NaN   \n",
       "\n",
       "  date_parsed  \n",
       "0     2020-12  \n",
       "1     2020-12  \n",
       "2     2020-09  \n",
       "3     2020-04  \n",
       "4     2020-06  "
      ]
     },
     "execution_count": 19,
     "metadata": {},
     "output_type": "execute_result"
    }
   ],
   "source": [
    "df.head()"
   ]
  },
  {
   "cell_type": "markdown",
   "metadata": {},
   "source": [
    "Отсортируем таблицу по дате."
   ]
  },
  {
   "cell_type": "code",
   "execution_count": 20,
   "metadata": {},
   "outputs": [],
   "source": [
    "df = df.sort_values(by=\"date_parsed\")"
   ]
  },
  {
   "cell_type": "code",
   "execution_count": 21,
   "metadata": {},
   "outputs": [],
   "source": [
    "df = df.reset_index(drop=True)"
   ]
  },
  {
   "cell_type": "code",
   "execution_count": 22,
   "metadata": {},
   "outputs": [
    {
     "data": {
      "text/html": [
       "<div>\n",
       "<style scoped>\n",
       "    .dataframe tbody tr th:only-of-type {\n",
       "        vertical-align: middle;\n",
       "    }\n",
       "\n",
       "    .dataframe tbody tr th {\n",
       "        vertical-align: top;\n",
       "    }\n",
       "\n",
       "    .dataframe thead th {\n",
       "        text-align: right;\n",
       "    }\n",
       "</style>\n",
       "<table border=\"1\" class=\"dataframe\">\n",
       "  <thead>\n",
       "    <tr style=\"text-align: right;\">\n",
       "      <th></th>\n",
       "      <th>category</th>\n",
       "      <th>material</th>\n",
       "      <th>date</th>\n",
       "      <th>unit</th>\n",
       "      <th>amount</th>\n",
       "      <th>price</th>\n",
       "      <th>sum</th>\n",
       "      <th>marketprice</th>\n",
       "      <th>date_parsed</th>\n",
       "    </tr>\n",
       "  </thead>\n",
       "  <tbody>\n",
       "    <tr>\n",
       "      <th>0</th>\n",
       "      <td>14</td>\n",
       "      <td>717</td>\n",
       "      <td>31.01.2020</td>\n",
       "      <td>шт.</td>\n",
       "      <td>1200.00</td>\n",
       "      <td>54</td>\n",
       "      <td>64800.00</td>\n",
       "      <td>NaN</td>\n",
       "      <td>2020-01</td>\n",
       "    </tr>\n",
       "    <tr>\n",
       "      <th>1</th>\n",
       "      <td>14</td>\n",
       "      <td>618</td>\n",
       "      <td>24.01.2020</td>\n",
       "      <td>м3</td>\n",
       "      <td>76.03</td>\n",
       "      <td>1835</td>\n",
       "      <td>139515.05</td>\n",
       "      <td>NaN</td>\n",
       "      <td>2020-01</td>\n",
       "    </tr>\n",
       "    <tr>\n",
       "      <th>2</th>\n",
       "      <td>14</td>\n",
       "      <td>618</td>\n",
       "      <td>28.01.2020</td>\n",
       "      <td>м3</td>\n",
       "      <td>76.03</td>\n",
       "      <td>1835</td>\n",
       "      <td>139515.05</td>\n",
       "      <td>NaN</td>\n",
       "      <td>2020-01</td>\n",
       "    </tr>\n",
       "    <tr>\n",
       "      <th>3</th>\n",
       "      <td>14</td>\n",
       "      <td>618</td>\n",
       "      <td>28.01.2020</td>\n",
       "      <td>м3</td>\n",
       "      <td>76.03</td>\n",
       "      <td>1835</td>\n",
       "      <td>139515.05</td>\n",
       "      <td>NaN</td>\n",
       "      <td>2020-01</td>\n",
       "    </tr>\n",
       "    <tr>\n",
       "      <th>4</th>\n",
       "      <td>14</td>\n",
       "      <td>618</td>\n",
       "      <td>30.01.2020</td>\n",
       "      <td>м3</td>\n",
       "      <td>76.03</td>\n",
       "      <td>1835</td>\n",
       "      <td>139515.05</td>\n",
       "      <td>NaN</td>\n",
       "      <td>2020-01</td>\n",
       "    </tr>\n",
       "  </tbody>\n",
       "</table>\n",
       "</div>"
      ],
      "text/plain": [
       "   category  material        date unit   amount  price        sum  \\\n",
       "0        14       717  31.01.2020  шт.  1200.00     54   64800.00   \n",
       "1        14       618  24.01.2020   м3    76.03   1835  139515.05   \n",
       "2        14       618  28.01.2020   м3    76.03   1835  139515.05   \n",
       "3        14       618  28.01.2020   м3    76.03   1835  139515.05   \n",
       "4        14       618  30.01.2020   м3    76.03   1835  139515.05   \n",
       "\n",
       "   marketprice date_parsed  \n",
       "0          NaN     2020-01  \n",
       "1          NaN     2020-01  \n",
       "2          NaN     2020-01  \n",
       "3          NaN     2020-01  \n",
       "4          NaN     2020-01  "
      ]
     },
     "execution_count": 22,
     "metadata": {},
     "output_type": "execute_result"
    }
   ],
   "source": [
    "df.head()"
   ]
  },
  {
   "cell_type": "markdown",
   "metadata": {},
   "source": [
    "Сгруппируем данные по категории, материалу и дате."
   ]
  },
  {
   "cell_type": "code",
   "execution_count": 23,
   "metadata": {},
   "outputs": [],
   "source": [
    "df_table = df.groupby(['category', 'material', 'date_parsed'],as_index = False)[['amount', 'sum']].sum()"
   ]
  },
  {
   "cell_type": "code",
   "execution_count": 24,
   "metadata": {},
   "outputs": [
    {
     "data": {
      "text/html": [
       "<div>\n",
       "<style scoped>\n",
       "    .dataframe tbody tr th:only-of-type {\n",
       "        vertical-align: middle;\n",
       "    }\n",
       "\n",
       "    .dataframe tbody tr th {\n",
       "        vertical-align: top;\n",
       "    }\n",
       "\n",
       "    .dataframe thead th {\n",
       "        text-align: right;\n",
       "    }\n",
       "</style>\n",
       "<table border=\"1\" class=\"dataframe\">\n",
       "  <thead>\n",
       "    <tr style=\"text-align: right;\">\n",
       "      <th></th>\n",
       "      <th>category</th>\n",
       "      <th>material</th>\n",
       "      <th>date_parsed</th>\n",
       "      <th>amount</th>\n",
       "      <th>sum</th>\n",
       "    </tr>\n",
       "  </thead>\n",
       "  <tbody>\n",
       "    <tr>\n",
       "      <th>0</th>\n",
       "      <td>2</td>\n",
       "      <td>22</td>\n",
       "      <td>2020-02</td>\n",
       "      <td>318.00</td>\n",
       "      <td>224508.00</td>\n",
       "    </tr>\n",
       "    <tr>\n",
       "      <th>1</th>\n",
       "      <td>2</td>\n",
       "      <td>22</td>\n",
       "      <td>2020-03</td>\n",
       "      <td>588.00</td>\n",
       "      <td>472650.00</td>\n",
       "    </tr>\n",
       "    <tr>\n",
       "      <th>2</th>\n",
       "      <td>2</td>\n",
       "      <td>22</td>\n",
       "      <td>2020-06</td>\n",
       "      <td>572.00</td>\n",
       "      <td>540540.00</td>\n",
       "    </tr>\n",
       "    <tr>\n",
       "      <th>3</th>\n",
       "      <td>2</td>\n",
       "      <td>22</td>\n",
       "      <td>2020-07</td>\n",
       "      <td>2698.00</td>\n",
       "      <td>2105270.00</td>\n",
       "    </tr>\n",
       "    <tr>\n",
       "      <th>4</th>\n",
       "      <td>2</td>\n",
       "      <td>22</td>\n",
       "      <td>2020-08</td>\n",
       "      <td>4380.00</td>\n",
       "      <td>3779940.00</td>\n",
       "    </tr>\n",
       "    <tr>\n",
       "      <th>...</th>\n",
       "      <td>...</td>\n",
       "      <td>...</td>\n",
       "      <td>...</td>\n",
       "      <td>...</td>\n",
       "      <td>...</td>\n",
       "    </tr>\n",
       "    <tr>\n",
       "      <th>1184</th>\n",
       "      <td>14</td>\n",
       "      <td>1456</td>\n",
       "      <td>2020-04</td>\n",
       "      <td>6336.00</td>\n",
       "      <td>152064.00</td>\n",
       "    </tr>\n",
       "    <tr>\n",
       "      <th>1185</th>\n",
       "      <td>14</td>\n",
       "      <td>1456</td>\n",
       "      <td>2020-05</td>\n",
       "      <td>25344.00</td>\n",
       "      <td>608256.00</td>\n",
       "    </tr>\n",
       "    <tr>\n",
       "      <th>1186</th>\n",
       "      <td>14</td>\n",
       "      <td>1456</td>\n",
       "      <td>2020-06</td>\n",
       "      <td>38016.00</td>\n",
       "      <td>912384.00</td>\n",
       "    </tr>\n",
       "    <tr>\n",
       "      <th>1187</th>\n",
       "      <td>14</td>\n",
       "      <td>1456</td>\n",
       "      <td>2020-07</td>\n",
       "      <td>19008.00</td>\n",
       "      <td>468864.00</td>\n",
       "    </tr>\n",
       "    <tr>\n",
       "      <th>1188</th>\n",
       "      <td>15</td>\n",
       "      <td>322</td>\n",
       "      <td>2020-07</td>\n",
       "      <td>10860.48</td>\n",
       "      <td>6939846.72</td>\n",
       "    </tr>\n",
       "  </tbody>\n",
       "</table>\n",
       "<p>1189 rows × 5 columns</p>\n",
       "</div>"
      ],
      "text/plain": [
       "      category  material date_parsed    amount         sum\n",
       "0            2        22     2020-02    318.00   224508.00\n",
       "1            2        22     2020-03    588.00   472650.00\n",
       "2            2        22     2020-06    572.00   540540.00\n",
       "3            2        22     2020-07   2698.00  2105270.00\n",
       "4            2        22     2020-08   4380.00  3779940.00\n",
       "...        ...       ...         ...       ...         ...\n",
       "1184        14      1456     2020-04   6336.00   152064.00\n",
       "1185        14      1456     2020-05  25344.00   608256.00\n",
       "1186        14      1456     2020-06  38016.00   912384.00\n",
       "1187        14      1456     2020-07  19008.00   468864.00\n",
       "1188        15       322     2020-07  10860.48  6939846.72\n",
       "\n",
       "[1189 rows x 5 columns]"
      ]
     },
     "execution_count": 24,
     "metadata": {},
     "output_type": "execute_result"
    }
   ],
   "source": [
    "df_table"
   ]
  },
  {
   "cell_type": "code",
   "execution_count": 25,
   "metadata": {},
   "outputs": [
    {
     "data": {
      "text/plain": [
       "293    2\n",
       "271    2\n",
       "278    2\n",
       "282    2\n",
       "275    2\n",
       "596    2\n",
       "294    1\n",
       "279    1\n",
       "276    1\n",
       "273    1\n",
       "290    1\n",
       "318    1\n",
       "295    1\n",
       "296    1\n",
       "272    1\n",
       "277    1\n",
       "283    1\n",
       "299    1\n",
       "308    1\n",
       "322    1\n",
       "Name: material, dtype: int64"
      ]
     },
     "execution_count": 25,
     "metadata": {},
     "output_type": "execute_result"
    }
   ],
   "source": [
    "df_table.material.value_counts().tail(20)"
   ]
  },
  {
   "cell_type": "markdown",
   "metadata": {},
   "source": [
    "Удалим товары с одним значением, т.к. по ним мы не сможем провести анализ динамики цены."
   ]
  },
  {
   "cell_type": "code",
   "execution_count": 26,
   "metadata": {},
   "outputs": [],
   "source": [
    "one_item = [276, 283, 277, 272, 294, 279, 273, 290, 318, 295, 296, 299, 308, 322 ]"
   ]
  },
  {
   "cell_type": "code",
   "execution_count": 27,
   "metadata": {},
   "outputs": [],
   "source": [
    "df_table = df_table.query('material not in @one_item').reset_index(drop=True)"
   ]
  },
  {
   "cell_type": "code",
   "execution_count": 28,
   "metadata": {},
   "outputs": [
    {
     "data": {
      "text/plain": [
       "309    17\n",
       "314    17\n",
       "288    17\n",
       "460    17\n",
       "813    17\n",
       "       ..\n",
       "280     2\n",
       "291     2\n",
       "292     2\n",
       "293     2\n",
       "307     2\n",
       "Name: material, Length: 136, dtype: int64"
      ]
     },
     "execution_count": 28,
     "metadata": {},
     "output_type": "execute_result"
    }
   ],
   "source": [
    "df_table.material.value_counts()"
   ]
  },
  {
   "cell_type": "markdown",
   "metadata": {},
   "source": [
    "Посчитаем среднемесячную цену"
   ]
  },
  {
   "cell_type": "code",
   "execution_count": 29,
   "metadata": {},
   "outputs": [],
   "source": [
    "df_table['price'] = df_table['sum'] / df_table['amount']"
   ]
  },
  {
   "cell_type": "markdown",
   "metadata": {},
   "source": [
    "Сохраним таблицу со средневзвешенными ценами материалов по месяцам в файл"
   ]
  },
  {
   "cell_type": "code",
   "execution_count": 30,
   "metadata": {},
   "outputs": [],
   "source": [
    "df_table.to_excel('final.xlsx')"
   ]
  },
  {
   "cell_type": "markdown",
   "metadata": {},
   "source": [
    "Для будущего сравнения цен в компании с ценами рынка сделаем отдельно таблицу, в которой будут заполнены все поля с ценой по рынку "
   ]
  },
  {
   "cell_type": "code",
   "execution_count": 31,
   "metadata": {},
   "outputs": [],
   "source": [
    "df_market = df[df.marketprice == df.marketprice]"
   ]
  },
  {
   "cell_type": "code",
   "execution_count": 32,
   "metadata": {},
   "outputs": [],
   "source": [
    "df_market = df_market.reset_index(drop=True)"
   ]
  },
  {
   "cell_type": "code",
   "execution_count": 33,
   "metadata": {},
   "outputs": [
    {
     "name": "stdout",
     "output_type": "stream",
     "text": [
      "<class 'pandas.core.frame.DataFrame'>\n",
      "RangeIndex: 3857 entries, 0 to 3856\n",
      "Data columns (total 9 columns):\n",
      " #   Column       Non-Null Count  Dtype  \n",
      "---  ------       --------------  -----  \n",
      " 0   category     3857 non-null   int64  \n",
      " 1   material     3857 non-null   int64  \n",
      " 2   date         3857 non-null   object \n",
      " 3   unit         3826 non-null   object \n",
      " 4   amount       3857 non-null   float64\n",
      " 5   price        3857 non-null   int64  \n",
      " 6   sum          3857 non-null   float64\n",
      " 7   marketprice  3857 non-null   float64\n",
      " 8   date_parsed  3857 non-null   object \n",
      "dtypes: float64(3), int64(3), object(3)\n",
      "memory usage: 271.3+ KB\n"
     ]
    }
   ],
   "source": [
    "df_market.info()"
   ]
  },
  {
   "cell_type": "code",
   "execution_count": 34,
   "metadata": {},
   "outputs": [],
   "source": [
    "df_market['market_sum'] = df_market['amount'] * df_market['marketprice']"
   ]
  },
  {
   "cell_type": "code",
   "execution_count": 35,
   "metadata": {},
   "outputs": [
    {
     "name": "stdout",
     "output_type": "stream",
     "text": [
      "<class 'pandas.core.frame.DataFrame'>\n",
      "RangeIndex: 3857 entries, 0 to 3856\n",
      "Data columns (total 10 columns):\n",
      " #   Column       Non-Null Count  Dtype  \n",
      "---  ------       --------------  -----  \n",
      " 0   category     3857 non-null   int64  \n",
      " 1   material     3857 non-null   int64  \n",
      " 2   date         3857 non-null   object \n",
      " 3   unit         3826 non-null   object \n",
      " 4   amount       3857 non-null   float64\n",
      " 5   price        3857 non-null   int64  \n",
      " 6   sum          3857 non-null   float64\n",
      " 7   marketprice  3857 non-null   float64\n",
      " 8   date_parsed  3857 non-null   object \n",
      " 9   market_sum   3857 non-null   float64\n",
      "dtypes: float64(4), int64(3), object(3)\n",
      "memory usage: 301.5+ KB\n"
     ]
    }
   ],
   "source": [
    "df_market.info()"
   ]
  },
  {
   "cell_type": "markdown",
   "metadata": {},
   "source": [
    "### 2. Исследовательский анализ данных"
   ]
  },
  {
   "cell_type": "markdown",
   "metadata": {},
   "source": [
    "2.1. Чтобы узнать, на сколько в среднем подорожали материалы с начала 2020 года, посчитаем разницу между первоначальной ценой и конечной ценой."
   ]
  },
  {
   "cell_type": "code",
   "execution_count": 36,
   "metadata": {},
   "outputs": [
    {
     "data": {
      "text/html": [
       "<div>\n",
       "<style scoped>\n",
       "    .dataframe tbody tr th:only-of-type {\n",
       "        vertical-align: middle;\n",
       "    }\n",
       "\n",
       "    .dataframe tbody tr th {\n",
       "        vertical-align: top;\n",
       "    }\n",
       "\n",
       "    .dataframe thead th {\n",
       "        text-align: right;\n",
       "    }\n",
       "</style>\n",
       "<table border=\"1\" class=\"dataframe\">\n",
       "  <thead>\n",
       "    <tr style=\"text-align: right;\">\n",
       "      <th></th>\n",
       "      <th>category</th>\n",
       "      <th>material</th>\n",
       "      <th>amount</th>\n",
       "      <th>price</th>\n",
       "    </tr>\n",
       "  </thead>\n",
       "  <tbody>\n",
       "    <tr>\n",
       "      <th>0</th>\n",
       "      <td>2</td>\n",
       "      <td>22</td>\n",
       "      <td>10548.0</td>\n",
       "      <td>32.577904</td>\n",
       "    </tr>\n",
       "    <tr>\n",
       "      <th>1</th>\n",
       "      <td>2</td>\n",
       "      <td>36</td>\n",
       "      <td>47734.0</td>\n",
       "      <td>24.418534</td>\n",
       "    </tr>\n",
       "    <tr>\n",
       "      <th>2</th>\n",
       "      <td>2</td>\n",
       "      <td>269</td>\n",
       "      <td>61.0</td>\n",
       "      <td>-0.056852</td>\n",
       "    </tr>\n",
       "    <tr>\n",
       "      <th>3</th>\n",
       "      <td>2</td>\n",
       "      <td>270</td>\n",
       "      <td>61.0</td>\n",
       "      <td>-0.056956</td>\n",
       "    </tr>\n",
       "    <tr>\n",
       "      <th>4</th>\n",
       "      <td>2</td>\n",
       "      <td>275</td>\n",
       "      <td>10.0</td>\n",
       "      <td>-8.644163</td>\n",
       "    </tr>\n",
       "  </tbody>\n",
       "</table>\n",
       "</div>"
      ],
      "text/plain": [
       "   category  material   amount      price\n",
       "0         2        22  10548.0  32.577904\n",
       "1         2        36  47734.0  24.418534\n",
       "2         2       269     61.0  -0.056852\n",
       "3         2       270     61.0  -0.056956\n",
       "4         2       275     10.0  -8.644163"
      ]
     },
     "execution_count": 36,
     "metadata": {},
     "output_type": "execute_result"
    }
   ],
   "source": [
    "def diff(x):\n",
    "    return ((x.values[-1] - x.values[0]) / x.values[0] * 100) #возвращает относительную разницу в % между последним и первональным значением\n",
    "df_diff = df_table.groupby(['category', 'material'],as_index = False).agg({'amount': sum, 'price': diff})\n",
    "df_diff.head()"
   ]
  },
  {
   "cell_type": "code",
   "execution_count": 37,
   "metadata": {},
   "outputs": [],
   "source": [
    "df_diff.columns = df_diff.columns.str.replace('price', 'diff_price')"
   ]
  },
  {
   "cell_type": "code",
   "execution_count": 38,
   "metadata": {},
   "outputs": [
    {
     "data": {
      "text/html": [
       "<div>\n",
       "<style scoped>\n",
       "    .dataframe tbody tr th:only-of-type {\n",
       "        vertical-align: middle;\n",
       "    }\n",
       "\n",
       "    .dataframe tbody tr th {\n",
       "        vertical-align: top;\n",
       "    }\n",
       "\n",
       "    .dataframe thead th {\n",
       "        text-align: right;\n",
       "    }\n",
       "</style>\n",
       "<table border=\"1\" class=\"dataframe\">\n",
       "  <thead>\n",
       "    <tr style=\"text-align: right;\">\n",
       "      <th></th>\n",
       "      <th>category</th>\n",
       "      <th>material</th>\n",
       "      <th>amount</th>\n",
       "      <th>diff_price</th>\n",
       "    </tr>\n",
       "  </thead>\n",
       "  <tbody>\n",
       "    <tr>\n",
       "      <th>0</th>\n",
       "      <td>2</td>\n",
       "      <td>22</td>\n",
       "      <td>10548.0</td>\n",
       "      <td>32.577904</td>\n",
       "    </tr>\n",
       "    <tr>\n",
       "      <th>1</th>\n",
       "      <td>2</td>\n",
       "      <td>36</td>\n",
       "      <td>47734.0</td>\n",
       "      <td>24.418534</td>\n",
       "    </tr>\n",
       "    <tr>\n",
       "      <th>2</th>\n",
       "      <td>2</td>\n",
       "      <td>269</td>\n",
       "      <td>61.0</td>\n",
       "      <td>-0.056852</td>\n",
       "    </tr>\n",
       "    <tr>\n",
       "      <th>3</th>\n",
       "      <td>2</td>\n",
       "      <td>270</td>\n",
       "      <td>61.0</td>\n",
       "      <td>-0.056956</td>\n",
       "    </tr>\n",
       "    <tr>\n",
       "      <th>4</th>\n",
       "      <td>2</td>\n",
       "      <td>275</td>\n",
       "      <td>10.0</td>\n",
       "      <td>-8.644163</td>\n",
       "    </tr>\n",
       "  </tbody>\n",
       "</table>\n",
       "</div>"
      ],
      "text/plain": [
       "   category  material   amount  diff_price\n",
       "0         2        22  10548.0   32.577904\n",
       "1         2        36  47734.0   24.418534\n",
       "2         2       269     61.0   -0.056852\n",
       "3         2       270     61.0   -0.056956\n",
       "4         2       275     10.0   -8.644163"
      ]
     },
     "execution_count": 38,
     "metadata": {},
     "output_type": "execute_result"
    }
   ],
   "source": [
    "df_diff.head()"
   ]
  },
  {
   "cell_type": "code",
   "execution_count": 39,
   "metadata": {},
   "outputs": [
    {
     "data": {
      "text/plain": [
       "4.2698891044864835"
      ]
     },
     "execution_count": 39,
     "metadata": {},
     "output_type": "execute_result"
    }
   ],
   "source": [
    "mean_diff = df_diff['diff_price'].mean()\n",
    "mean_diff"
   ]
  },
  {
   "cell_type": "code",
   "execution_count": 40,
   "metadata": {},
   "outputs": [
    {
     "data": {
      "text/plain": [
       "-2.69"
      ]
     },
     "execution_count": 40,
     "metadata": {},
     "output_type": "execute_result"
    }
   ],
   "source": [
    "weighted_avg = round(np.average( df_diff['diff_price'], weights = df_diff['amount']),2)\n",
    "\n",
    "weighted_avg"
   ]
  },
  {
   "cell_type": "markdown",
   "metadata": {},
   "source": [
    "2.2. Посмотрим, по каким материалам и категориям наблюдается самый сильный рост цен."
   ]
  },
  {
   "cell_type": "markdown",
   "metadata": {},
   "source": [
    "Топ-10 материалов, по которым был максимальный рост цен."
   ]
  },
  {
   "cell_type": "code",
   "execution_count": 41,
   "metadata": {},
   "outputs": [
    {
     "data": {
      "text/html": [
       "<div>\n",
       "<style scoped>\n",
       "    .dataframe tbody tr th:only-of-type {\n",
       "        vertical-align: middle;\n",
       "    }\n",
       "\n",
       "    .dataframe tbody tr th {\n",
       "        vertical-align: top;\n",
       "    }\n",
       "\n",
       "    .dataframe thead th {\n",
       "        text-align: right;\n",
       "    }\n",
       "</style>\n",
       "<table border=\"1\" class=\"dataframe\">\n",
       "  <thead>\n",
       "    <tr style=\"text-align: right;\">\n",
       "      <th></th>\n",
       "      <th>category</th>\n",
       "      <th>material</th>\n",
       "      <th>amount</th>\n",
       "      <th>diff_price</th>\n",
       "    </tr>\n",
       "  </thead>\n",
       "  <tbody>\n",
       "    <tr>\n",
       "      <th>0</th>\n",
       "      <td>3</td>\n",
       "      <td>537</td>\n",
       "      <td>253000.00</td>\n",
       "      <td>66.666667</td>\n",
       "    </tr>\n",
       "    <tr>\n",
       "      <th>1</th>\n",
       "      <td>7</td>\n",
       "      <td>315</td>\n",
       "      <td>916.88</td>\n",
       "      <td>53.150144</td>\n",
       "    </tr>\n",
       "    <tr>\n",
       "      <th>2</th>\n",
       "      <td>7</td>\n",
       "      <td>538</td>\n",
       "      <td>186.39</td>\n",
       "      <td>50.456483</td>\n",
       "    </tr>\n",
       "    <tr>\n",
       "      <th>3</th>\n",
       "      <td>7</td>\n",
       "      <td>101</td>\n",
       "      <td>6989.07</td>\n",
       "      <td>44.036377</td>\n",
       "    </tr>\n",
       "    <tr>\n",
       "      <th>4</th>\n",
       "      <td>7</td>\n",
       "      <td>284</td>\n",
       "      <td>7130.02</td>\n",
       "      <td>43.458186</td>\n",
       "    </tr>\n",
       "    <tr>\n",
       "      <th>5</th>\n",
       "      <td>7</td>\n",
       "      <td>533</td>\n",
       "      <td>194.11</td>\n",
       "      <td>41.602300</td>\n",
       "    </tr>\n",
       "    <tr>\n",
       "      <th>6</th>\n",
       "      <td>2</td>\n",
       "      <td>451</td>\n",
       "      <td>15346.00</td>\n",
       "      <td>40.948307</td>\n",
       "    </tr>\n",
       "    <tr>\n",
       "      <th>7</th>\n",
       "      <td>7</td>\n",
       "      <td>356</td>\n",
       "      <td>1128.13</td>\n",
       "      <td>39.308573</td>\n",
       "    </tr>\n",
       "    <tr>\n",
       "      <th>8</th>\n",
       "      <td>4</td>\n",
       "      <td>345</td>\n",
       "      <td>2324.00</td>\n",
       "      <td>37.344442</td>\n",
       "    </tr>\n",
       "    <tr>\n",
       "      <th>9</th>\n",
       "      <td>8</td>\n",
       "      <td>596</td>\n",
       "      <td>672.00</td>\n",
       "      <td>33.511234</td>\n",
       "    </tr>\n",
       "  </tbody>\n",
       "</table>\n",
       "</div>"
      ],
      "text/plain": [
       "   category  material     amount  diff_price\n",
       "0         3       537  253000.00   66.666667\n",
       "1         7       315     916.88   53.150144\n",
       "2         7       538     186.39   50.456483\n",
       "3         7       101    6989.07   44.036377\n",
       "4         7       284    7130.02   43.458186\n",
       "5         7       533     194.11   41.602300\n",
       "6         2       451   15346.00   40.948307\n",
       "7         7       356    1128.13   39.308573\n",
       "8         4       345    2324.00   37.344442\n",
       "9         8       596     672.00   33.511234"
      ]
     },
     "execution_count": 41,
     "metadata": {},
     "output_type": "execute_result"
    }
   ],
   "source": [
    "top10_m = df_diff.sort_values('diff_price', ascending=False).head(10).reset_index(drop=True)\n",
    "top10_m"
   ]
  },
  {
   "cell_type": "code",
   "execution_count": 42,
   "metadata": {},
   "outputs": [],
   "source": [
    "top10_m['material']= top10_m['material'].apply(str)"
   ]
  },
  {
   "cell_type": "code",
   "execution_count": 43,
   "metadata": {},
   "outputs": [
    {
     "data": {
      "image/png": "[encoded data removed]",
      "text/plain": [
       "<Figure size 1080x360 with 1 Axes>"
      ]
     },
     "metadata": {
      "needs_background": "light"
     },
     "output_type": "display_data"
    }
   ],
   "source": [
    "#Построим график «Топ-10 материалов, по которым был максимальный рост цен»:\n",
    "plt.figure(figsize=(15,5))\n",
    "plt.title(\"Топ-10 материалов, по которым был максимальный рост цен\")\n",
    "sns.barplot(x=top10_m['material'], y=top10_m['diff_price'])\n",
    "plt.xlabel(\"Материалы\")\n",
    "plt.ylabel(\"Относительный рост с начала года\")\n",
    "plt.show()"
   ]
  },
  {
   "cell_type": "markdown",
   "metadata": {},
   "source": [
    "Сделаем аналогичное действие по категориям"
   ]
  },
  {
   "cell_type": "code",
   "execution_count": 44,
   "metadata": {},
   "outputs": [],
   "source": [
    "df_table_cat = df_table.groupby(['category', 'date_parsed'],as_index = False)[['amount', 'sum']].sum()"
   ]
  },
  {
   "cell_type": "code",
   "execution_count": 45,
   "metadata": {},
   "outputs": [],
   "source": [
    "df_table_cat['price'] = df_table_cat['sum'] / df_table_cat['amount']"
   ]
  },
  {
   "cell_type": "code",
   "execution_count": 46,
   "metadata": {},
   "outputs": [
    {
     "data": {
      "text/html": [
       "<div>\n",
       "<style scoped>\n",
       "    .dataframe tbody tr th:only-of-type {\n",
       "        vertical-align: middle;\n",
       "    }\n",
       "\n",
       "    .dataframe tbody tr th {\n",
       "        vertical-align: top;\n",
       "    }\n",
       "\n",
       "    .dataframe thead th {\n",
       "        text-align: right;\n",
       "    }\n",
       "</style>\n",
       "<table border=\"1\" class=\"dataframe\">\n",
       "  <thead>\n",
       "    <tr style=\"text-align: right;\">\n",
       "      <th></th>\n",
       "      <th>category</th>\n",
       "      <th>date_parsed</th>\n",
       "      <th>amount</th>\n",
       "      <th>sum</th>\n",
       "      <th>price</th>\n",
       "    </tr>\n",
       "  </thead>\n",
       "  <tbody>\n",
       "    <tr>\n",
       "      <th>0</th>\n",
       "      <td>2</td>\n",
       "      <td>2020-01</td>\n",
       "      <td>311037.52</td>\n",
       "      <td>25305933.91</td>\n",
       "      <td>81.359747</td>\n",
       "    </tr>\n",
       "    <tr>\n",
       "      <th>1</th>\n",
       "      <td>2</td>\n",
       "      <td>2020-02</td>\n",
       "      <td>575556.74</td>\n",
       "      <td>28863308.20</td>\n",
       "      <td>50.148502</td>\n",
       "    </tr>\n",
       "    <tr>\n",
       "      <th>2</th>\n",
       "      <td>2</td>\n",
       "      <td>2020-03</td>\n",
       "      <td>2800846.52</td>\n",
       "      <td>50570219.03</td>\n",
       "      <td>18.055334</td>\n",
       "    </tr>\n",
       "    <tr>\n",
       "      <th>3</th>\n",
       "      <td>2</td>\n",
       "      <td>2020-04</td>\n",
       "      <td>2108561.56</td>\n",
       "      <td>30910523.60</td>\n",
       "      <td>14.659531</td>\n",
       "    </tr>\n",
       "    <tr>\n",
       "      <th>4</th>\n",
       "      <td>2</td>\n",
       "      <td>2020-05</td>\n",
       "      <td>193902.06</td>\n",
       "      <td>14721759.36</td>\n",
       "      <td>75.923687</td>\n",
       "    </tr>\n",
       "  </tbody>\n",
       "</table>\n",
       "</div>"
      ],
      "text/plain": [
       "   category date_parsed      amount          sum      price\n",
       "0         2     2020-01   311037.52  25305933.91  81.359747\n",
       "1         2     2020-02   575556.74  28863308.20  50.148502\n",
       "2         2     2020-03  2800846.52  50570219.03  18.055334\n",
       "3         2     2020-04  2108561.56  30910523.60  14.659531\n",
       "4         2     2020-05   193902.06  14721759.36  75.923687"
      ]
     },
     "execution_count": 46,
     "metadata": {},
     "output_type": "execute_result"
    }
   ],
   "source": [
    "df_table_cat.head()"
   ]
  },
  {
   "cell_type": "code",
   "execution_count": 47,
   "metadata": {},
   "outputs": [
    {
     "data": {
      "text/html": [
       "<div>\n",
       "<style scoped>\n",
       "    .dataframe tbody tr th:only-of-type {\n",
       "        vertical-align: middle;\n",
       "    }\n",
       "\n",
       "    .dataframe tbody tr th {\n",
       "        vertical-align: top;\n",
       "    }\n",
       "\n",
       "    .dataframe thead th {\n",
       "        text-align: right;\n",
       "    }\n",
       "</style>\n",
       "<table border=\"1\" class=\"dataframe\">\n",
       "  <thead>\n",
       "    <tr style=\"text-align: right;\">\n",
       "      <th></th>\n",
       "      <th>category</th>\n",
       "      <th>price</th>\n",
       "    </tr>\n",
       "  </thead>\n",
       "  <tbody>\n",
       "    <tr>\n",
       "      <th>0</th>\n",
       "      <td>2</td>\n",
       "      <td>-85.325108</td>\n",
       "    </tr>\n",
       "    <tr>\n",
       "      <th>1</th>\n",
       "      <td>3</td>\n",
       "      <td>-57.328051</td>\n",
       "    </tr>\n",
       "    <tr>\n",
       "      <th>2</th>\n",
       "      <td>4</td>\n",
       "      <td>-33.778089</td>\n",
       "    </tr>\n",
       "    <tr>\n",
       "      <th>3</th>\n",
       "      <td>7</td>\n",
       "      <td>-48.031923</td>\n",
       "    </tr>\n",
       "    <tr>\n",
       "      <th>4</th>\n",
       "      <td>8</td>\n",
       "      <td>73.492589</td>\n",
       "    </tr>\n",
       "  </tbody>\n",
       "</table>\n",
       "</div>"
      ],
      "text/plain": [
       "   category      price\n",
       "0         2 -85.325108\n",
       "1         3 -57.328051\n",
       "2         4 -33.778089\n",
       "3         7 -48.031923\n",
       "4         8  73.492589"
      ]
     },
     "execution_count": 47,
     "metadata": {},
     "output_type": "execute_result"
    }
   ],
   "source": [
    "df_diff_cat = df_table_cat.groupby(['category'],as_index = False).agg({'price': diff})\n",
    "df_diff_cat.head()"
   ]
  },
  {
   "cell_type": "code",
   "execution_count": 48,
   "metadata": {},
   "outputs": [
    {
     "data": {
      "text/html": [
       "<div>\n",
       "<style scoped>\n",
       "    .dataframe tbody tr th:only-of-type {\n",
       "        vertical-align: middle;\n",
       "    }\n",
       "\n",
       "    .dataframe tbody tr th {\n",
       "        vertical-align: top;\n",
       "    }\n",
       "\n",
       "    .dataframe thead th {\n",
       "        text-align: right;\n",
       "    }\n",
       "</style>\n",
       "<table border=\"1\" class=\"dataframe\">\n",
       "  <thead>\n",
       "    <tr style=\"text-align: right;\">\n",
       "      <th></th>\n",
       "      <th>category</th>\n",
       "      <th>price</th>\n",
       "    </tr>\n",
       "  </thead>\n",
       "  <tbody>\n",
       "    <tr>\n",
       "      <th>0</th>\n",
       "      <td>14</td>\n",
       "      <td>456.277795</td>\n",
       "    </tr>\n",
       "    <tr>\n",
       "      <th>1</th>\n",
       "      <td>8</td>\n",
       "      <td>73.492589</td>\n",
       "    </tr>\n",
       "    <tr>\n",
       "      <th>2</th>\n",
       "      <td>11</td>\n",
       "      <td>48.930288</td>\n",
       "    </tr>\n",
       "  </tbody>\n",
       "</table>\n",
       "</div>"
      ],
      "text/plain": [
       "  category       price\n",
       "0       14  456.277795\n",
       "1        8   73.492589\n",
       "2       11   48.930288"
      ]
     },
     "execution_count": 48,
     "metadata": {},
     "output_type": "execute_result"
    }
   ],
   "source": [
    "top3_c = df_diff_cat.sort_values('price', ascending=False).head(3).reset_index(drop=True)\n",
    "top3_c['category']= top3_c['category'].apply(str)\n",
    "top3_c"
   ]
  },
  {
   "cell_type": "code",
   "execution_count": 49,
   "metadata": {},
   "outputs": [
    {
     "data": {
      "image/png": "[encoded data removed]",
      "text/plain": [
       "<Figure size 360x576 with 1 Axes>"
      ]
     },
     "metadata": {
      "needs_background": "light"
     },
     "output_type": "display_data"
    }
   ],
   "source": [
    "#Построим график «Топ-3, по которым был максимальный рост цен»:\n",
    "plt.figure(figsize=(5,8))\n",
    "plt.title(\"Топ-3 категорий, по которым был максимальный рост цен\")\n",
    "sns.barplot(x=top3_c['category'], y=top3_c['price'])\n",
    "plt.xlabel(\"Категории\")\n",
    "plt.ylabel(\"Относительный рост с начала года\")\n",
    "plt.show()"
   ]
  },
  {
   "cell_type": "code",
   "execution_count": 51,
   "metadata": {},
   "outputs": [
    {
     "data": {
      "text/html": [
       "<div>\n",
       "<style scoped>\n",
       "    .dataframe tbody tr th:only-of-type {\n",
       "        vertical-align: middle;\n",
       "    }\n",
       "\n",
       "    .dataframe tbody tr th {\n",
       "        vertical-align: top;\n",
       "    }\n",
       "\n",
       "    .dataframe thead th {\n",
       "        text-align: right;\n",
       "    }\n",
       "</style>\n",
       "<table border=\"1\" class=\"dataframe\">\n",
       "  <thead>\n",
       "    <tr style=\"text-align: right;\">\n",
       "      <th></th>\n",
       "      <th>category</th>\n",
       "      <th>material</th>\n",
       "      <th>date</th>\n",
       "      <th>unit</th>\n",
       "      <th>amount</th>\n",
       "      <th>price</th>\n",
       "      <th>sum</th>\n",
       "      <th>marketprice</th>\n",
       "      <th>date_parsed</th>\n",
       "      <th>market_sum</th>\n",
       "    </tr>\n",
       "  </thead>\n",
       "  <tbody>\n",
       "    <tr>\n",
       "      <th>0</th>\n",
       "      <td>7</td>\n",
       "      <td>25</td>\n",
       "      <td>27.01.2020</td>\n",
       "      <td>т</td>\n",
       "      <td>3.40</td>\n",
       "      <td>34664</td>\n",
       "      <td>117857.60</td>\n",
       "      <td>34990.0</td>\n",
       "      <td>2020-01</td>\n",
       "      <td>118966.0</td>\n",
       "    </tr>\n",
       "    <tr>\n",
       "      <th>1</th>\n",
       "      <td>7</td>\n",
       "      <td>150</td>\n",
       "      <td>24.01.2020</td>\n",
       "      <td>т</td>\n",
       "      <td>7.47</td>\n",
       "      <td>36629</td>\n",
       "      <td>273618.63</td>\n",
       "      <td>36790.0</td>\n",
       "      <td>2020-01</td>\n",
       "      <td>274821.3</td>\n",
       "    </tr>\n",
       "    <tr>\n",
       "      <th>2</th>\n",
       "      <td>7</td>\n",
       "      <td>150</td>\n",
       "      <td>24.01.2020</td>\n",
       "      <td>т</td>\n",
       "      <td>2.97</td>\n",
       "      <td>36662</td>\n",
       "      <td>108886.14</td>\n",
       "      <td>36790.0</td>\n",
       "      <td>2020-01</td>\n",
       "      <td>109266.3</td>\n",
       "    </tr>\n",
       "    <tr>\n",
       "      <th>3</th>\n",
       "      <td>7</td>\n",
       "      <td>150</td>\n",
       "      <td>24.01.2020</td>\n",
       "      <td>т</td>\n",
       "      <td>28.15</td>\n",
       "      <td>36507</td>\n",
       "      <td>1027672.05</td>\n",
       "      <td>36790.0</td>\n",
       "      <td>2020-01</td>\n",
       "      <td>1035638.5</td>\n",
       "    </tr>\n",
       "    <tr>\n",
       "      <th>4</th>\n",
       "      <td>7</td>\n",
       "      <td>538</td>\n",
       "      <td>24.01.2020</td>\n",
       "      <td>т</td>\n",
       "      <td>8.46</td>\n",
       "      <td>32296</td>\n",
       "      <td>273224.16</td>\n",
       "      <td>32490.0</td>\n",
       "      <td>2020-01</td>\n",
       "      <td>274865.4</td>\n",
       "    </tr>\n",
       "    <tr>\n",
       "      <th>...</th>\n",
       "      <td>...</td>\n",
       "      <td>...</td>\n",
       "      <td>...</td>\n",
       "      <td>...</td>\n",
       "      <td>...</td>\n",
       "      <td>...</td>\n",
       "      <td>...</td>\n",
       "      <td>...</td>\n",
       "      <td>...</td>\n",
       "      <td>...</td>\n",
       "    </tr>\n",
       "    <tr>\n",
       "      <th>3852</th>\n",
       "      <td>7</td>\n",
       "      <td>284</td>\n",
       "      <td>01.03.2021</td>\n",
       "      <td>т</td>\n",
       "      <td>10.01</td>\n",
       "      <td>47113</td>\n",
       "      <td>471601.13</td>\n",
       "      <td>63990.0</td>\n",
       "      <td>2021-03</td>\n",
       "      <td>640539.9</td>\n",
       "    </tr>\n",
       "    <tr>\n",
       "      <th>3853</th>\n",
       "      <td>7</td>\n",
       "      <td>315</td>\n",
       "      <td>03.03.2021</td>\n",
       "      <td>т</td>\n",
       "      <td>10.22</td>\n",
       "      <td>46773</td>\n",
       "      <td>478020.06</td>\n",
       "      <td>59590.0</td>\n",
       "      <td>2021-03</td>\n",
       "      <td>609009.8</td>\n",
       "    </tr>\n",
       "    <tr>\n",
       "      <th>3854</th>\n",
       "      <td>7</td>\n",
       "      <td>101</td>\n",
       "      <td>01.03.2021</td>\n",
       "      <td>т</td>\n",
       "      <td>20.31</td>\n",
       "      <td>46701</td>\n",
       "      <td>948497.31</td>\n",
       "      <td>63990.0</td>\n",
       "      <td>2021-03</td>\n",
       "      <td>1299636.9</td>\n",
       "    </tr>\n",
       "    <tr>\n",
       "      <th>3855</th>\n",
       "      <td>7</td>\n",
       "      <td>284</td>\n",
       "      <td>03.03.2021</td>\n",
       "      <td>т</td>\n",
       "      <td>10.00</td>\n",
       "      <td>47118</td>\n",
       "      <td>471180.00</td>\n",
       "      <td>63990.0</td>\n",
       "      <td>2021-03</td>\n",
       "      <td>639900.0</td>\n",
       "    </tr>\n",
       "    <tr>\n",
       "      <th>3856</th>\n",
       "      <td>7</td>\n",
       "      <td>284</td>\n",
       "      <td>03.03.2021</td>\n",
       "      <td>т</td>\n",
       "      <td>10.00</td>\n",
       "      <td>47118</td>\n",
       "      <td>471180.00</td>\n",
       "      <td>63990.0</td>\n",
       "      <td>2021-03</td>\n",
       "      <td>639900.0</td>\n",
       "    </tr>\n",
       "  </tbody>\n",
       "</table>\n",
       "<p>3857 rows × 10 columns</p>\n",
       "</div>"
      ],
      "text/plain": [
       "      category  material        date unit  amount  price         sum  \\\n",
       "0            7        25  27.01.2020    т    3.40  34664   117857.60   \n",
       "1            7       150  24.01.2020    т    7.47  36629   273618.63   \n",
       "2            7       150  24.01.2020    т    2.97  36662   108886.14   \n",
       "3            7       150  24.01.2020    т   28.15  36507  1027672.05   \n",
       "4            7       538  24.01.2020    т    8.46  32296   273224.16   \n",
       "...        ...       ...         ...  ...     ...    ...         ...   \n",
       "3852         7       284  01.03.2021    т   10.01  47113   471601.13   \n",
       "3853         7       315  03.03.2021    т   10.22  46773   478020.06   \n",
       "3854         7       101  01.03.2021    т   20.31  46701   948497.31   \n",
       "3855         7       284  03.03.2021    т   10.00  47118   471180.00   \n",
       "3856         7       284  03.03.2021    т   10.00  47118   471180.00   \n",
       "\n",
       "      marketprice date_parsed  market_sum  \n",
       "0         34990.0     2020-01    118966.0  \n",
       "1         36790.0     2020-01    274821.3  \n",
       "2         36790.0     2020-01    109266.3  \n",
       "3         36790.0     2020-01   1035638.5  \n",
       "4         32490.0     2020-01    274865.4  \n",
       "...           ...         ...         ...  \n",
       "3852      63990.0     2021-03    640539.9  \n",
       "3853      59590.0     2021-03    609009.8  \n",
       "3854      63990.0     2021-03   1299636.9  \n",
       "3855      63990.0     2021-03    639900.0  \n",
       "3856      63990.0     2021-03    639900.0  \n",
       "\n",
       "[3857 rows x 10 columns]"
      ]
     },
     "execution_count": 51,
     "metadata": {},
     "output_type": "execute_result"
    }
   ],
   "source": [
    "df_market"
   ]
  },
  {
   "cell_type": "code",
   "execution_count": 52,
   "metadata": {},
   "outputs": [],
   "source": [
    "df_market['diff'] = (df_market['marketprice'] - df_market['price'])/ df_market['price'] * 100"
   ]
  },
  {
   "cell_type": "markdown",
   "metadata": {},
   "source": [
    "### 3. Проверка гипотезы\n",
    "Сравним цены внутри компании с ценами рынка.\n",
    "Сформулируем нулевую гипотезу:средние значения цен внутри компании и рынка равны. Сформулируем альтернативную гипотезу:средние значения цен внутри компании и рынка не равны."
   ]
  },
  {
   "cell_type": "code",
   "execution_count": 53,
   "metadata": {},
   "outputs": [
    {
     "name": "stdout",
     "output_type": "stream",
     "text": [
      "p-значение:  0.013597605423490498\n",
      "Отвергаем нулевую гипотезу\n"
     ]
    }
   ],
   "source": [
    "# Чтобы проверить гипотезу о равенстве среднего двух генеральных совокупностей по взятым из них выборкам, применим метод scipy.stats.ttest_ind()\n",
    "sample_1 = df_market['price'] # sample_1 - выборка из цен внутри компании\n",
    "sample_2 = df_market['marketprice'] # sample_2 - выборка из цен рынка\n",
    "alpha = 0.05 # пороговое значение для p-value, при котором еще нельзя отбрасывать нулевую гипотезу. Ниже уже отбрасываем.\n",
    "results = st.ttest_ind(sample_1, sample_2, equal_var = True)\n",
    "# equal_var - считать ли равными дисперсии выборок, по умолчанию имеет значение True. Считать, т.к. выборки схожи.\n",
    "print('p-значение: ', results.pvalue)\n",
    "if alpha <= results.pvalue:\n",
    "    print ('Не отвергаем нулевую гипотезу')\n",
    "else:\n",
    "    print ('Отвергаем нулевую гипотезу')"
   ]
  },
  {
   "cell_type": "markdown",
   "metadata": {},
   "source": [
    "Вывод: p-значение близко к 1. Таким образом вероятность получить наблюдаемый результат\n",
    "при условии, что нулевая гипотеза верна, близка к 1%. В связи с этим у нас есть веское основание отбросить нулевую гипотезу и придерживаться альтернативной."
   ]
  },
  {
   "cell_type": "code",
   "execution_count": 54,
   "metadata": {},
   "outputs": [],
   "source": [
    "def indicators(data):\n",
    "    print(\"Среднее - {}, медиана - {}\".format(round(data.mean(),2), round(data.median(),2)))"
   ]
  },
  {
   "cell_type": "code",
   "execution_count": 55,
   "metadata": {},
   "outputs": [
    {
     "name": "stdout",
     "output_type": "stream",
     "text": [
      "Среднее - 27650.45, медиана - 34800.0\n"
     ]
    }
   ],
   "source": [
    "indicators(df_market['price'])\n"
   ]
  },
  {
   "cell_type": "code",
   "execution_count": 56,
   "metadata": {},
   "outputs": [
    {
     "name": "stdout",
     "output_type": "stream",
     "text": [
      "Среднее - 28527.6, медиана - 34990.0\n"
     ]
    }
   ],
   "source": [
    "indicators(df_market['marketprice'])"
   ]
  },
  {
   "cell_type": "code",
   "execution_count": 57,
   "metadata": {},
   "outputs": [
    {
     "data": {
      "text/plain": [
       "1837.85"
      ]
     },
     "execution_count": 57,
     "metadata": {},
     "output_type": "execute_result"
    }
   ],
   "source": [
    "our_average = round(np.average( df_market['price'], weights = df_market['amount']),2)\n",
    "our_average"
   ]
  },
  {
   "cell_type": "code",
   "execution_count": 58,
   "metadata": {},
   "outputs": [
    {
     "data": {
      "text/plain": [
       "2052.54"
      ]
     },
     "execution_count": 58,
     "metadata": {},
     "output_type": "execute_result"
    }
   ],
   "source": [
    "market_average = round(np.average( df_market['marketprice'], weights = df_market['amount']),2)\n",
    "market_average"
   ]
  },
  {
   "cell_type": "code",
   "execution_count": 59,
   "metadata": {},
   "outputs": [],
   "source": [
    "d = {'kind': ['Самолет', 'Рынок'], 'mean': [27650.45, 28527.6], 'median': [34800.0, 34990.0] , \"weighted_average\": [1837.85, 2052.54 ]}"
   ]
  },
  {
   "cell_type": "code",
   "execution_count": 60,
   "metadata": {},
   "outputs": [
    {
     "data": {
      "text/html": [
       "<div>\n",
       "<style scoped>\n",
       "    .dataframe tbody tr th:only-of-type {\n",
       "        vertical-align: middle;\n",
       "    }\n",
       "\n",
       "    .dataframe tbody tr th {\n",
       "        vertical-align: top;\n",
       "    }\n",
       "\n",
       "    .dataframe thead th {\n",
       "        text-align: right;\n",
       "    }\n",
       "</style>\n",
       "<table border=\"1\" class=\"dataframe\">\n",
       "  <thead>\n",
       "    <tr style=\"text-align: right;\">\n",
       "      <th></th>\n",
       "      <th>kind</th>\n",
       "      <th>mean</th>\n",
       "      <th>median</th>\n",
       "      <th>weighted_average</th>\n",
       "    </tr>\n",
       "  </thead>\n",
       "  <tbody>\n",
       "    <tr>\n",
       "      <th>0</th>\n",
       "      <td>Самолет</td>\n",
       "      <td>27650.45</td>\n",
       "      <td>34800.0</td>\n",
       "      <td>1837.85</td>\n",
       "    </tr>\n",
       "    <tr>\n",
       "      <th>1</th>\n",
       "      <td>Рынок</td>\n",
       "      <td>28527.60</td>\n",
       "      <td>34990.0</td>\n",
       "      <td>2052.54</td>\n",
       "    </tr>\n",
       "  </tbody>\n",
       "</table>\n",
       "</div>"
      ],
      "text/plain": [
       "      kind      mean   median  weighted_average\n",
       "0  Самолет  27650.45  34800.0           1837.85\n",
       "1    Рынок  28527.60  34990.0           2052.54"
      ]
     },
     "execution_count": 60,
     "metadata": {},
     "output_type": "execute_result"
    }
   ],
   "source": [
    "df_indicators = pd.DataFrame(data=d)\n",
    "df_indicators"
   ]
  },
  {
   "cell_type": "code",
   "execution_count": 61,
   "metadata": {},
   "outputs": [
    {
     "data": {
      "image/png": "[encoded data removed]",
      "text/plain": [
       "<Figure size 720x720 with 1 Axes>"
      ]
     },
     "metadata": {
      "needs_background": "light"
     },
     "output_type": "display_data"
    }
   ],
   "source": [
    "plt.figure(figsize=(10,10))\n",
    "plt.title(\"Сравнение с ценами рынка по среднему значению\")\n",
    "sns.barplot(x=df_indicators['kind'], y=df_indicators['mean'])\n",
    "plt.xlabel(\"\")\n",
    "plt.ylabel(\"Цена\")\n",
    "plt.show()"
   ]
  },
  {
   "cell_type": "code",
   "execution_count": 62,
   "metadata": {},
   "outputs": [
    {
     "data": {
      "image/png": "[encoded data removed]",
      "text/plain": [
       "<Figure size 720x720 with 1 Axes>"
      ]
     },
     "metadata": {
      "needs_background": "light"
     },
     "output_type": "display_data"
    }
   ],
   "source": [
    "plt.figure(figsize=(10,10))\n",
    "plt.title(\"Сравнение с ценами рынка по медиане\")\n",
    "sns.barplot(x=df_indicators['kind'], y=df_indicators['median'])\n",
    "plt.xlabel(\"\")\n",
    "plt.ylabel(\"Цена\")\n",
    "plt.show()"
   ]
  },
  {
   "cell_type": "code",
   "execution_count": 63,
   "metadata": {},
   "outputs": [
    {
     "data": {
      "image/png": "[encoded data removed]",
      "text/plain": [
       "<Figure size 720x720 with 1 Axes>"
      ]
     },
     "metadata": {
      "needs_background": "light"
     },
     "output_type": "display_data"
    }
   ],
   "source": [
    "plt.figure(figsize=(10,10))\n",
    "plt.title(\"Сравнение с ценами рынка по среднему взвешенному значению\")\n",
    "sns.barplot(x=df_indicators['kind'], y=df_indicators['weighted_average'])\n",
    "plt.xlabel(\"\")\n",
    "plt.ylabel(\"Цена\")\n",
    "plt.show()"
   ]
  },
  {
   "cell_type": "code",
   "execution_count": 64,
   "metadata": {},
   "outputs": [
    {
     "data": {
      "text/html": [
       "<div>\n",
       "<style scoped>\n",
       "    .dataframe tbody tr th:only-of-type {\n",
       "        vertical-align: middle;\n",
       "    }\n",
       "\n",
       "    .dataframe tbody tr th {\n",
       "        vertical-align: top;\n",
       "    }\n",
       "\n",
       "    .dataframe thead th {\n",
       "        text-align: right;\n",
       "    }\n",
       "</style>\n",
       "<table border=\"1\" class=\"dataframe\">\n",
       "  <thead>\n",
       "    <tr style=\"text-align: right;\">\n",
       "      <th></th>\n",
       "      <th>category</th>\n",
       "      <th>material</th>\n",
       "      <th>date</th>\n",
       "      <th>unit</th>\n",
       "      <th>amount</th>\n",
       "      <th>price</th>\n",
       "      <th>sum</th>\n",
       "      <th>marketprice</th>\n",
       "      <th>date_parsed</th>\n",
       "      <th>market_sum</th>\n",
       "      <th>diff</th>\n",
       "    </tr>\n",
       "  </thead>\n",
       "  <tbody>\n",
       "    <tr>\n",
       "      <th>0</th>\n",
       "      <td>7</td>\n",
       "      <td>150</td>\n",
       "      <td>14.09.2020</td>\n",
       "      <td>т</td>\n",
       "      <td>0.01</td>\n",
       "      <td>28590</td>\n",
       "      <td>285.90</td>\n",
       "      <td>44490.0</td>\n",
       "      <td>2020-09</td>\n",
       "      <td>444.9</td>\n",
       "      <td>55.613851</td>\n",
       "    </tr>\n",
       "    <tr>\n",
       "      <th>1</th>\n",
       "      <td>7</td>\n",
       "      <td>226</td>\n",
       "      <td>26.03.2020</td>\n",
       "      <td>т</td>\n",
       "      <td>0.01</td>\n",
       "      <td>28067</td>\n",
       "      <td>280.67</td>\n",
       "      <td>39990.0</td>\n",
       "      <td>2020-03</td>\n",
       "      <td>399.9</td>\n",
       "      <td>42.480493</td>\n",
       "    </tr>\n",
       "    <tr>\n",
       "      <th>2</th>\n",
       "      <td>3</td>\n",
       "      <td>25</td>\n",
       "      <td>02.03.2021</td>\n",
       "      <td>т</td>\n",
       "      <td>0.31</td>\n",
       "      <td>47329</td>\n",
       "      <td>14671.99</td>\n",
       "      <td>66990.0</td>\n",
       "      <td>2021-03</td>\n",
       "      <td>20766.9</td>\n",
       "      <td>41.541127</td>\n",
       "    </tr>\n",
       "    <tr>\n",
       "      <th>3</th>\n",
       "      <td>7</td>\n",
       "      <td>300</td>\n",
       "      <td>10.09.2020</td>\n",
       "      <td>м3</td>\n",
       "      <td>310.00</td>\n",
       "      <td>3750</td>\n",
       "      <td>1162500.00</td>\n",
       "      <td>5305.0</td>\n",
       "      <td>2020-09</td>\n",
       "      <td>1644550.0</td>\n",
       "      <td>41.466667</td>\n",
       "    </tr>\n",
       "    <tr>\n",
       "      <th>4</th>\n",
       "      <td>7</td>\n",
       "      <td>300</td>\n",
       "      <td>10.09.2020</td>\n",
       "      <td>м3</td>\n",
       "      <td>106.50</td>\n",
       "      <td>3750</td>\n",
       "      <td>399375.00</td>\n",
       "      <td>5305.0</td>\n",
       "      <td>2020-09</td>\n",
       "      <td>564982.5</td>\n",
       "      <td>41.466667</td>\n",
       "    </tr>\n",
       "    <tr>\n",
       "      <th>5</th>\n",
       "      <td>7</td>\n",
       "      <td>813</td>\n",
       "      <td>23.07.2020</td>\n",
       "      <td>м3</td>\n",
       "      <td>75.00</td>\n",
       "      <td>3080</td>\n",
       "      <td>231000.00</td>\n",
       "      <td>4340.0</td>\n",
       "      <td>2020-07</td>\n",
       "      <td>325500.0</td>\n",
       "      <td>40.909091</td>\n",
       "    </tr>\n",
       "  </tbody>\n",
       "</table>\n",
       "</div>"
      ],
      "text/plain": [
       "   category material        date unit  amount  price         sum  marketprice  \\\n",
       "0         7      150  14.09.2020    т    0.01  28590      285.90      44490.0   \n",
       "1         7      226  26.03.2020    т    0.01  28067      280.67      39990.0   \n",
       "2         3       25  02.03.2021    т    0.31  47329    14671.99      66990.0   \n",
       "3         7      300  10.09.2020   м3  310.00   3750  1162500.00       5305.0   \n",
       "4         7      300  10.09.2020   м3  106.50   3750   399375.00       5305.0   \n",
       "5         7      813  23.07.2020   м3   75.00   3080   231000.00       4340.0   \n",
       "\n",
       "  date_parsed  market_sum       diff  \n",
       "0     2020-09       444.9  55.613851  \n",
       "1     2020-03       399.9  42.480493  \n",
       "2     2021-03     20766.9  41.541127  \n",
       "3     2020-09   1644550.0  41.466667  \n",
       "4     2020-09    564982.5  41.466667  \n",
       "5     2020-07    325500.0  40.909091  "
      ]
     },
     "execution_count": 64,
     "metadata": {},
     "output_type": "execute_result"
    }
   ],
   "source": [
    "top5_good = df_market.sort_values('diff', ascending=False).head(6).reset_index(drop=True)\n",
    "top5_good['material']= top5_good['material'].apply(str)\n",
    "top5_good"
   ]
  },
  {
   "cell_type": "code",
   "execution_count": 65,
   "metadata": {},
   "outputs": [
    {
     "data": {
      "image/png": "[encoded data removed]",
      "text/plain": [
       "<Figure size 720x720 with 1 Axes>"
      ]
     },
     "metadata": {
      "needs_background": "light"
     },
     "output_type": "display_data"
    }
   ],
   "source": [
    "#Построим график «Топ-5 материалов, по которым цена ниже рынка»:\n",
    "plt.figure(figsize=(10,10))\n",
    "plt.title(\"Топ-5 материалов, по которым цена ниже рынка\")\n",
    "sns.barplot(x=top5_good['material'], y=top5_good['diff'])\n",
    "plt.xlabel(\"Материалы\")\n",
    "plt.ylabel(\"Разница с рыночной ценой в %\")\n",
    "plt.show()"
   ]
  },
  {
   "cell_type": "code",
   "execution_count": 66,
   "metadata": {},
   "outputs": [
    {
     "data": {
      "text/html": [
       "<div>\n",
       "<style scoped>\n",
       "    .dataframe tbody tr th:only-of-type {\n",
       "        vertical-align: middle;\n",
       "    }\n",
       "\n",
       "    .dataframe tbody tr th {\n",
       "        vertical-align: top;\n",
       "    }\n",
       "\n",
       "    .dataframe thead th {\n",
       "        text-align: right;\n",
       "    }\n",
       "</style>\n",
       "<table border=\"1\" class=\"dataframe\">\n",
       "  <thead>\n",
       "    <tr style=\"text-align: right;\">\n",
       "      <th></th>\n",
       "      <th>category</th>\n",
       "      <th>material</th>\n",
       "      <th>date</th>\n",
       "      <th>unit</th>\n",
       "      <th>amount</th>\n",
       "      <th>price</th>\n",
       "      <th>sum</th>\n",
       "      <th>marketprice</th>\n",
       "      <th>date_parsed</th>\n",
       "      <th>market_sum</th>\n",
       "      <th>diff</th>\n",
       "    </tr>\n",
       "  </thead>\n",
       "  <tbody>\n",
       "    <tr>\n",
       "      <th>0</th>\n",
       "      <td>14</td>\n",
       "      <td>987</td>\n",
       "      <td>15.06.2020</td>\n",
       "      <td>шт.</td>\n",
       "      <td>7200.00</td>\n",
       "      <td>44</td>\n",
       "      <td>316800.00</td>\n",
       "      <td>20.0</td>\n",
       "      <td>2020-06</td>\n",
       "      <td>144000.0</td>\n",
       "      <td>-54.545455</td>\n",
       "    </tr>\n",
       "    <tr>\n",
       "      <th>1</th>\n",
       "      <td>14</td>\n",
       "      <td>987</td>\n",
       "      <td>25.05.2020</td>\n",
       "      <td>шт.</td>\n",
       "      <td>7200.00</td>\n",
       "      <td>44</td>\n",
       "      <td>316800.00</td>\n",
       "      <td>20.0</td>\n",
       "      <td>2020-05</td>\n",
       "      <td>144000.0</td>\n",
       "      <td>-54.545455</td>\n",
       "    </tr>\n",
       "    <tr>\n",
       "      <th>2</th>\n",
       "      <td>14</td>\n",
       "      <td>987</td>\n",
       "      <td>15.06.2020</td>\n",
       "      <td>шт.</td>\n",
       "      <td>7200.00</td>\n",
       "      <td>44</td>\n",
       "      <td>316800.00</td>\n",
       "      <td>20.0</td>\n",
       "      <td>2020-06</td>\n",
       "      <td>144000.0</td>\n",
       "      <td>-54.545455</td>\n",
       "    </tr>\n",
       "    <tr>\n",
       "      <th>3</th>\n",
       "      <td>14</td>\n",
       "      <td>987</td>\n",
       "      <td>07.08.2020</td>\n",
       "      <td>шт.</td>\n",
       "      <td>7680.00</td>\n",
       "      <td>24</td>\n",
       "      <td>184320.00</td>\n",
       "      <td>19.0</td>\n",
       "      <td>2020-08</td>\n",
       "      <td>145920.0</td>\n",
       "      <td>-20.833333</td>\n",
       "    </tr>\n",
       "    <tr>\n",
       "      <th>4</th>\n",
       "      <td>14</td>\n",
       "      <td>987</td>\n",
       "      <td>14.08.2020</td>\n",
       "      <td>шт.</td>\n",
       "      <td>7680.00</td>\n",
       "      <td>24</td>\n",
       "      <td>184320.00</td>\n",
       "      <td>19.0</td>\n",
       "      <td>2020-08</td>\n",
       "      <td>145920.0</td>\n",
       "      <td>-20.833333</td>\n",
       "    </tr>\n",
       "    <tr>\n",
       "      <th>5</th>\n",
       "      <td>14</td>\n",
       "      <td>987</td>\n",
       "      <td>07.08.2020</td>\n",
       "      <td>шт.</td>\n",
       "      <td>7680.00</td>\n",
       "      <td>24</td>\n",
       "      <td>184320.00</td>\n",
       "      <td>19.0</td>\n",
       "      <td>2020-08</td>\n",
       "      <td>145920.0</td>\n",
       "      <td>-20.833333</td>\n",
       "    </tr>\n",
       "    <tr>\n",
       "      <th>6</th>\n",
       "      <td>14</td>\n",
       "      <td>987</td>\n",
       "      <td>14.08.2020</td>\n",
       "      <td>шт.</td>\n",
       "      <td>7680.00</td>\n",
       "      <td>24</td>\n",
       "      <td>184320.00</td>\n",
       "      <td>19.0</td>\n",
       "      <td>2020-08</td>\n",
       "      <td>145920.0</td>\n",
       "      <td>-20.833333</td>\n",
       "    </tr>\n",
       "    <tr>\n",
       "      <th>7</th>\n",
       "      <td>14</td>\n",
       "      <td>987</td>\n",
       "      <td>11.08.2020</td>\n",
       "      <td>шт.</td>\n",
       "      <td>7680.00</td>\n",
       "      <td>24</td>\n",
       "      <td>184320.00</td>\n",
       "      <td>19.0</td>\n",
       "      <td>2020-08</td>\n",
       "      <td>145920.0</td>\n",
       "      <td>-20.833333</td>\n",
       "    </tr>\n",
       "    <tr>\n",
       "      <th>8</th>\n",
       "      <td>14</td>\n",
       "      <td>987</td>\n",
       "      <td>05.08.2020</td>\n",
       "      <td>шт.</td>\n",
       "      <td>7680.00</td>\n",
       "      <td>24</td>\n",
       "      <td>184320.00</td>\n",
       "      <td>19.0</td>\n",
       "      <td>2020-08</td>\n",
       "      <td>145920.0</td>\n",
       "      <td>-20.833333</td>\n",
       "    </tr>\n",
       "    <tr>\n",
       "      <th>9</th>\n",
       "      <td>14</td>\n",
       "      <td>987</td>\n",
       "      <td>05.08.2020</td>\n",
       "      <td>шт.</td>\n",
       "      <td>7680.00</td>\n",
       "      <td>24</td>\n",
       "      <td>184320.00</td>\n",
       "      <td>19.0</td>\n",
       "      <td>2020-08</td>\n",
       "      <td>145920.0</td>\n",
       "      <td>-20.833333</td>\n",
       "    </tr>\n",
       "    <tr>\n",
       "      <th>10</th>\n",
       "      <td>14</td>\n",
       "      <td>987</td>\n",
       "      <td>11.08.2020</td>\n",
       "      <td>шт.</td>\n",
       "      <td>7680.00</td>\n",
       "      <td>24</td>\n",
       "      <td>184320.00</td>\n",
       "      <td>19.0</td>\n",
       "      <td>2020-08</td>\n",
       "      <td>145920.0</td>\n",
       "      <td>-20.833333</td>\n",
       "    </tr>\n",
       "    <tr>\n",
       "      <th>11</th>\n",
       "      <td>14</td>\n",
       "      <td>987</td>\n",
       "      <td>05.08.2020</td>\n",
       "      <td>шт.</td>\n",
       "      <td>7680.00</td>\n",
       "      <td>24</td>\n",
       "      <td>184320.00</td>\n",
       "      <td>19.0</td>\n",
       "      <td>2020-08</td>\n",
       "      <td>145920.0</td>\n",
       "      <td>-20.833333</td>\n",
       "    </tr>\n",
       "    <tr>\n",
       "      <th>12</th>\n",
       "      <td>14</td>\n",
       "      <td>987</td>\n",
       "      <td>05.08.2020</td>\n",
       "      <td>шт.</td>\n",
       "      <td>7680.00</td>\n",
       "      <td>24</td>\n",
       "      <td>184320.00</td>\n",
       "      <td>19.0</td>\n",
       "      <td>2020-08</td>\n",
       "      <td>145920.0</td>\n",
       "      <td>-20.833333</td>\n",
       "    </tr>\n",
       "    <tr>\n",
       "      <th>13</th>\n",
       "      <td>14</td>\n",
       "      <td>987</td>\n",
       "      <td>05.08.2020</td>\n",
       "      <td>шт.</td>\n",
       "      <td>7680.00</td>\n",
       "      <td>24</td>\n",
       "      <td>184320.00</td>\n",
       "      <td>19.0</td>\n",
       "      <td>2020-08</td>\n",
       "      <td>145920.0</td>\n",
       "      <td>-20.833333</td>\n",
       "    </tr>\n",
       "    <tr>\n",
       "      <th>14</th>\n",
       "      <td>14</td>\n",
       "      <td>987</td>\n",
       "      <td>14.08.2020</td>\n",
       "      <td>шт.</td>\n",
       "      <td>7680.00</td>\n",
       "      <td>24</td>\n",
       "      <td>184320.00</td>\n",
       "      <td>19.0</td>\n",
       "      <td>2020-08</td>\n",
       "      <td>145920.0</td>\n",
       "      <td>-20.833333</td>\n",
       "    </tr>\n",
       "    <tr>\n",
       "      <th>15</th>\n",
       "      <td>7</td>\n",
       "      <td>150</td>\n",
       "      <td>26.03.2020</td>\n",
       "      <td>т</td>\n",
       "      <td>0.01</td>\n",
       "      <td>47520</td>\n",
       "      <td>475.20</td>\n",
       "      <td>37990.0</td>\n",
       "      <td>2020-03</td>\n",
       "      <td>379.9</td>\n",
       "      <td>-20.054714</td>\n",
       "    </tr>\n",
       "    <tr>\n",
       "      <th>16</th>\n",
       "      <td>7</td>\n",
       "      <td>315</td>\n",
       "      <td>19.02.2020</td>\n",
       "      <td>т</td>\n",
       "      <td>22.71</td>\n",
       "      <td>38532</td>\n",
       "      <td>875061.72</td>\n",
       "      <td>30890.0</td>\n",
       "      <td>2020-02</td>\n",
       "      <td>701511.9</td>\n",
       "      <td>-19.832866</td>\n",
       "    </tr>\n",
       "    <tr>\n",
       "      <th>17</th>\n",
       "      <td>7</td>\n",
       "      <td>356</td>\n",
       "      <td>19.02.2020</td>\n",
       "      <td>т</td>\n",
       "      <td>4.02</td>\n",
       "      <td>38301</td>\n",
       "      <td>153970.02</td>\n",
       "      <td>30790.0</td>\n",
       "      <td>2020-02</td>\n",
       "      <td>123775.8</td>\n",
       "      <td>-19.610454</td>\n",
       "    </tr>\n",
       "    <tr>\n",
       "      <th>18</th>\n",
       "      <td>7</td>\n",
       "      <td>101</td>\n",
       "      <td>10.07.2020</td>\n",
       "      <td>т</td>\n",
       "      <td>20.00</td>\n",
       "      <td>41880</td>\n",
       "      <td>837600.00</td>\n",
       "      <td>34390.0</td>\n",
       "      <td>2020-07</td>\n",
       "      <td>687800.0</td>\n",
       "      <td>-17.884432</td>\n",
       "    </tr>\n",
       "  </tbody>\n",
       "</table>\n",
       "</div>"
      ],
      "text/plain": [
       "    category  material        date unit   amount  price        sum  \\\n",
       "0         14       987  15.06.2020  шт.  7200.00     44  316800.00   \n",
       "1         14       987  25.05.2020  шт.  7200.00     44  316800.00   \n",
       "2         14       987  15.06.2020  шт.  7200.00     44  316800.00   \n",
       "3         14       987  07.08.2020  шт.  7680.00     24  184320.00   \n",
       "4         14       987  14.08.2020  шт.  7680.00     24  184320.00   \n",
       "5         14       987  07.08.2020  шт.  7680.00     24  184320.00   \n",
       "6         14       987  14.08.2020  шт.  7680.00     24  184320.00   \n",
       "7         14       987  11.08.2020  шт.  7680.00     24  184320.00   \n",
       "8         14       987  05.08.2020  шт.  7680.00     24  184320.00   \n",
       "9         14       987  05.08.2020  шт.  7680.00     24  184320.00   \n",
       "10        14       987  11.08.2020  шт.  7680.00     24  184320.00   \n",
       "11        14       987  05.08.2020  шт.  7680.00     24  184320.00   \n",
       "12        14       987  05.08.2020  шт.  7680.00     24  184320.00   \n",
       "13        14       987  05.08.2020  шт.  7680.00     24  184320.00   \n",
       "14        14       987  14.08.2020  шт.  7680.00     24  184320.00   \n",
       "15         7       150  26.03.2020    т     0.01  47520     475.20   \n",
       "16         7       315  19.02.2020    т    22.71  38532  875061.72   \n",
       "17         7       356  19.02.2020    т     4.02  38301  153970.02   \n",
       "18         7       101  10.07.2020    т    20.00  41880  837600.00   \n",
       "\n",
       "    marketprice date_parsed  market_sum       diff  \n",
       "0          20.0     2020-06    144000.0 -54.545455  \n",
       "1          20.0     2020-05    144000.0 -54.545455  \n",
       "2          20.0     2020-06    144000.0 -54.545455  \n",
       "3          19.0     2020-08    145920.0 -20.833333  \n",
       "4          19.0     2020-08    145920.0 -20.833333  \n",
       "5          19.0     2020-08    145920.0 -20.833333  \n",
       "6          19.0     2020-08    145920.0 -20.833333  \n",
       "7          19.0     2020-08    145920.0 -20.833333  \n",
       "8          19.0     2020-08    145920.0 -20.833333  \n",
       "9          19.0     2020-08    145920.0 -20.833333  \n",
       "10         19.0     2020-08    145920.0 -20.833333  \n",
       "11         19.0     2020-08    145920.0 -20.833333  \n",
       "12         19.0     2020-08    145920.0 -20.833333  \n",
       "13         19.0     2020-08    145920.0 -20.833333  \n",
       "14         19.0     2020-08    145920.0 -20.833333  \n",
       "15      37990.0     2020-03       379.9 -20.054714  \n",
       "16      30890.0     2020-02    701511.9 -19.832866  \n",
       "17      30790.0     2020-02    123775.8 -19.610454  \n",
       "18      34390.0     2020-07    687800.0 -17.884432  "
      ]
     },
     "execution_count": 66,
     "metadata": {},
     "output_type": "execute_result"
    }
   ],
   "source": [
    "top10_bad = df_market.sort_values('diff', ascending=True).head(19).reset_index(drop=True)\n",
    "top10_bad"
   ]
  },
  {
   "cell_type": "code",
   "execution_count": 67,
   "metadata": {},
   "outputs": [
    {
     "data": {
      "image/png": "[encoded data removed]",
      "text/plain": [
       "<Figure size 720x720 with 1 Axes>"
      ]
     },
     "metadata": {
      "needs_background": "light"
     },
     "output_type": "display_data"
    }
   ],
   "source": [
    "#Построим график «Топ-5 материалов, по которым цена выше рынка»:\n",
    "plt.figure(figsize=(10,10))\n",
    "plt.title(\"Топ-5 материалов, по которым цена выше рынка\")\n",
    "sns.barplot(x=top10_bad['material'], y=top10_bad['diff'])\n",
    "plt.xlabel(\"Материалы\")\n",
    "plt.ylabel(\"Разница с рыночной ценой в %\")\n",
    "plt.show()"
   ]
  },
  {
   "cell_type": "code",
   "execution_count": null,
   "metadata": {},
   "outputs": [],
   "source": []
  }
 ],
 "metadata": {
  "kernelspec": {
   "display_name": "Python 3 (ipykernel)",
   "language": "python",
   "name": "python3"
  },
  "language_info": {
   "codemirror_mode": {
    "name": "ipython",
    "version": 3
   },
   "file_extension": ".py",
   "mimetype": "text/x-python",
   "name": "python",
   "nbconvert_exporter": "python",
   "pygments_lexer": "ipython3",
   "version": "3.9.12"
  }
 },
 "nbformat": 4,
 "nbformat_minor": 4
}
